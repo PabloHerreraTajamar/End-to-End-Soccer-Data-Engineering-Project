{
 "cells": [
  {
   "cell_type": "code",
   "execution_count": 0,
   "metadata": {
    "application/vnd.databricks.v1+cell": {
     "cellMetadata": {
      "byteLimit": 2048000,
      "rowLimit": 10000
     },
     "inputWidgets": {},
     "nuid": "80fb2472-4d63-4171-a01a-fa8559b5ec03",
     "showTitle": false,
     "tableResultSettingsMap": {},
     "title": ""
    }
   },
   "outputs": [
    {
     "output_type": "display_data",
     "data": {
      "text/html": [
       "<style scoped>\n",
       "  .table-result-container {\n",
       "    max-height: 300px;\n",
       "    overflow: auto;\n",
       "  }\n",
       "  table, th, td {\n",
       "    border: 1px solid black;\n",
       "    border-collapse: collapse;\n",
       "  }\n",
       "  th, td {\n",
       "    padding: 5px;\n",
       "  }\n",
       "  th {\n",
       "    text-align: left;\n",
       "  }\n",
       "</style><div class='table-result-container'><table class='table-result'><thead style='background-color: white'><tr><th>Stadium</th><th>Capacity</th><th>Region</th><th>Country</th><th>City</th><th>Image</th><th>Clubs</th></tr></thead><tbody><tr><td>Rungrado 1st of May Stadium♦</td><td>114,000[1]</td><td>East Asia</td><td>North Korea</td><td>Pyongyang</td><td></td><td>Korea DPR national football team,Korea DPR women's national football team,April 25</td></tr><tr><td>Michigan Stadium</td><td>107,601[2]</td><td>North America</td><td>United States</td><td>Ann Arbor, Michigan</td><td></td><td>Michigan Wolverines football</td></tr><tr><td>Ohio Stadium</td><td>102,780[3]</td><td>North America</td><td>United States</td><td>Columbus, Ohio</td><td></td><td>Ohio State Buckeyes football</td></tr><tr><td>Melbourne Cricket Ground♦</td><td>100,024[4]</td><td>Oceania</td><td>Australia</td><td>Melbourne,Victoria</td><td></td><td>Australia national cricket team,Victoria cricket team,Melbourne Cricket Club,Melbourne Stars,Melbourne FC,Richmond FC,Collingwood FC,Hawthorn FC</td></tr><tr><td>Camp Nou♦</td><td>99,354[5]</td><td>Europe</td><td>Spain</td><td>Barcelona, Catalonia</td><td></td><td>FC Barcelona</td></tr><tr><td>Estadio Azteca♦</td><td>95,500[6]</td><td>North America</td><td>Mexico</td><td>Mexico City</td><td></td><td>Club América,Cruz Azul,Mexico national football team</td></tr><tr><td>FNB Stadium♦</td><td>94,736[7]</td><td>Africa</td><td>South Africa</td><td>Johannesburg,Gauteng</td><td></td><td>South Africa national football team,Kaizer Chiefs</td></tr><tr><td>New Administrative Capital Stadium♦</td><td>93,940[8]</td><td>Africa</td><td>Egypt</td><td>New Administrative Capital</td><td></td><td>Egypt national football team</td></tr><tr><td>Rose Bowl Stadium</td><td>92,800[9]</td><td>North America</td><td>United States</td><td>Pasadena, California</td><td></td><td>UCLA Bruins</td></tr><tr><td>Cotton Bowl Stadium</td><td>92,100[10]</td><td>North America</td><td>United States</td><td>Dallas,Texas</td><td></td><td></td></tr><tr><td>Wembley Stadium♦</td><td>90,000[11]</td><td>Europe</td><td>England</td><td>London, England</td><td></td><td>England national football team</td></tr><tr><td>Lusail Stadium♦</td><td>88,966[12]</td><td>West Asia</td><td>Qatar</td><td>Lusail</td><td></td><td>Qatar national football team</td></tr><tr><td>Bukit Jalil National Stadium♦</td><td>87,411</td><td>Southeast Asia</td><td>Malaysia</td><td>Kuala Lumpur</td><td></td><td>Malaysia national football team[13]</td></tr><tr><td>Borg el-Arab Stadium</td><td>86,000[14]</td><td>Africa</td><td>Egypt</td><td>Alexandria</td><td></td><td>Egypt national football team,Al Ittihad,Smouha</td></tr><tr><td>Estadio Santiago Bernabéu</td><td>85,000[15]</td><td>Europe</td><td>Spain</td><td>Madrid</td><td></td><td>Real Madrid</td></tr><tr><td>Estadio Mâs Monumental♦</td><td>84,567</td><td>South America</td><td>Argentina</td><td>Buenos Aires</td><td></td><td>Argentina national football team,River Plate</td></tr><tr><td>Stadium Australia</td><td>83,500</td><td>Oceania</td><td>Australia</td><td>Sydney,New South Wales</td><td></td><td>South Sydney Rabbitohs,Canterbury-Bankstown Bulldogs,New South Wales Blues,New South Wales Waratahs,Australia men's national soccer team,Australia national rugby union team</td></tr><tr><td>MetLife Stadium</td><td>82,500</td><td>North America</td><td>United States</td><td>East Rutherford, New Jersey</td><td></td><td>New York Giants,New York Jets,United States men's national soccer team</td></tr><tr><td>Croke Park♦</td><td>82,300[16]</td><td>Europe</td><td>Ireland</td><td>Dublin</td><td></td><td>Gaelic Athletic Association,Dublin GAA</td></tr><tr><td>Jakarta International Stadium♦</td><td>82,000</td><td>Southeast Asia</td><td>Indonesia</td><td>Jakarta</td><td></td><td>Persija Jakarta,Indonesia national football team</td></tr><tr><td>Lambeau Field</td><td>81,441[17]</td><td>North America</td><td>United States</td><td>Green Bay, Wisconsin</td><td></td><td>Green Bay Packers</td></tr><tr><td>Signal Iduna Park♦</td><td>81,365</td><td>Europe</td><td>Germany</td><td>Dortmund</td><td></td><td>Borussia Dortmund</td></tr><tr><td>Stade de France♦</td><td>81,338[18]</td><td>Europe</td><td>France</td><td>Saint-Denis</td><td></td><td>France national football team</td></tr><tr><td>Grand Sports Arena of the Luzhniki Olympic Complex♦</td><td>81,000</td><td>Europe</td><td>Russia</td><td>Moscow</td><td></td><td></td></tr><tr><td>Shah Alam Stadium</td><td>80,372</td><td>Southeast Asia</td><td>Malaysia</td><td>Shah Alam, Selangor</td><td></td><td>Selangor FA</td></tr><tr><td>Estadio Monumental♦</td><td>80,093</td><td>South America</td><td>Peru</td><td>Lima</td><td></td><td>Club Universitario de Deportes</td></tr><tr><td>Stadio Giuseppe Meazza♦</td><td>80,018</td><td>Europe</td><td>Italy</td><td>Milan, Lombardy</td><td></td><td>AC MilanandInternazionale</td></tr><tr><td>Guangdong Olympic Stadium♦</td><td>80,012</td><td>East Asia</td><td>China</td><td>Guangzhou,Guangdong</td><td></td><td></td></tr><tr><td>Hangzhou Olympic Sports Expo Centre Stadium</td><td>80,000</td><td>East Asia</td><td>China</td><td>Hangzhou,Zhejiang</td><td></td><td></td></tr><tr><td>AT&T Stadium♦</td><td>80,000[19]</td><td>North America</td><td>United States</td><td>Arlington, Texas</td><td></td><td>Dallas Cowboys,FC Dallas</td></tr><tr><td>Stade des Martyrs♦</td><td>80,000</td><td>Africa</td><td>DR Congo</td><td>Kinshasa</td><td></td><td>Congo DR national football team</td></tr><tr><td>Stade Tata Raphaël♦</td><td>80,000</td><td>Africa</td><td>DR Congo</td><td>Kinshasa</td><td></td><td>AS Vita Club,DC Motema Pembe</td></tr><tr><td>National Sports Stadium♦</td><td>80,000</td><td>Africa</td><td>Zimbabwe</td><td>Harare</td><td></td><td>Zimbabwe national football team</td></tr><tr><td>Moi International Sports Centre♦</td><td>80,000</td><td>Africa</td><td>Kenya</td><td>Nairobi</td><td></td><td>Kenya national football team</td></tr><tr><td>Beijing National Stadium</td><td>80,000[20]</td><td>East Asia</td><td>China</td><td>Beijing</td><td></td><td></td></tr><tr><td>Stade Léopold Sédar Senghor♦</td><td>80,000</td><td>Africa</td><td>Senegal</td><td>Dakar</td><td></td><td>Senegal national football team,ASC Jeanne d'Arc</td></tr><tr><td>Maracanã♦</td><td>78,838[21][22]</td><td>South America</td><td>Brazil</td><td>Rio de Janeiro, Rio de Janeiro</td><td></td><td>CR Flamengo,Fluminense FC,Botafogo FR,CR Vasco da Gama</td></tr><tr><td>Los Angeles Memorial Coliseum</td><td>78,467</td><td>North America</td><td>United States</td><td>Los Angeles, California</td><td></td><td>USC Trojans</td></tr><tr><td>Azadi Stadium♦</td><td>78,116[23][24]</td><td>West Asia</td><td>Iran</td><td>Tehran</td><td></td><td>Iran national football team,Esteghlal FC,Persepolis FC</td></tr><tr><td>Stadion Utama Gelora Bung Karno</td><td>77,193[25]</td><td>Southeast Asia</td><td>Indonesia</td><td>Jakarta</td><td></td><td>Indonesia national football team,</td></tr><tr><td>Caesar's Superdome</td><td>76,468[26]</td><td>North America</td><td>United States</td><td>New Orleans, Louisiana</td><td></td><td>New Orleans Saints,Sugar Bowl</td></tr><tr><td>Arrowhead Stadium</td><td>76,412[27]</td><td>North America</td><td>United States</td><td>Kansas City, Missouri</td><td></td><td>Kansas City Chiefs</td></tr><tr><td>Empower Field</td><td>76,125[28]</td><td>North America</td><td>United States</td><td>Denver</td><td></td><td>Denver Broncos</td></tr><tr><td>Atatürk Olimpiyat Stadyumu♦</td><td>76,092[29]</td><td>Europe</td><td>Turkey</td><td>Istanbul</td><td></td><td></td></tr><tr><td>Old Trafford</td><td>76,000</td><td>Europe</td><td>England</td><td>Manchester,North West England</td><td></td><td>Manchester United</td></tr><tr><td>Allianz Arena</td><td>75,024[30]</td><td>Europe</td><td>Germany</td><td>Munich</td><td></td><td>FC Bayern Munich</td></tr><tr><td>Naghsh-e-Jahan Stadium</td><td>75,000</td><td>West Asia</td><td>Iran</td><td>Isfahan</td><td></td><td>Sepahan FC</td></tr><tr><td>Bank of America Stadium</td><td>74,867</td><td>North America</td><td>United States</td><td>Charlotte, North Carolina</td><td></td><td>Charlotte FC,Carolina Panthers</td></tr><tr><td>Principality Stadium♦</td><td>74,500</td><td>Europe</td><td>Wales</td><td>Cardiff</td><td></td><td>Wales national rugby union team</td></tr><tr><td>Olympiastadion</td><td>74,475</td><td>Europe</td><td>Germany</td><td>Berlin</td><td></td><td>Hertha BSC</td></tr><tr><td>Cairo International Stadium</td><td>74,100</td><td>Africa</td><td>Egypt</td><td>Cairo</td><td></td><td>Egypt national football team,Al Ahly,Zamalek</td></tr><tr><td>FirstEnergy Stadium</td><td>73,200[31]</td><td>North America</td><td>United States</td><td>Cleveland</td><td></td><td>Cleveland Browns</td></tr><tr><td>Estádio Nacional Mané Garrincha</td><td>72,788</td><td>South America</td><td>Brazil</td><td>Brasília, Distrito Federal</td><td></td><td>Brasília FC,Legião FC</td></tr><tr><td>Stadio Olimpico</td><td>72,698</td><td>Europe</td><td>Italy</td><td>Rome, Lazio</td><td></td><td>AS Roma,Lazio</td></tr><tr><td>Nissan Stadium♦</td><td>72,327[32]</td><td>East Asia</td><td>Japan</td><td>Yokohama, Kanagawa</td><td></td><td>Yokohama F. Marinos,Yokohama Eagles</td></tr><tr><td>NRG Stadium</td><td>72,220</td><td>North America</td><td>United States</td><td>Houston, Texas</td><td></td><td>Houston Texans,Houston Dynamo FC</td></tr><tr><td>Shanghai Stadium</td><td>72,000</td><td>East Asia</td><td>China</td><td>Shanghai</td><td></td><td>Shanghai Shenhua</td></tr><tr><td>M&T Bank Stadium</td><td>71,008[33]</td><td>North America</td><td>United States</td><td>Baltimore</td><td></td><td>Baltimore Ravens</td></tr><tr><td>Mercedes-Benz Stadium</td><td>71,000</td><td>North America</td><td>United States</td><td>Atlanta, Georgia</td><td></td><td>Atlanta United FC,Atlanta Falcons</td></tr><tr><td>Riyadh Air Metropolitano</td><td>70,692</td><td>Europe</td><td>Spain</td><td>Madrid</td><td></td><td>Atlético de Madrid</td></tr><tr><td>Olympic National Sports Complex Stadium♦</td><td>70,000[34]</td><td>Europe</td><td>Ukraine</td><td>Kyiv</td><td></td><td>Ukraine national football team,FC Dynamo Kyiv</td></tr><tr><td>SoFi Stadium</td><td>70,000</td><td>North America</td><td>United States</td><td>Inglewood, California</td><td></td><td></td></tr><tr><td>Seoul Olympic Stadium♦</td><td>69,950</td><td>East Asia</td><td>South Korea</td><td>Seoul</td><td></td><td></td></tr><tr><td>Bakı Olimpiya stadionu♦</td><td>69,870</td><td>West Asia</td><td>Azerbaijan</td><td>Baku</td><td></td><td>Azerbaijan national football team</td></tr><tr><td>Olympic Stadium♦</td><td>69,618</td><td>Europe</td><td>Greece</td><td>Marousi,Attica</td><td></td><td>Greece national football team</td></tr><tr><td>Olympiastadion München</td><td>69,250</td><td>Europe</td><td>Germany</td><td>Munich</td><td></td><td></td></tr><tr><td>Lumen Field</td><td>69,000</td><td>North America</td><td>United States</td><td>Seattle, Washington</td><td></td><td>Seattle Sounders FC,Seattle Seahawks</td></tr><tr><td>Estadio Olímpico Universitario</td><td>68,954</td><td>North America</td><td>Mexico</td><td>Mexico City</td><td></td><td>UNAM Pumas</td></tr><tr><td>Gillette Stadium</td><td>68,756</td><td>North America</td><td>United States</td><td>Foxborough, Massachusetts</td><td></td><td>New England Patriots,New England Revolution</td></tr><tr><td>King Abdullah Sports City Stadium♦</td><td>68,560</td><td>West Asia</td><td>Saudi Arabia</td><td>Jeddah</td><td></td><td>Saudi Arabia national football team,Al-Ahli Saudi FC,Al-Ittihad Saudi Club</td></tr><tr><td>Lincoln Financial Field</td><td>68,532</td><td>North America</td><td>United States</td><td>Philadelphia</td><td></td><td>Philadelphia Eagles,Temple Owls football</td></tr><tr><td>Levi's Stadium</td><td>68,500</td><td>North America</td><td>United States</td><td>Santa Clara, California</td><td></td><td>San Francisco 49ers</td></tr><tr><td>Acrisure Stadium</td><td>68,400[35]</td><td>North America</td><td>United States</td><td>Pittsburgh</td><td></td><td>Pittsburgh Steelers,Pittsburgh Panthers football</td></tr><tr><td>Gazprom Arena</td><td>68,134</td><td>Europe</td><td>Russia</td><td>Saint Petersburg</td><td></td><td>FC Zenit Saint Petersburg</td></tr><tr><td>Salt Lake Stadium♦</td><td>68,000[36][37]</td><td>South Asia</td><td>India</td><td>Kolkata</td><td></td><td>India national football team,Mohun Bagan Super Giant,East Bengal FC,Mohammedan SC</td></tr><tr><td>National Stadium</td><td>68,000</td><td>East Asia</td><td>Japan</td><td>Tokyo</td><td></td><td></td></tr><tr><td>TIAA Bank Field</td><td>67,814[38]</td><td>North America</td><td>United States</td><td>Jacksonville, Florida</td><td></td><td>Jacksonville Jaguars</td></tr><tr><td>Orange Vélodrome</td><td>67,394</td><td>Europe</td><td>France</td><td>Marseille</td><td></td><td>Olympique de Marseille</td></tr><tr><td>Puskás Aréna♦</td><td>67,215</td><td>Europe</td><td>Hungary</td><td>Budapest</td><td></td><td>Hungary national football team</td></tr><tr><td>Scottish Gas Murrayfield Stadium</td><td>67,144</td><td>Europe</td><td>Scotland</td><td>Edinburgh</td><td></td><td>Scotland national rugby union team</td></tr><tr><td>Lucas Oil Stadium</td><td>67,000</td><td>North America</td><td>United States</td><td>Indianapolis, Indiana</td><td></td><td>Indianapolis Colts</td></tr><tr><td>MorumBIS</td><td>66,975</td><td>South America</td><td>Brazil</td><td>São Paulo, São Paulo</td><td></td><td>São Paulo FC</td></tr><tr><td>The Dome</td><td>66,965</td><td>North America</td><td>United States</td><td>St. Louis</td><td></td><td>St. Louis BattleHawks</td></tr><tr><td>Yadegar-e-Emam Stadium</td><td>66,833</td><td>West Asia</td><td>Iran</td><td>Tabriz</td><td></td><td>Tractor Sazi FC</td></tr><tr><td>Seoul World Cup Stadium</td><td>66,704</td><td>East Asia</td><td>South Korea</td><td>Seoul</td><td></td><td>FC Seoul</td></tr><tr><td>US Bank Stadium</td><td>66,655</td><td>North America</td><td>United States</td><td>Minneapolis</td><td></td><td>Minnesota Vikings</td></tr><tr><td>Daegu Stadium</td><td>66,422</td><td>East Asia</td><td>South Korea</td><td>Daegu</td><td></td><td>Daegu FC</td></tr><tr><td>Workers' Stadium</td><td>66,161</td><td>East Asia</td><td>China</td><td>Beijing</td><td></td><td>Beijing Guoan,China national football team</td></tr><tr><td>London Stadium</td><td>66,000</td><td>Europe</td><td>England</td><td>London</td><td></td><td>West Ham United</td></tr><tr><td>Raymond James Stadium</td><td>65,847</td><td>North America</td><td>United States</td><td>Tampa, Florida</td><td></td><td>Tampa Bay Buccaneers,South Florida Bulls football,Tampa Bay Vipers</td></tr><tr><td>Hard Rock Stadium</td><td>65,326[39]</td><td>North America</td><td>United States</td><td>Miami Gardens, Florida</td><td></td><td>Miami Dolphins,Miami Hurricanes football</td></tr><tr><td>Olympic Stadium♦</td><td>65,255</td><td>North America</td><td>Canada</td><td>Montreal, Quebec</td><td></td><td>CF Montréal</td></tr><tr><td>Basra International Stadium♦</td><td>65,227</td><td>West Asia</td><td>Iraq</td><td>Basra</td><td></td><td>Iraq national football team</td></tr><tr><td>Camping World Stadium</td><td>65,000</td><td>North America</td><td>United States</td><td>Orlando, Florida</td><td></td><td></td></tr><tr><td>Alamodome</td><td>65,000</td><td>North America</td><td>United States</td><td>San Antonio</td><td></td><td>UTSA Roadrunners football</td></tr><tr><td>Ford Field</td><td>65,000</td><td>North America</td><td>United States</td><td>Detroit</td><td></td><td>Detroit Lions</td></tr><tr><td>Stade Ibn Battuta</td><td>65,000</td><td>Africa</td><td>Morocco</td><td>Tangier</td><td></td><td>IR Tanger</td></tr><tr><td>Estádio do Sport Lisboa e Benfica♦</td><td>64,642</td><td>Europe</td><td>Portugal</td><td>Lisbon</td><td></td><td>Benfica</td></tr><tr><td>Stade du 5-juillet-1962♦</td><td>64,000[40]</td><td>Africa</td><td>Algeria</td><td>Algiers</td><td></td><td>Algeria national football team</td></tr><tr><td>Castelão</td><td>63,903</td><td>South America</td><td>Brazil</td><td>Fortaleza, Ceará</td><td></td><td>Ceará SC,Fortaleza EC</td></tr><tr><td>Saitama Stadium 2002</td><td>63,700[41]</td><td>East Asia</td><td>Japan</td><td>Saitama</td><td></td><td>Urawa Red Diamonds,Saitama Wild Knights</td></tr><tr><td>Ellis Park Stadium</td><td>62,567</td><td>Africa</td><td>South Africa</td><td>Johannesburg, Gauteng</td><td></td><td>Orlando Pirates FC,Emirates Johannesburg Lions</td></tr><tr><td>Tottenham Hotspur Stadium</td><td>62,303[42]</td><td>Europe</td><td>England</td><td>London</td><td></td><td>Tottenham Hotspur</td></tr><tr><td>VELTINS-Arena</td><td>62,271</td><td>Europe</td><td>Germany</td><td>Gelsenkirchen</td><td></td><td>FC Schalke 04</td></tr><tr><td>Yizhong Sports Centre Stadium</td><td>62,000</td><td>East Asia</td><td>China</td><td>Qingdao,Shandong</td><td></td><td>Qingdao Jonoon FC</td></tr><tr><td>Estádio Governador Magalhães Pinto</td><td>61,846[43]</td><td>South America</td><td>Brazil</td><td>Belo Horizonte, Minas Gerais</td><td></td><td>Atlético Mineiro,Cruzeiro EC</td></tr><tr><td>King Fahd International Stadium</td><td>61,781</td><td>West Asia</td><td>Saudi Arabia</td><td>Riyadh</td><td></td><td>Saudi Arabia national football team,Al-Hilal,Al-Nassr,Al-Shabab</td></tr><tr><td>Soldier Field</td><td>61,500</td><td>North America</td><td>United States</td><td>Chicago</td><td></td><td>Chicago Bears</td></tr><tr><td>Nanjing Olympic Sports Centre Stadium</td><td>61,443</td><td>East Asia</td><td>China</td><td>Nanjing,Jiangsu</td><td></td><td></td></tr><tr><td>Anfield</td><td>61,276[44]</td><td>Europe</td><td>England</td><td>Liverpool, England</td><td></td><td>Liverpool FC</td></tr><tr><td>Estadio Benito Villamarín</td><td>60,720</td><td>Europe</td><td>Spain</td><td>Seville</td><td></td><td>Real Betis</td></tr><tr><td>Abuja Stadium♦</td><td>60,491</td><td>Africa</td><td>Nigeria</td><td>Abuja</td><td></td><td>Nigeria national football team</td></tr><tr><td>MHPArena</td><td>60,469</td><td>Europe</td><td>Germany</td><td>Stuttgart</td><td></td><td>VfB Stuttgart</td></tr><tr><td>Celtic Park♦</td><td>60,411[45]</td><td>Europe</td><td>Scotland</td><td>Glasgow</td><td></td><td>Celtic FC</td></tr><tr><td>Estadio de la UNSA</td><td>60,370</td><td>South America</td><td>Peru</td><td>Arequipa</td><td></td><td>FBC Melgar</td></tr><tr><td>Emirates Stadium</td><td>60,338[46]</td><td>Europe</td><td>England</td><td>London</td><td></td><td>Arsenal</td></tr><tr><td>Shenzhen Universiade Sports Centre Stadium</td><td>60,334</td><td>East Asia</td><td>China</td><td>Shenzhen,Guangdong</td><td></td><td></td></tr><tr><td>Estadio Centenario♦</td><td>60,235</td><td>South America</td><td>Uruguay</td><td>Montevideo</td><td></td><td>Uruguay national football team</td></tr><tr><td>Estádio José do Rego Maciel</td><td>60,044</td><td>South America</td><td>Brazil</td><td>Recife,Pernambuco</td><td></td><td>Santa Cruz FC</td></tr><tr><td>Al-Bayt Stadium</td><td>60,000</td><td>West Asia</td><td>Qatar</td><td>Al-Khor</td><td></td><td></td></tr><tr><td>Benjamin Mkapa National Stadium♦</td><td>60,000</td><td>Africa</td><td>Tanzania</td><td>Dar es-Salaam</td><td></td><td>Tanzania national football team,Young Africans</td></tr><tr><td>Hefei Olympic Sports Centre Stadium</td><td>60,000</td><td>East Asia</td><td>China</td><td>Hefei,Anhui</td><td></td><td>Anhui Jiufang</td></tr><tr><td>Jaber al-Ahmad International Stadium♦</td><td>60,000</td><td>West Asia</td><td>Kuwait</td><td>Kuwait City</td><td></td><td>Kuwait national football team</td></tr><tr><td>Hammadi Agrebi Stadium♦</td><td>60,000</td><td>Africa</td><td>Tunisia</td><td>Tunis</td><td></td><td>Tunisia national football team</td></tr><tr><td>Jawaharlal Nehru Stadium</td><td>60,000[47]</td><td>South Asia</td><td>India</td><td>New Delhi</td><td></td><td></td></tr><tr><td>Mogadishu Stadium♦</td><td>60,000</td><td>Africa</td><td>Somalia</td><td>Mogadishu</td><td></td><td>Somalia national football team</td></tr><tr><td>National Heroes Stadium♦</td><td>60,000</td><td>Africa</td><td>Zambia</td><td>Lusaka</td><td></td><td>Zambian national football team</td></tr><tr><td>Autzen Stadium</td><td>60,000</td><td>North America</td><td>United States</td><td>Eugene, Oregon</td><td></td><td></td></tr><tr><td>Odi Stadium</td><td>60,000</td><td>Africa</td><td>South Africa</td><td>Mabopane, Gauteng</td><td></td><td></td></tr><tr><td>Morodok Techo National Stadium</td><td>60,000</td><td>Southeast Asia</td><td>Cambodia</td><td>Phnom Penh</td><td></td><td>Cambodia national football team</td></tr><tr><td>Shenyang Olympic Sports Centre Stadium</td><td>60,000</td><td>East Asia</td><td>China</td><td>Shenyang,Liaoning</td><td></td><td></td></tr><tr><td>Optus Stadium</td><td>60,000</td><td>Oceania</td><td>Australia</td><td>Perth, Western Australia</td><td></td><td>Perth Glory FC,Fremantle Dockers,West Coast Eagles</td></tr><tr><td>Estadio Monumental Isidro Romero Carbo♦</td><td>59,283[48]</td><td>South America</td><td>Ecuador</td><td>Guayaquil</td><td></td><td>Barcelona Sporting Club</td></tr><tr><td>Groupama Stadium</td><td>59,186</td><td>Europe</td><td>France</td><td>Décines-Charpieu</td><td></td><td>Olympique Lyonnais</td></tr><tr><td>Chongqing Olympic Sports Centre Stadium</td><td>58,680</td><td>East Asia</td><td>China</td><td>Chongqing</td><td></td><td></td></tr><tr><td>Kazimierz Górski National Stadium♦</td><td>58,580</td><td>Europe</td><td>Poland</td><td>Warsaw</td><td></td><td>Poland national football team</td></tr><tr><td>Stadio San Nicola</td><td>58,270</td><td>Europe</td><td>Italy</td><td>Bari, Apulia</td><td></td><td>SSC Bari</td></tr><tr><td>Commanders Field</td><td>58,000</td><td>North America</td><td>United States</td><td>Landover, Maryland</td><td></td><td>Washington Commanders</td></tr><tr><td>Deutsche Bank Park</td><td>58,000[49]</td><td>Europe</td><td>Germany</td><td>Frankfurt</td><td></td><td>Eintracht Frankfurt</td></tr><tr><td>Estadio La Cartuja de Sevilla</td><td>57,619</td><td>Europe</td><td>Spain</td><td>Seville</td><td></td><td></td></tr><tr><td>Carter–Finley Stadium</td><td>57,583[50]</td><td>North America</td><td>United States</td><td>Raleigh, North Carolina</td><td></td><td>NC State Wolfpack football</td></tr><tr><td>La Bombonera</td><td>57,200</td><td>South America</td><td>Argentina</td><td>Buenos Aires</td><td></td><td>CA Boca Juniors</td></tr><tr><td>Volksparkstadion</td><td>57,030</td><td>Europe</td><td>Germany</td><td>Hamburg</td><td></td><td>Hamburger SV</td></tr><tr><td>Estadio Mario Alberto Kempes</td><td>57,000</td><td>South America</td><td>Argentina</td><td>Córdoba</td><td></td><td>Talleres de Córdoba, someBelgrano de Córdobamatches.</td></tr><tr><td>Jinan Olympic Sports Centre Stadium</td><td>56,808</td><td>East Asia</td><td>China</td><td>Jinan,Shandong</td><td></td><td>Shandong Taishan</td></tr><tr><td>Estadio Jalisco</td><td>56,713[51]</td><td>North America</td><td>Mexico</td><td>Guadalajara, Jalisco</td><td></td><td>Atlas</td></tr><tr><td>Commonwealth Stadium</td><td>56,302</td><td>North America</td><td>Canada</td><td>Edmonton, Alberta</td><td></td><td>Edmonton Elks,Canadian men'sandwomen'snational teams</td></tr><tr><td>Dodger Stadium</td><td>56,000</td><td>North America</td><td>United States</td><td>Los Angeles</td><td></td><td>Los Angeles Dodgers</td></tr><tr><td>Stade du 19-mai-1956</td><td>56,000</td><td>Africa</td><td>Algeria</td><td>Annaba</td><td></td><td>USM Annaba</td></tr><tr><td>Estadi Olímpic Lluís Companys</td><td>55,926</td><td>Europe</td><td>Spain</td><td>Barcelona, Catalonia</td><td></td><td></td></tr><tr><td>Arena do Grêmio</td><td>55,662</td><td>South America</td><td>Brazil</td><td>Porto Alegre, Rio Grande do Sul</td><td></td><td>Grêmio FBPA</td></tr><tr><td>Arena Națională♦</td><td>55,634</td><td>Europe</td><td>Romania</td><td>Bucharest</td><td></td><td>Romania national football team</td></tr><tr><td>Stadion Rajko Mitić♦</td><td>55,538</td><td>Europe</td><td>Serbia</td><td>Belgrade</td><td></td><td>Red Star Belgrade,Serbia national football team</td></tr><tr><td>Stadion Śląski</td><td>55,211</td><td>Europe</td><td>Poland</td><td>Chorzów</td><td></td><td>Poland national football team,Ruch Chorzów</td></tr><tr><td>Etihad Stadium</td><td>55,097</td><td>Europe</td><td>England</td><td>Manchester, North West England</td><td></td><td>Manchester City</td></tr><tr><td>Mestalla</td><td>55,000</td><td>Europe</td><td>Spain</td><td>Valencia</td><td></td><td>Valencia CF</td></tr><tr><td>National Stadium♦</td><td>55,000</td><td>Southeast Asia</td><td>Singapore</td><td>Singapore</td><td></td><td>Singapore national football team</td></tr><tr><td>National Stadium♦</td><td>55,000</td><td>East Asia</td><td>Taiwan</td><td>Kaohsiung</td><td></td><td>Chinese Taipei national football team</td></tr><tr><td>He Long Stadium</td><td>55,000</td><td>East Asia</td><td>China</td><td>Changsha,Hunan</td><td></td><td></td></tr><tr><td>Cape Town Stadium</td><td>55,000</td><td>Africa</td><td>South Africa</td><td>Cape Town, Western Cape</td><td></td><td>Cape Town City FC,DHL Western Cape Stormers</td></tr><tr><td>Plovdiv Stadium♦</td><td>55,000</td><td>Europe</td><td>Bulgaria</td><td>Plovdiv</td><td></td><td></td></tr><tr><td>Bobby Dodd Stadium</td><td>55,000</td><td>North America</td><td>United States</td><td>Atlanta</td><td></td><td>Georgia Tech Yellow Jackets football</td></tr><tr><td>Johan Cruijff Arena♦</td><td>54,990[52]</td><td>Europe</td><td>Netherlands</td><td>Amsterdam</td><td></td><td>AFC Ajax</td></tr><tr><td>Tianhe Stadium</td><td>54,856</td><td>East Asia</td><td>China</td><td>Guangzhou,Guangdong</td><td></td><td></td></tr><tr><td>Stadio Diego Armando Maradona</td><td>54,726</td><td>Europe</td><td>Italy</td><td>Naples</td><td></td><td>SSC Napoli</td></tr><tr><td>Tianjin Olympic Sports Centre Stadium</td><td>54,696</td><td>East Asia</td><td>China</td><td>Tianjin</td><td></td><td>Tianjin Teda</td></tr><tr><td>MERKUR SPIEL-ARENA</td><td>54,600</td><td>Europe</td><td>Germany</td><td>Düsseldorf</td><td></td><td>Fortuna Düsseldorf</td></tr><tr><td>Boris Paitchadze Dinamo Arena♦</td><td>54,549</td><td>West Asia</td><td>Georgia</td><td>Tbilisi</td><td></td><td>Georgia national football team,FC Dinamo Tbilisi</td></tr><tr><td>Wuhan Sports Centre Stadium</td><td>54,357</td><td>East Asia</td><td>China</td><td>Wuhan,Hubei</td><td></td><td></td></tr><tr><td>BC Place Stadium</td><td>54,320</td><td>North America</td><td>Canada</td><td>Vancouver, British Columbia</td><td></td><td>Vancouver Whitecaps FC,BC Lions</td></tr><tr><td>Yankee Stadium</td><td>54,251</td><td>North America</td><td>United States</td><td>New York City</td><td></td><td>New York Yankees,New York City FC</td></tr><tr><td>Hrazdan Stadium♦</td><td>54,208</td><td>West Asia</td><td>Armenia</td><td>Yerevan</td><td></td><td>FC Ararat Yerevan,Ulisses FC</td></tr><tr><td>BORUSSIA-PARK</td><td>54,057</td><td>Europe</td><td>Germany</td><td>Mönchengladbach</td><td></td><td>Borussia Mönchengladbach</td></tr><tr><td>Moses Mabhida Stadium</td><td>54,000</td><td>Africa</td><td>South Africa</td><td>Durban, KwaZulu-Natal</td><td></td><td>AmaZulu FC,Cell C Durban Sharks</td></tr><tr><td>Busan Asiad Main Stadium</td><td>53,864</td><td>East Asia</td><td>South Korea</td><td>Busan</td><td></td><td>Busan IPark</td></tr><tr><td>Estádio Estadual Jornalista Edgar Augusto Proença</td><td>53,645</td><td>South America</td><td>Brazil</td><td>Belém,Pará</td><td></td><td>Paysandu SC,Clube do Remo,Tuna Luso Brasileira,SC Belem</td></tr><tr><td>Estadio Único Diego Armando Maradona</td><td>53,600</td><td>South America</td><td>Argentina</td><td>La Plata</td><td></td><td></td></tr><tr><td>Adelaide Oval</td><td>53,500</td><td>Oceania</td><td>Australia</td><td>Adelaide, South Australia</td><td></td><td>Adelaide Crows,Port Adelaide Power</td></tr><tr><td>Docklands Stadium</td><td>53,359</td><td>Oceania</td><td>Australia</td><td>Melbourne, Victoria</td><td></td><td>Western Bulldogs,Essendon,St. Kilda,Carlton,North Melbourne</td></tr><tr><td>Estádio Municipal João Havelange</td><td>53,350</td><td>South America</td><td>Brazil</td><td>Uberlândia, Minas Gerais</td><td></td><td>Uberlânia EC</td></tr><tr><td>San Mamés</td><td>53,332</td><td>Europe</td><td>Spain</td><td>Bilbao</td><td></td><td>Athletic Bilbao</td></tr><tr><td>Aleppo International Stadium♦</td><td>53,200</td><td>West Asia</td><td>Syria</td><td>Aleppo</td><td></td><td>Al-Ittihad</td></tr><tr><td>Estadio Nacional</td><td>53,086</td><td>South America</td><td>Peru</td><td>Lima</td><td></td><td>Peru national football team</td></tr><tr><td>Huanglong Stadium</td><td>52,672</td><td>East Asia</td><td>China</td><td>Hangzhou,Zhejiang</td><td></td><td>Hangzhou FC</td></tr><tr><td>RAMS Park</td><td>52,652</td><td>Europe</td><td>Turkey</td><td>Istanbul</td><td></td><td>Galatasaray</td></tr><tr><td>Suncorp Stadium</td><td>52,500</td><td>Oceania</td><td>Australia</td><td>Brisbane, Queensland</td><td></td><td>Brisbane Broncos,Queensland Maroons,Brisbane Roar FC,Queensland Reds</td></tr><tr><td>St. James' Park</td><td>52,405</td><td>Europe</td><td>England</td><td>Newcastle upon Tyne, North East</td><td></td><td>Newcastle United</td></tr><tr><td>Kings Park Stadium</td><td>52,000</td><td>Africa</td><td>South Africa</td><td>Durban, KwaZulu-Natal</td><td></td><td>Lamontville Golden Arrows,Cell C Durban Sharks</td></tr><tr><td>Newlands Stadium</td><td>51,900</td><td>Africa</td><td>South Africa</td><td>Cape Town, Western Cape</td><td></td><td></td></tr><tr><td>Hampden Park</td><td>51,866[53]</td><td>Europe</td><td>Scotland</td><td>Glasgow</td><td></td><td>Scotland national football team,Queen's Park</td></tr><tr><td>Estadio Monumental de Maturín♦</td><td>51,796</td><td>South America</td><td>Venezuela</td><td>Maturín</td><td></td><td>Monagas Sport Club</td></tr><tr><td>Loftus Versfeld Stadium</td><td>51,762</td><td>Africa</td><td>South Africa</td><td>Pretoria, Gauteng</td><td></td><td>SuperSport UnitedandVodacom Pretoria Bulls</td></tr><tr><td>Aviva Stadium♦</td><td>51,700</td><td>Europe</td><td>Ireland</td><td>Dublin</td><td></td><td>Leinster Rugby,Republic of Ireland national football team,Ireland national rugby union team</td></tr><tr><td>Guiyang Olympic Sports Centre Stadium</td><td>51,638</td><td>East Asia</td><td>China</td><td>Guiyang,Guizhou</td><td></td><td></td></tr><tr><td>Hohhot City Stadium</td><td>51,632</td><td>East Asia</td><td>China</td><td>Hohhot,Inner Mongolia</td><td></td><td></td></tr><tr><td>Rajamangala National Stadium♦</td><td>51,552</td><td>Southeast Asia</td><td>Thailand</td><td>Bangkok</td><td></td><td>Thailand national football team</td></tr><tr><td>Donbass Arena</td><td>51,504</td><td>Europe</td><td>Ukraine</td><td>Donetsk</td><td></td><td></td></tr><tr><td>El Cilindro</td><td>51,389</td><td>South America</td><td>Argentina</td><td>Avellaneda</td><td></td><td>Racing Club de Avellaneda</td></tr><tr><td>İzmir Atatürk Stadyumu</td><td>51,295</td><td>West Asia</td><td>Turkey</td><td>İzmir</td><td></td><td>Altay SK,Göztepe AŞ</td></tr><tr><td>Stadion Feijenoord</td><td>51,117</td><td>Europe</td><td>Netherlands</td><td>Rotterdam</td><td></td><td>Feyenoord</td></tr><tr><td>Estadio BBVA</td><td>51,000[54]</td><td>North America</td><td>Mexico</td><td>Monterrey</td><td></td><td>CF Monterrey</td></tr><tr><td>Ghadir Stadium</td><td>51,000</td><td>West Asia</td><td>Iran</td><td>Ahvaz</td><td></td><td>Foolad FC</td></tr><tr><td>Estádio José Pinheiro Borda</td><td>50,942</td><td>South America</td><td>Brazil</td><td>Porto Alegre.Rio Grande do Sul</td><td></td><td>SC Internacional</td></tr><tr><td>Ibrox Stadium</td><td>50,817[55]</td><td>Europe</td><td>Scotland</td><td>Glasgow</td><td></td><td>Rangers FC</td></tr><tr><td>Shizuoka Stadium</td><td>50,889[56]</td><td>East Asia</td><td>Japan</td><td>Fukuroi, Shizuoka</td><td></td><td>Júbilo Iwata,Shimizu S-Pulse,Shizuoka Blue Revs</td></tr><tr><td>Ernst-Happel-Stadion♦</td><td>50,865</td><td>Europe</td><td>Austria</td><td>Vienna</td><td></td><td>Austria national football team</td></tr><tr><td>Huntington Bank Stadium</td><td>50,805</td><td>North America</td><td>United States</td><td>Minneapolis</td><td></td><td>Minnesota Golden Gophers football</td></tr><tr><td>Estadio Cuauhtémoc</td><td>50,754</td><td>North America</td><td>Mexico</td><td>Puebla</td><td></td><td>Puebla FC</td></tr><tr><td>Strawberry Arena♦</td><td>50,653</td><td>Europe</td><td>Sweden</td><td>Solna</td><td></td><td>Sweden men's national football team,AIK Fotboll</td></tr><tr><td>Ülker Stadyumu</td><td>50,509</td><td>West Asia</td><td>Turkey</td><td>Istanbul</td><td></td><td>Fenerbahçe</td></tr><tr><td>Stanford Stadium</td><td>50,424</td><td>North America</td><td>United States</td><td>Palo Alto, California</td><td></td><td></td></tr><tr><td>Stade Pierre-Mauroy</td><td>50,186</td><td>Europe</td><td>France</td><td>Villeneuve-d'Ascq</td><td></td><td>Lille OSC</td></tr><tr><td>Stade Roi Baudouin♦</td><td>50,122</td><td>Europe</td><td>Belgium</td><td>Brussels</td><td></td><td>Belgium national football team</td></tr><tr><td>Shaanxi Province Stadium</td><td>50,100</td><td>East Asia</td><td>China</td><td>Xi'an,Shaanxi</td><td></td><td></td></tr><tr><td>Ajinomoto Stadium</td><td>50,100</td><td>East Asia</td><td>Japan</td><td>Chofu, Tokyo</td><td></td><td>FC Tokyo,Tokyo Verdy,Tokyo Sungoliath,Toshiba Brave Lupus Tokyo</td></tr><tr><td>Estádio José Alvalade</td><td>50,095</td><td>Europe</td><td>Portugal</td><td>Lisbon</td><td></td><td>Sporting CP</td></tr><tr><td>Estádio do Dragão</td><td>50,033</td><td>Europe</td><td>Portugal</td><td>Porto</td><td></td><td>FC Porto</td></tr><tr><td>Casa de Apostas Arena Fonte Nova</td><td>50,025</td><td>South America</td><td>Brazil</td><td>Salvador, Bahia</td><td></td><td>EC Bahia</td></tr><tr><td>Stade Olympique de Sousse</td><td>50,000</td><td>Africa</td><td>Tunisia</td><td>Sousse</td><td></td><td>Étoile du Sahel</td></tr><tr><td>RheinEnergieSTADION</td><td>50,000</td><td>Europe</td><td>Germany</td><td>Cologne</td><td></td><td>1. FC Köln</td></tr><tr><td>Harbin Sports City Centre Stadium</td><td>50,000</td><td>East Asia</td><td>China</td><td>Harbin,Heilongjiang</td><td></td><td></td></tr><tr><td>Greenfield International Stadium</td><td>50,000[57]</td><td>South Asia</td><td>India</td><td>Trivandrum</td><td></td><td></td></tr><tr><td>EMS Stadium</td><td>50,000</td><td>South Asia</td><td>India</td><td>Kozhikode</td><td></td><td>India national football team,Gokulam Kerala FC</td></tr><tr><td>KD Singh Babu Stadium</td><td>50,000</td><td>South Asia</td><td>India</td><td>Lucknow</td><td></td><td></td></tr><tr><td>Eden Park♦</td><td>50,000</td><td>Oceania</td><td>New Zealand</td><td>Auckland</td><td></td><td>Auckland Blues,New Zealand Warriors</td></tr><tr><td>Estádio 11 de Novembro♦</td><td>50,000</td><td>Africa</td><td>Angola</td><td>Luanda</td><td></td><td>Angola national football team,Primeiro de Agosto,Petro Luanda</td></tr><tr><td>Henan Provincial Stadium</td><td>50,000</td><td>East Asia</td><td>China</td><td>Zhengzhou,Henan</td><td></td><td></td></tr><tr><td>Jiangxi Olympic Sports Center</td><td>50,000</td><td>East Asia</td><td>China</td><td>Nanchang,Jiangxi</td><td></td><td></td></tr><tr><td>Max-Morlock-Stadion</td><td>50,000</td><td>Europe</td><td>Germany</td><td>Nuremberg</td><td></td><td>1. FC Nürnberg</td></tr><tr><td>June 11 Stadium♦</td><td>50,000</td><td>Africa</td><td>Libya</td><td>Tripoli</td><td></td><td>Libya,Al-Ahly SC,Al-Ittihad Tripoli,Al-Madina SC</td></tr><tr><td>Xinjiang Sports Centre Stadium</td><td>50,000</td><td>East Asia</td><td>China</td><td>Urumqi,Xinjiang</td><td></td><td></td></tr><tr><td>Kim Il-sung Stadium</td><td>50,000</td><td>East Asia</td><td>North Korea</td><td>Pyongyang</td><td></td><td>Pyongyang City Sports Club</td></tr><tr><td>EDION Stadium Hiroshima</td><td>50,000</td><td>East Asia</td><td>Japan</td><td>Hiroshima</td><td></td><td>Sanfrecce Hiroshima</td></tr><tr><td>Pars Shiraz Stadium</td><td>50,000</td><td>West Asia</td><td>Iran</td><td>Shiraz</td><td></td><td>Fajr Sepasi Shiraz FC</td></tr><tr><td>Stade du 26 mars♦</td><td>50,000</td><td>Africa</td><td>Mali</td><td>Bamako</td><td></td><td>Stade Malien</td></tr><tr><td>Stade Abdoulaye Wade</td><td>50,000</td><td>Africa</td><td>Senegal</td><td>Dakar</td><td></td><td>Senegal national football team</td></tr><tr><td>Sultan Mizan Zainal Abidin Stadium</td><td>50,000</td><td>Southeast Asia</td><td>Malaysia</td><td>Kuala Terengganu</td><td></td><td>Terengganu FA</td></tr><tr><td>Estadio Akron</td><td>49,850</td><td>North America</td><td>Mexico</td><td>Guadalajara</td><td></td><td>C.D. Guadalajara</td></tr><tr><td>Levy Mwanawasa Stadium</td><td>49,800</td><td>Africa</td><td>Zambia</td><td>Lusaka</td><td></td><td>Zesco United</td></tr><tr><td>Fritz-Walter-Stadion</td><td>49,780</td><td>Europe</td><td>Germany</td><td>Kaiserslautern</td><td></td><td>1. FC Kaiserslautern</td></tr><tr><td>Estadio José Amalfitani</td><td>49,540</td><td>South America</td><td>Argentina</td><td>Buenos Aires</td><td></td><td>CA Vélez Sársfield</td></tr><tr><td>Camille Chamoun Sports City Stadium♦</td><td>49,500[58]</td><td>West Asia</td><td>Lebanon</td><td>Beirut</td><td></td><td>Lebanon national football team,Al Ahed FC,Al Ansar FC,Nejmeh SC</td></tr><tr><td>Miyagi Stadium</td><td>49,133</td><td>East Asia</td><td>Japan</td><td>Rifu, Miyagi</td><td></td><td>Vegalta Sendai</td></tr><tr><td>Incheon Munhak Stadium</td><td>49,084</td><td>East Asia</td><td>South Korea</td><td>Incheon</td><td></td><td></td></tr><tr><td>Heinz-von-Heiden-Arena</td><td>49,000</td><td>Europe</td><td>Germany</td><td>Hanover</td><td></td><td>Hannover 96</td></tr><tr><td>Parc des Princes</td><td>48,712</td><td>Europe</td><td>France</td><td>Paris</td><td></td><td>Paris Saint-Germain</td></tr><tr><td>Stadium of Light</td><td>48,707</td><td>Europe</td><td>England</td><td>Sunderland, Tyne and Wear</td><td></td><td>Sunderland AFC</td></tr><tr><td>Estadio Nacional♦</td><td>48,665</td><td>South America</td><td>Chile</td><td>Santiago</td><td></td><td>Chile national football team,CF Universidad de Chile</td></tr><tr><td>Nelson Mandela Bay Stadium</td><td>48,459</td><td>Africa</td><td>South Africa</td><td>Port Elizabeth, Eastern Cape</td><td></td><td>Chippa United FC</td></tr><tr><td>Estadio Tomás Adolfo Ducó</td><td>48,314</td><td>South America</td><td>Argentina</td><td>Buenos Aires</td><td></td><td>CA Huracán</td></tr><tr><td>Jinnah Sports Stadium♦</td><td>48,200</td><td>South Asia</td><td>Pakistan</td><td>Islamabad</td><td></td><td>Pakistan national football team</td></tr><tr><td>Estadio Libertadores de América</td><td>48,069</td><td>South America</td><td>Argentina</td><td>Avellaneda</td><td></td><td>Club Atlético Independiente</td></tr><tr><td>Free State Stadium</td><td>48,000</td><td>Africa</td><td>South Africa</td><td>Bloemfontein, Free State</td><td></td><td>Bloemfontein Celtic,Toyota Cheetahs</td></tr><tr><td>Nagai Stadium</td><td>47,816</td><td>East Asia</td><td>Japan</td><td>Osaka</td><td></td><td>Cerezo Osaka,NTT DoCoMo Red Hurricanes Osaka</td></tr><tr><td>Neo Química Arena</td><td>47,605</td><td>South America</td><td>Brazil</td><td>São Paulo, São Paulo</td><td></td><td>Corinthians</td></tr><tr><td>Rogers Centre</td><td>47,568</td><td>North America</td><td>Canada</td><td>Toronto, Ontario</td><td></td><td>Toronto FC,Toronto Argonauts</td></tr><tr><td>Estadio Monumental</td><td>47,347</td><td>South America</td><td>Chile</td><td>Santiago</td><td></td><td>Colo-Colo</td></tr><tr><td>Stadio Artemio Franchi</td><td>47,282</td><td>Europe</td><td>Italy</td><td>Florence</td><td></td><td>ACF Fiorentina</td></tr><tr><td>Estadio Ciudad de Lanús – Néstor Díaz Pérez</td><td>47,027</td><td>South America</td><td>Argentina</td><td>Lanús</td><td></td><td>CA Lanús</td></tr><tr><td>Estadio Metropolitano Roberto Meléndez</td><td>46,788</td><td>South America</td><td>Colombia</td><td>Barranquilla</td><td></td><td>Colombia national football team,Atlético Junior</td></tr><tr><td>Estádio Olímpico Nilton Santos</td><td>46,831</td><td>South America</td><td>Brazil</td><td>Rio de Janeiro, Rio de Janeiro</td><td></td><td>Botafogo FR</td></tr><tr><td>Itaipava Arena Pernambuco</td><td>46,154</td><td>South America</td><td>Brazil</td><td>São Lourenço da Mata,Pernambuco</td><td></td><td>Náutico</td></tr><tr><td>Arena MRV</td><td>46,000</td><td>South America</td><td>Brazil</td><td>Belo Horizonte,Minas Gerais</td><td></td><td>C Atlético Mineiro</td></tr><tr><td>Estádio Paulo Constantino</td><td>45,954</td><td>South America</td><td>Brazil</td><td>Presidente Prudente, São Paulo</td><td></td><td>Grêmio Prudente</td></tr><tr><td>Estadio Atanasio Girardot</td><td>45,739</td><td>South America</td><td>Colombia</td><td>Medellín</td><td></td><td>Atlético Nacional,Independiente Medellín</td></tr><tr><td>Estadio Ramón Sánchez Pizjuán</td><td>45,500</td><td>Europe</td><td>Spain</td><td>Seville</td><td></td><td>Sevilla FC</td></tr><tr><td>Adrar Stadium</td><td>45,480</td><td>Africa</td><td>Morocco</td><td>Agadir</td><td></td><td>Hassania Agadir</td></tr><tr><td>Lukoil Arena</td><td>45,360</td><td>Europe</td><td>Russia</td><td>Moscow</td><td></td><td>Spartak Moscow</td></tr><tr><td>Grand stade de Marrakech</td><td>45,240</td><td>Africa</td><td>Morocco</td><td>Marrakesh</td><td></td><td>Kawkab Marrakech</td></tr><tr><td>Mandela National Stadium♦</td><td>45,202</td><td>Africa</td><td>Uganda</td><td>Kampala</td><td></td><td>Uganda national football team</td></tr><tr><td>Tarczyński Arena Wrocław</td><td>45,105</td><td>Europe</td><td>Poland</td><td>Wrocław</td><td></td><td>Śląsk Wrocław</td></tr><tr><td>Kazan Arena</td><td>45,105</td><td>Europe</td><td>Russia</td><td>Kazan</td><td></td><td>Rubin Kazan</td></tr><tr><td>Estadio Inca Garcilaso de la Vega</td><td>45,056</td><td>South America</td><td>Peru</td><td>Cusco</td><td></td><td>CS Cienciano,Deportivo Garcilaso,Cusco FC</td></tr><tr><td>Estádio da Machava♦</td><td>45,000</td><td>Africa</td><td>Mozambique</td><td>Maputo</td><td></td><td>Mozambique national football team</td></tr><tr><td>Stadion Gelora Bung Tomo</td><td>45,000</td><td>Southeast Asia</td><td>Indonesia</td><td>Surabaya, East Java</td><td></td><td>Persebaya Surabaya</td></tr><tr><td>Stadion Harapan Banga</td><td>45,000</td><td>Southeast Asia</td><td>Indonesia</td><td>Banda Aceh, Aceh</td><td></td><td>Persiraja,Aceh United</td></tr><tr><td>Estadio General Pablo Rojas♦</td><td>45,000</td><td>South America</td><td>Paraguay</td><td>Asunción</td><td></td><td>Club Cerro Porteño</td></tr><tr><td>Stade Mohammed V♦</td><td>45,000[59]</td><td>Africa</td><td>Morocco</td><td>Casablanca</td><td></td><td>Wydad,Raja</td></tr><tr><td>Latakia Sports City Stadium</td><td>45,000</td><td>West Asia</td><td>Syria</td><td>Latakia</td><td></td><td></td></tr><tr><td>Zibo Sports Centre Stadium</td><td>45,000</td><td>East Asia</td><td>China</td><td>Zibo,Shandong</td><td></td><td></td></tr><tr><td>Weifang Sports Centre Stadium</td><td>45,000</td><td>East Asia</td><td>China</td><td>Weifang,Shandong</td><td></td><td></td></tr><tr><td>Yantai Sports Park Stadium</td><td>45,000</td><td>East Asia</td><td>China</td><td>Yantai,Shandong</td><td></td><td></td></tr><tr><td>Stadium Tuanku Abdul Rahman</td><td>45,000</td><td>Southeast Asia</td><td>Malaysia</td><td>Seremban</td><td></td><td>ATM FA,Negeri Sembilan</td></tr><tr><td>Stade du Complexe sportif de Fès</td><td>45,000</td><td>Africa</td><td>Morocco</td><td>Fes</td><td></td><td>Wydad de Fès,Maghreb de Fès</td></tr><tr><td>Lagos National Stadium</td><td>45,000</td><td>Africa</td><td>Nigeria</td><td>Lagos</td><td></td><td>Nigeria national football team</td></tr><tr><td>Egyptian Army Stadium</td><td>45,000</td><td>Africa</td><td>Egypt</td><td>Suez</td><td></td><td></td></tr><tr><td>Toyota Stadium</td><td>45,000</td><td>East Asia</td><td>Japan</td><td>Toyota City,Aichi</td><td></td><td>Nagoya Grampus,Toyota Verblitz</td></tr><tr><td>Zayed Sports City Stadium</td><td>45,000[60]</td><td>West Asia</td><td>United Arab Emirates</td><td>Abu Dhabi</td><td></td><td></td></tr><tr><td>Red Bull Arena</td><td>44,345</td><td>Europe</td><td>Germany</td><td>Leipzig</td><td></td><td>RB Leipzig</td></tr><tr><td>Estádio Governador Alberto Tavares Silva</td><td>44,200</td><td>South America</td><td>Brazil</td><td>Teresina</td><td></td><td>River AC,EC Flamengo,Piauí EC,SE Tiradentes,Auto EC</td></tr><tr><td>Estádio Universitário Pedro Pedrossian</td><td>44,200</td><td>South America</td><td>Brazil</td><td>Campo Grande,Mato Grosso do Sul</td><td></td><td>EC Comercial,Operário FC</td></tr><tr><td>Ulsan Munsu Football Stadium</td><td>44,102</td><td>East Asia</td><td>South Korea</td><td>Ulsan</td><td></td><td>Ulsan HD FC</td></tr><tr><td>Arena Pantanal</td><td>44,097</td><td>South America</td><td>Brazil</td><td>Cuiabá, Mato Grosso</td><td></td><td>Cuiabá,Mixto EC</td></tr><tr><td>Arena da Amazônia</td><td>44,000</td><td>South America</td><td>Brazil</td><td>Manaus, Amazonas</td><td></td><td>Nacional FC</td></tr><tr><td>Suwon World Cup Stadium</td><td>43,959</td><td>East Asia</td><td>South Korea</td><td>Suwon</td><td></td><td>Suwon Samsung Bluewings</td></tr><tr><td>Stadion Utama Riau</td><td>43,923</td><td>Southeast Asia</td><td>Indonesia</td><td>Pekanbaru,Riau</td><td></td><td>PSPS Pekanbaru</td></tr><tr><td>Allianz Parque</td><td>43,713</td><td>South America</td><td>Brazil</td><td>São Paulo, São Paulo</td><td></td><td>SE Palmeiras</td></tr><tr><td>Shandong Provincial Stadium</td><td>43,700</td><td>East Asia</td><td>China</td><td>Jinan,Shandong</td><td></td><td></td></tr><tr><td>Polsat Plus Arena Gdańsk</td><td>43,615</td><td>Europe</td><td>Poland</td><td>Gdańsk</td><td></td><td>Lechia Gdańsk</td></tr><tr><td>Estadio Pedro Bidegain</td><td>43,494</td><td>South America</td><td>Argentina</td><td>Buenos Aires</td><td></td><td>CA San Lorenzo de Almagro</td></tr><tr><td>Stadion Miejski w Poznaniu</td><td>43,269</td><td>Europe</td><td>Poland</td><td>Poznań</td><td></td><td>Lech Poznań,Warta Poznań</td></tr><tr><td>Vasil Levski National Stadium</td><td>43,230</td><td>Europe</td><td>Bulgaria</td><td>Sofia</td><td></td><td>Bulgaria national football team</td></tr><tr><td>Estadio Universidad San Marcos</td><td>43,000</td><td>South America</td><td>Peru</td><td>Lima</td><td></td><td>Deportivo Universidad San Marcos</td></tr><tr><td>Ullevi</td><td>43,000</td><td>Europe</td><td>Sweden</td><td>Gothenburg</td><td></td><td>Sweden women's national football team</td></tr><tr><td>Jinzhou Binhai Sports Centre Stadium</td><td>43,000</td><td>East Asia</td><td>China</td><td>Jinzhou</td><td></td><td></td></tr><tr><td>Estadio General Santander</td><td>42,901</td><td>South America</td><td>Colombia</td><td>Cúcuta</td><td></td><td>Cúcuta Deportivo</td></tr><tr><td>Villa Park</td><td>42,682</td><td>Europe</td><td>England</td><td>Birmingham,West Midlands</td><td></td><td>Aston Villa</td></tr><tr><td>Perak Stadium</td><td>42,500</td><td>Southeast Asia</td><td>Malaysia</td><td>Perak</td><td></td><td>Perak FA</td></tr><tr><td>Jeonju World Cup Stadium</td><td>42,477</td><td>East Asia</td><td>South Korea</td><td>Jeonju</td><td></td><td>Jeonbuk Hyundai Motors FC</td></tr><tr><td>Ligga Arena</td><td>42,372</td><td>South America</td><td>Brazil</td><td>Curitiba,Paraná</td><td></td><td>Athletico Paranaense</td></tr><tr><td>Weserstadion</td><td>42,358</td><td>Europe</td><td>Germany</td><td>Bremen</td><td></td><td>SV Werder Bremen</td></tr><tr><td>Denka Big Swan Stadium</td><td>42,300</td><td>East Asia</td><td>Japan</td><td>Niigata, Niigata</td><td></td><td>Albirex Niigata</td></tr><tr><td>Estadio Olimpico Metropolitano de Mérida</td><td>42,200</td><td>South America</td><td>Venezuela</td><td>Mérida</td><td></td><td>Estudiantes de Mérida</td></tr><tr><td>Daejeon World Cup Stadium</td><td>42,176</td><td>East Asia</td><td>South Korea</td><td>Daejeon</td><td></td><td>Daejeon Citizen</td></tr><tr><td>Matmut ATLANTIQUE</td><td>42,115</td><td>Europe</td><td>France</td><td>Bordeaux</td><td></td><td>FC Girondins de Bordeaux</td></tr><tr><td>Helsingin Olympiastadion♦</td><td>42,062</td><td>Europe</td><td>Finland</td><td>Helsinki</td><td></td><td>Finland national football team</td></tr><tr><td>Estádio Serra Dourada</td><td>42,000</td><td>South America</td><td>Brazil</td><td>Goiânia,Goiás</td><td></td><td>Goiás Esporte Clube,Vila Nova,Atlético Goianiense</td></tr><tr><td>Estadio Deportivo Cali♦</td><td>42,000</td><td>South America</td><td>Colombia</td><td>Cali</td><td></td><td>Deportivo Cali</td></tr><tr><td>Estadio Modelo Alberto Spencer</td><td>42,000</td><td>South America</td><td>Ecuador</td><td>Guayaquil</td><td></td><td>Club Sport Patria,Club Deportivo Everest,Panamá Sporting Club,Rocafuerte Fútbol Club</td></tr><tr><td>Estádio do Zimpeto</td><td>42,000</td><td>Africa</td><td>Mozambique</td><td>Maputo</td><td></td><td>Mozambique national football team</td></tr><tr><td>Chengdu Sports Centre Stadium</td><td>42,000</td><td>East Asia</td><td>China</td><td>Chengdu,Sichuan</td><td></td><td></td></tr><tr><td>Royal Bafokeng Stadium</td><td>42,000</td><td>Africa</td><td>South Africa</td><td>Phokeng, North West</td><td></td><td></td></tr><tr><td>Estadio Universitario</td><td>42,000</td><td>North America</td><td>Mexico</td><td>San Nicolás de los Garza</td><td></td><td>Tigres de la UANL</td></tr><tr><td>Estadio Brigadier General Estanislao López</td><td>42,000</td><td>South America</td><td>Argentina</td><td>Santa Fe</td><td></td><td>Club Atlético Colón</td></tr><tr><td>Estadio Marcelo Bielsa</td><td>42,000</td><td>South America</td><td>Argentina</td><td>Rosario</td><td></td><td>Newell's Old Boys</td></tr><tr><td>Stade Geoffroy-Guichard</td><td>41,965</td><td>Europe</td><td>France</td><td>Saint-Étienne</td><td></td><td>AS Saint-Étienne</td></tr><tr><td>Vodafone Park</td><td>41,903</td><td>Europe</td><td>Turkey</td><td>Istanbul</td><td></td><td>Beşiktaş J.K.</td></tr><tr><td>Peter Mokaba Stadium</td><td>41,733</td><td>Africa</td><td>South Africa</td><td>Polokwane</td><td></td><td>Polokwane City FC</td></tr><tr><td>Estadio Gigante de Arroyito</td><td>41,654</td><td>South America</td><td>Argentina</td><td>Rosario</td><td></td><td>Rosario Central</td></tr><tr><td>Estadio Cachamay</td><td>41,600</td><td>South America</td><td>Venezuela</td><td>Ciudad Guayana</td><td></td><td>Atlético Club Mineros de Guayana,AC Minervén FC</td></tr><tr><td>Estadio de Liga Deportiva Universitaria</td><td>41,596</td><td>South America</td><td>Ecuador</td><td>Quito</td><td></td><td>LDU</td></tr><tr><td>Allianz Stadium</td><td>41,507</td><td>Europe</td><td>Italy</td><td>Turin, Piedmont</td><td></td><td>Juventus FC</td></tr><tr><td>Sapporo Dome</td><td>41,484</td><td>East Asia</td><td>Japan</td><td>Sapporo,Hokkaido</td><td></td><td>Hokkaido Consadole Sapporo</td></tr><tr><td>Stamford Bridge</td><td>41,663</td><td>Europe</td><td>England</td><td>London</td><td></td><td>Chelsea</td></tr><tr><td>Goyang Stadium</td><td>41,311</td><td>East Asia</td><td>South Korea</td><td>Goyang</td><td></td><td></td></tr><tr><td>Estadio Hernando Siles♦</td><td>41,143</td><td>South America</td><td>Bolivia</td><td>La Paz</td><td></td><td>La Paz FC,Club Bolívar,The Strongest</td></tr><tr><td>Bingu National Stadium</td><td>41,100</td><td>Africa</td><td>Malawi</td><td>Lilongwe</td><td></td><td>Flames,Big Bullets FC</td></tr><tr><td>Mbombela Stadium</td><td>40,929</td><td>Africa</td><td>South Africa</td><td>Nelspruit, Mpumalanga</td><td></td><td></td></tr><tr><td>Estadio José Pachencho Romero</td><td>40,800</td><td>South America</td><td>Venezuela</td><td>Maracaibo</td><td></td><td>Deportivo JBL del Zulia,Deportivo Rayo Zuliano</td></tr><tr><td>Stade Nelson Mandela</td><td>40,784</td><td>Africa</td><td>Algeria</td><td>Algiers</td><td></td><td>Algeria national football team</td></tr><tr><td>Kashima Football Stadium</td><td>40,728</td><td>East Asia</td><td>Japan</td><td>Kashima, Ibaraki</td><td></td><td>Kashima Antlers</td></tr><tr><td>Baba Yara Stadium♦</td><td>40,528</td><td>Africa</td><td>Ghana</td><td>Kumasi</td><td></td><td>Asante Kotoko,King Faisal Babes</td></tr><tr><td>Estádio Major Antônio Couto Pereira</td><td>40,502</td><td>South America</td><td>Brazil</td><td>Curitiba, Paraná</td><td></td><td>Coritiba Foot Ball Club</td></tr><tr><td>Stage Front Stadium</td><td>40,500</td><td>Europe</td><td>Spain</td><td>Barcelona</td><td></td><td>RCD Espanyol</td></tr><tr><td>Estadio Metropolitano de fútbol de Lara</td><td>40,312</td><td>South America</td><td>Venezuela</td><td>Barquisimeto</td><td></td><td>Unión Lara</td></tr><tr><td>Estadio Malvinas Argentinas</td><td>40,268</td><td>South America</td><td>Argentina</td><td>Mendoza</td><td></td><td>Godoy Cruz Antonio Tomba</td></tr><tr><td>Stadion Lukas Enembe</td><td>40,263</td><td>Southeast Asia</td><td>Indonesia</td><td>Nolokla</td><td></td><td>Persipura Jayapura</td></tr><tr><td>Gwangju World Cup Stadium</td><td>40,245</td><td>East Asia</td><td>South Korea</td><td>Gwangju</td><td></td><td>Gwangju FC</td></tr><tr><td>Sân vận động Quốc gia Mỹ Đình♦</td><td>40,192</td><td>Southeast Asia</td><td>Vietnam</td><td>Hanoi</td><td></td><td>Vietnam national football team</td></tr><tr><td>Goodison Park</td><td>40,157</td><td>Europe</td><td>England</td><td>Liverpool, North West</td><td></td><td>Everton FC</td></tr><tr><td>Estádio Governador João Castelo</td><td>40,149</td><td>South America</td><td>Brazil</td><td>São Luís, Maranhão</td><td></td><td>Sampaio Corrêa FC,Moto Club SL,Maranhão AC</td></tr><tr><td>Stade Miloud-Hadefi</td><td>40,143</td><td>Africa</td><td>Algeria</td><td>Oran</td><td></td><td>Algeria national football team,MC Oran</td></tr><tr><td>Estadio Campeón del Siglo</td><td>40,005</td><td>South America</td><td>Uruguay</td><td>Montevideo</td><td></td><td>Club Atlético Peñarol</td></tr><tr><td>Metalist Stadium</td><td>40,003</td><td>Europe</td><td>Ukraine</td><td>Kharkiv</td><td></td><td>FC Metalist Kharkiv,FC Shakhtar Donetsk</td></tr><tr><td>Al-Janoub Stadium</td><td>40,000</td><td>West Asia</td><td>Qatar</td><td>Al-Wakrah</td><td></td><td></td></tr><tr><td>Al-Thumama Stadium</td><td>40,000</td><td>West Asia</td><td>Qatar</td><td>Al-Thumama</td><td></td><td></td></tr><tr><td>Stade Ahmed-Zabana</td><td>40,000</td><td>Africa</td><td>Algeria</td><td>Oran</td><td></td><td>MC Oran</td></tr><tr><td>Stadion Batakan</td><td>40,000</td><td>Southeast Asia</td><td>Indonesia</td><td>Balikpapan, East Kalimantan</td><td></td><td>Persiba Balikpapan</td></tr><tr><td>Stadion Gelora Joko Samudro</td><td>40,000</td><td>Southeast Asia</td><td>Indonesia</td><td>Gresik, East Java</td><td></td><td>Gresik United</td></tr><tr><td>Fisht Olympic Stadium</td><td>40,000</td><td>Europe</td><td>Russia</td><td>Sochi</td><td></td><td></td></tr><tr><td>Rentschler Field</td><td>40,000</td><td>North America</td><td>United States</td><td>East Hartford, Connecticut</td><td></td><td></td></tr><tr><td>Jawaharlal Nehru Stadium</td><td>40,000</td><td>South Asia</td><td>India</td><td>Kochi</td><td></td><td>Kerala Blasters,India national football team</td></tr><tr><td>Hang Jebat Stadium</td><td>40,000</td><td>Southeast Asia</td><td>Malaysia</td><td>Malacca</td><td></td><td>Melaka United</td></tr><tr><td>Hong Kong Stadium♦</td><td>40,000</td><td>East Asia</td><td>Hong Kong</td><td>So Kon Po</td><td></td><td>South China AA</td></tr><tr><td>Stadium Negeri Pulau Pinang</td><td>40,000</td><td>Southeast Asia</td><td>Malaysia</td><td>Batu Kawan</td><td></td><td>Penang FA</td></tr><tr><td>Accra Sports Stadium</td><td>40,000</td><td>Africa</td><td>Ghana</td><td>Accra</td><td></td><td>Accra Hearts of Oak SC,Great Olympics</td></tr><tr><td>Sarawak Stadium</td><td>40,000</td><td>Southeast Asia</td><td>Malaysia</td><td>Kuching</td><td></td><td>Sarawak FA</td></tr><tr><td>Bogyoke Aung San Stadium♦</td><td>40,000</td><td>Southeast Asia</td><td>Myanmar</td><td>Yangon</td><td></td><td>Yangon United FC</td></tr><tr><td>Resonac Dome Ōita</td><td>40,000</td><td>East Asia</td><td>Japan</td><td>Ōita</td><td></td><td>Ōita Trinita</td></tr><tr><td>Stadium Darul Makmur</td><td>40,000</td><td>Southeast Asia</td><td>Malaysia</td><td>Kuantan</td><td></td><td>Pahang FA</td></tr><tr><td>Khalifa International Stadium</td><td>40,000</td><td>West Asia</td><td>Qatar</td><td>Doha</td><td></td><td>Qatar national football team</td></tr><tr><td>Stade de l’Amitié sino-gabonaise♦</td><td>40,000</td><td>Africa</td><td>Gabon</td><td>Libreville</td><td></td><td>Gabon national football team</td></tr><tr><td>Peoples Football Stadium</td><td>40,000</td><td>South Asia</td><td>Pakistan</td><td>Karachi</td><td></td><td>Pakistan national football team</td></tr><tr><td>JRD Tata Sports Complex Stadium</td><td>40,000</td><td>South Asia</td><td>India</td><td>Jamshedpur</td><td></td><td>Jamshedpur FC,Tata Football Academy</td></tr><tr><td>Bao'an Stadium</td><td>40,000</td><td>East Asia</td><td>China</td><td>Shenzhen,Guangdong</td><td></td><td></td></tr><tr><td>Kunming Tuodong Sports Centre Stadium</td><td>40,000</td><td>East Asia</td><td>China</td><td>Kunming,Yunnan</td><td></td><td>China national football team</td></tr><tr><td>Taizhou Sports Centre Stadium</td><td>40,000</td><td>East Asia</td><td>China</td><td>Taizhou,Zhejiang</td><td></td><td></td></tr><tr><td>Wuhu Olympic Stadium</td><td>40,000</td><td>East Asia</td><td>China</td><td>Wuhu,Anhui</td><td></td><td></td></tr><tr><td>Huizhou Olympic Stadium</td><td>40,000</td><td>East Asia</td><td>China</td><td>Huizhou,Guangdong</td><td></td><td></td></tr></tbody></table></div>"
      ]
     },
     "metadata": {
      "application/vnd.databricks.v1+output": {
       "addedWidgets": {},
       "aggData": [],
       "aggError": "",
       "aggOverflow": false,
       "aggSchema": [],
       "aggSeriesLimitReached": false,
       "aggType": "",
       "arguments": {},
       "columnCustomDisplayInfos": {},
       "data": [
        [
         "Rungrado 1st of May Stadium♦",
         "114,000[1]",
         "East Asia",
         "North Korea",
         "Pyongyang",
         "",
         "Korea DPR national football team,Korea DPR women's national football team,April 25"
        ],
        [
         "Michigan Stadium",
         "107,601[2]",
         "North America",
         "United States",
         "Ann Arbor, Michigan",
         "",
         "Michigan Wolverines football"
        ],
        [
         "Ohio Stadium",
         "102,780[3]",
         "North America",
         "United States",
         "Columbus, Ohio",
         "",
         "Ohio State Buckeyes football"
        ],
        [
         "Melbourne Cricket Ground♦",
         "100,024[4]",
         "Oceania",
         "Australia",
         "Melbourne,Victoria",
         "",
         "Australia national cricket team,Victoria cricket team,Melbourne Cricket Club,Melbourne Stars,Melbourne FC,Richmond FC,Collingwood FC,Hawthorn FC"
        ],
        [
         "Camp Nou♦",
         "99,354[5]",
         "Europe",
         "Spain",
         "Barcelona, Catalonia",
         "",
         "FC Barcelona"
        ],
        [
         "Estadio Azteca♦",
         "95,500[6]",
         "North America",
         "Mexico",
         "Mexico City",
         "",
         "Club América,Cruz Azul,Mexico national football team"
        ],
        [
         "FNB Stadium♦",
         "94,736[7]",
         "Africa",
         "South Africa",
         "Johannesburg,Gauteng",
         "",
         "South Africa national football team,Kaizer Chiefs"
        ],
        [
         "New Administrative Capital Stadium♦",
         "93,940[8]",
         "Africa",
         "Egypt",
         "New Administrative Capital",
         "",
         "Egypt national football team"
        ],
        [
         "Rose Bowl Stadium",
         "92,800[9]",
         "North America",
         "United States",
         "Pasadena, California",
         "",
         "UCLA Bruins"
        ],
        [
         "Cotton Bowl Stadium",
         "92,100[10]",
         "North America",
         "United States",
         "Dallas,Texas",
         "",
         ""
        ],
        [
         "Wembley Stadium♦",
         "90,000[11]",
         "Europe",
         "England",
         "London, England",
         "",
         "England national football team"
        ],
        [
         "Lusail Stadium♦",
         "88,966[12]",
         "West Asia",
         "Qatar",
         "Lusail",
         "",
         "Qatar national football team"
        ],
        [
         "Bukit Jalil National Stadium♦",
         "87,411",
         "Southeast Asia",
         "Malaysia",
         "Kuala Lumpur",
         "",
         "Malaysia national football team[13]"
        ],
        [
         "Borg el-Arab Stadium",
         "86,000[14]",
         "Africa",
         "Egypt",
         "Alexandria",
         "",
         "Egypt national football team,Al Ittihad,Smouha"
        ],
        [
         "Estadio Santiago Bernabéu",
         "85,000[15]",
         "Europe",
         "Spain",
         "Madrid",
         "",
         "Real Madrid"
        ],
        [
         "Estadio Mâs Monumental♦",
         "84,567",
         "South America",
         "Argentina",
         "Buenos Aires",
         "",
         "Argentina national football team,River Plate"
        ],
        [
         "Stadium Australia",
         "83,500",
         "Oceania",
         "Australia",
         "Sydney,New South Wales",
         "",
         "South Sydney Rabbitohs,Canterbury-Bankstown Bulldogs,New South Wales Blues,New South Wales Waratahs,Australia men's national soccer team,Australia national rugby union team"
        ],
        [
         "MetLife Stadium",
         "82,500",
         "North America",
         "United States",
         "East Rutherford, New Jersey",
         "",
         "New York Giants,New York Jets,United States men's national soccer team"
        ],
        [
         "Croke Park♦",
         "82,300[16]",
         "Europe",
         "Ireland",
         "Dublin",
         "",
         "Gaelic Athletic Association,Dublin GAA"
        ],
        [
         "Jakarta International Stadium♦",
         "82,000",
         "Southeast Asia",
         "Indonesia",
         "Jakarta",
         "",
         "Persija Jakarta,Indonesia national football team"
        ],
        [
         "Lambeau Field",
         "81,441[17]",
         "North America",
         "United States",
         "Green Bay, Wisconsin",
         "",
         "Green Bay Packers"
        ],
        [
         "Signal Iduna Park♦",
         "81,365",
         "Europe",
         "Germany",
         "Dortmund",
         "",
         "Borussia Dortmund"
        ],
        [
         "Stade de France♦",
         "81,338[18]",
         "Europe",
         "France",
         "Saint-Denis",
         "",
         "France national football team"
        ],
        [
         "Grand Sports Arena of the Luzhniki Olympic Complex♦",
         "81,000",
         "Europe",
         "Russia",
         "Moscow",
         "",
         ""
        ],
        [
         "Shah Alam Stadium",
         "80,372",
         "Southeast Asia",
         "Malaysia",
         "Shah Alam, Selangor",
         "",
         "Selangor FA"
        ],
        [
         "Estadio Monumental♦",
         "80,093",
         "South America",
         "Peru",
         "Lima",
         "",
         "Club Universitario de Deportes"
        ],
        [
         "Stadio Giuseppe Meazza♦",
         "80,018",
         "Europe",
         "Italy",
         "Milan, Lombardy",
         "",
         "AC MilanandInternazionale"
        ],
        [
         "Guangdong Olympic Stadium♦",
         "80,012",
         "East Asia",
         "China",
         "Guangzhou,Guangdong",
         "",
         ""
        ],
        [
         "Hangzhou Olympic Sports Expo Centre Stadium",
         "80,000",
         "East Asia",
         "China",
         "Hangzhou,Zhejiang",
         "",
         ""
        ],
        [
         "AT&T Stadium♦",
         "80,000[19]",
         "North America",
         "United States",
         "Arlington, Texas",
         "",
         "Dallas Cowboys,FC Dallas"
        ],
        [
         "Stade des Martyrs♦",
         "80,000",
         "Africa",
         "DR Congo",
         "Kinshasa",
         "",
         "Congo DR national football team"
        ],
        [
         "Stade Tata Raphaël♦",
         "80,000",
         "Africa",
         "DR Congo",
         "Kinshasa",
         "",
         "AS Vita Club,DC Motema Pembe"
        ],
        [
         "National Sports Stadium♦",
         "80,000",
         "Africa",
         "Zimbabwe",
         "Harare",
         "",
         "Zimbabwe national football team"
        ],
        [
         "Moi International Sports Centre♦",
         "80,000",
         "Africa",
         "Kenya",
         "Nairobi",
         "",
         "Kenya national football team"
        ],
        [
         "Beijing National Stadium",
         "80,000[20]",
         "East Asia",
         "China",
         "Beijing",
         "",
         ""
        ],
        [
         "Stade Léopold Sédar Senghor♦",
         "80,000",
         "Africa",
         "Senegal",
         "Dakar",
         "",
         "Senegal national football team,ASC Jeanne d'Arc"
        ],
        [
         "Maracanã♦",
         "78,838[21][22]",
         "South America",
         "Brazil",
         "Rio de Janeiro, Rio de Janeiro",
         "",
         "CR Flamengo,Fluminense FC,Botafogo FR,CR Vasco da Gama"
        ],
        [
         "Los Angeles Memorial Coliseum",
         "78,467",
         "North America",
         "United States",
         "Los Angeles, California",
         "",
         "USC Trojans"
        ],
        [
         "Azadi Stadium♦",
         "78,116[23][24]",
         "West Asia",
         "Iran",
         "Tehran",
         "",
         "Iran national football team,Esteghlal FC,Persepolis FC"
        ],
        [
         "Stadion Utama Gelora Bung Karno",
         "77,193[25]",
         "Southeast Asia",
         "Indonesia",
         "Jakarta",
         "",
         "Indonesia national football team,"
        ],
        [
         "Caesar's Superdome",
         "76,468[26]",
         "North America",
         "United States",
         "New Orleans, Louisiana",
         "",
         "New Orleans Saints,Sugar Bowl"
        ],
        [
         "Arrowhead Stadium",
         "76,412[27]",
         "North America",
         "United States",
         "Kansas City, Missouri",
         "",
         "Kansas City Chiefs"
        ],
        [
         "Empower Field",
         "76,125[28]",
         "North America",
         "United States",
         "Denver",
         "",
         "Denver Broncos"
        ],
        [
         "Atatürk Olimpiyat Stadyumu♦",
         "76,092[29]",
         "Europe",
         "Turkey",
         "Istanbul",
         "",
         ""
        ],
        [
         "Old Trafford",
         "76,000",
         "Europe",
         "England",
         "Manchester,North West England",
         "",
         "Manchester United"
        ],
        [
         "Allianz Arena",
         "75,024[30]",
         "Europe",
         "Germany",
         "Munich",
         "",
         "FC Bayern Munich"
        ],
        [
         "Naghsh-e-Jahan Stadium",
         "75,000",
         "West Asia",
         "Iran",
         "Isfahan",
         "",
         "Sepahan FC"
        ],
        [
         "Bank of America Stadium",
         "74,867",
         "North America",
         "United States",
         "Charlotte, North Carolina",
         "",
         "Charlotte FC,Carolina Panthers"
        ],
        [
         "Principality Stadium♦",
         "74,500",
         "Europe",
         "Wales",
         "Cardiff",
         "",
         "Wales national rugby union team"
        ],
        [
         "Olympiastadion",
         "74,475",
         "Europe",
         "Germany",
         "Berlin",
         "",
         "Hertha BSC"
        ],
        [
         "Cairo International Stadium",
         "74,100",
         "Africa",
         "Egypt",
         "Cairo",
         "",
         "Egypt national football team,Al Ahly,Zamalek"
        ],
        [
         "FirstEnergy Stadium",
         "73,200[31]",
         "North America",
         "United States",
         "Cleveland",
         "",
         "Cleveland Browns"
        ],
        [
         "Estádio Nacional Mané Garrincha",
         "72,788",
         "South America",
         "Brazil",
         "Brasília, Distrito Federal",
         "",
         "Brasília FC,Legião FC"
        ],
        [
         "Stadio Olimpico",
         "72,698",
         "Europe",
         "Italy",
         "Rome, Lazio",
         "",
         "AS Roma,Lazio"
        ],
        [
         "Nissan Stadium♦",
         "72,327[32]",
         "East Asia",
         "Japan",
         "Yokohama, Kanagawa",
         "",
         "Yokohama F. Marinos,Yokohama Eagles"
        ],
        [
         "NRG Stadium",
         "72,220",
         "North America",
         "United States",
         "Houston, Texas",
         "",
         "Houston Texans,Houston Dynamo FC"
        ],
        [
         "Shanghai Stadium",
         "72,000",
         "East Asia",
         "China",
         "Shanghai",
         "",
         "Shanghai Shenhua"
        ],
        [
         "M&T Bank Stadium",
         "71,008[33]",
         "North America",
         "United States",
         "Baltimore",
         "",
         "Baltimore Ravens"
        ],
        [
         "Mercedes-Benz Stadium",
         "71,000",
         "North America",
         "United States",
         "Atlanta, Georgia",
         "",
         "Atlanta United FC,Atlanta Falcons"
        ],
        [
         "Riyadh Air Metropolitano",
         "70,692",
         "Europe",
         "Spain",
         "Madrid",
         "",
         "Atlético de Madrid"
        ],
        [
         "Olympic National Sports Complex Stadium♦",
         "70,000[34]",
         "Europe",
         "Ukraine",
         "Kyiv",
         "",
         "Ukraine national football team,FC Dynamo Kyiv"
        ],
        [
         "SoFi Stadium",
         "70,000",
         "North America",
         "United States",
         "Inglewood, California",
         "",
         ""
        ],
        [
         "Seoul Olympic Stadium♦",
         "69,950",
         "East Asia",
         "South Korea",
         "Seoul",
         "",
         ""
        ],
        [
         "Bakı Olimpiya stadionu♦",
         "69,870",
         "West Asia",
         "Azerbaijan",
         "Baku",
         "",
         "Azerbaijan national football team"
        ],
        [
         "Olympic Stadium♦",
         "69,618",
         "Europe",
         "Greece",
         "Marousi,Attica",
         "",
         "Greece national football team"
        ],
        [
         "Olympiastadion München",
         "69,250",
         "Europe",
         "Germany",
         "Munich",
         "",
         ""
        ],
        [
         "Lumen Field",
         "69,000",
         "North America",
         "United States",
         "Seattle, Washington",
         "",
         "Seattle Sounders FC,Seattle Seahawks"
        ],
        [
         "Estadio Olímpico Universitario",
         "68,954",
         "North America",
         "Mexico",
         "Mexico City",
         "",
         "UNAM Pumas"
        ],
        [
         "Gillette Stadium",
         "68,756",
         "North America",
         "United States",
         "Foxborough, Massachusetts",
         "",
         "New England Patriots,New England Revolution"
        ],
        [
         "King Abdullah Sports City Stadium♦",
         "68,560",
         "West Asia",
         "Saudi Arabia",
         "Jeddah",
         "",
         "Saudi Arabia national football team,Al-Ahli Saudi FC,Al-Ittihad Saudi Club"
        ],
        [
         "Lincoln Financial Field",
         "68,532",
         "North America",
         "United States",
         "Philadelphia",
         "",
         "Philadelphia Eagles,Temple Owls football"
        ],
        [
         "Levi's Stadium",
         "68,500",
         "North America",
         "United States",
         "Santa Clara, California",
         "",
         "San Francisco 49ers"
        ],
        [
         "Acrisure Stadium",
         "68,400[35]",
         "North America",
         "United States",
         "Pittsburgh",
         "",
         "Pittsburgh Steelers,Pittsburgh Panthers football"
        ],
        [
         "Gazprom Arena",
         "68,134",
         "Europe",
         "Russia",
         "Saint Petersburg",
         "",
         "FC Zenit Saint Petersburg"
        ],
        [
         "Salt Lake Stadium♦",
         "68,000[36][37]",
         "South Asia",
         "India",
         "Kolkata",
         "",
         "India national football team,Mohun Bagan Super Giant,East Bengal FC,Mohammedan SC"
        ],
        [
         "National Stadium",
         "68,000",
         "East Asia",
         "Japan",
         "Tokyo",
         "",
         ""
        ],
        [
         "TIAA Bank Field",
         "67,814[38]",
         "North America",
         "United States",
         "Jacksonville, Florida",
         "",
         "Jacksonville Jaguars"
        ],
        [
         "Orange Vélodrome",
         "67,394",
         "Europe",
         "France",
         "Marseille",
         "",
         "Olympique de Marseille"
        ],
        [
         "Puskás Aréna♦",
         "67,215",
         "Europe",
         "Hungary",
         "Budapest",
         "",
         "Hungary national football team"
        ],
        [
         "Scottish Gas Murrayfield Stadium",
         "67,144",
         "Europe",
         "Scotland",
         "Edinburgh",
         "",
         "Scotland national rugby union team"
        ],
        [
         "Lucas Oil Stadium",
         "67,000",
         "North America",
         "United States",
         "Indianapolis, Indiana",
         "",
         "Indianapolis Colts"
        ],
        [
         "MorumBIS",
         "66,975",
         "South America",
         "Brazil",
         "São Paulo, São Paulo",
         "",
         "São Paulo FC"
        ],
        [
         "The Dome",
         "66,965",
         "North America",
         "United States",
         "St. Louis",
         "",
         "St. Louis BattleHawks"
        ],
        [
         "Yadegar-e-Emam Stadium",
         "66,833",
         "West Asia",
         "Iran",
         "Tabriz",
         "",
         "Tractor Sazi FC"
        ],
        [
         "Seoul World Cup Stadium",
         "66,704",
         "East Asia",
         "South Korea",
         "Seoul",
         "",
         "FC Seoul"
        ],
        [
         "US Bank Stadium",
         "66,655",
         "North America",
         "United States",
         "Minneapolis",
         "",
         "Minnesota Vikings"
        ],
        [
         "Daegu Stadium",
         "66,422",
         "East Asia",
         "South Korea",
         "Daegu",
         "",
         "Daegu FC"
        ],
        [
         "Workers' Stadium",
         "66,161",
         "East Asia",
         "China",
         "Beijing",
         "",
         "Beijing Guoan,China national football team"
        ],
        [
         "London Stadium",
         "66,000",
         "Europe",
         "England",
         "London",
         "",
         "West Ham United"
        ],
        [
         "Raymond James Stadium",
         "65,847",
         "North America",
         "United States",
         "Tampa, Florida",
         "",
         "Tampa Bay Buccaneers,South Florida Bulls football,Tampa Bay Vipers"
        ],
        [
         "Hard Rock Stadium",
         "65,326[39]",
         "North America",
         "United States",
         "Miami Gardens, Florida",
         "",
         "Miami Dolphins,Miami Hurricanes football"
        ],
        [
         "Olympic Stadium♦",
         "65,255",
         "North America",
         "Canada",
         "Montreal, Quebec",
         "",
         "CF Montréal"
        ],
        [
         "Basra International Stadium♦",
         "65,227",
         "West Asia",
         "Iraq",
         "Basra",
         "",
         "Iraq national football team"
        ],
        [
         "Camping World Stadium",
         "65,000",
         "North America",
         "United States",
         "Orlando, Florida",
         "",
         ""
        ],
        [
         "Alamodome",
         "65,000",
         "North America",
         "United States",
         "San Antonio",
         "",
         "UTSA Roadrunners football"
        ],
        [
         "Ford Field",
         "65,000",
         "North America",
         "United States",
         "Detroit",
         "",
         "Detroit Lions"
        ],
        [
         "Stade Ibn Battuta",
         "65,000",
         "Africa",
         "Morocco",
         "Tangier",
         "",
         "IR Tanger"
        ],
        [
         "Estádio do Sport Lisboa e Benfica♦",
         "64,642",
         "Europe",
         "Portugal",
         "Lisbon",
         "",
         "Benfica"
        ],
        [
         "Stade du 5-juillet-1962♦",
         "64,000[40]",
         "Africa",
         "Algeria",
         "Algiers",
         "",
         "Algeria national football team"
        ],
        [
         "Castelão",
         "63,903",
         "South America",
         "Brazil",
         "Fortaleza, Ceará",
         "",
         "Ceará SC,Fortaleza EC"
        ],
        [
         "Saitama Stadium 2002",
         "63,700[41]",
         "East Asia",
         "Japan",
         "Saitama",
         "",
         "Urawa Red Diamonds,Saitama Wild Knights"
        ],
        [
         "Ellis Park Stadium",
         "62,567",
         "Africa",
         "South Africa",
         "Johannesburg, Gauteng",
         "",
         "Orlando Pirates FC,Emirates Johannesburg Lions"
        ],
        [
         "Tottenham Hotspur Stadium",
         "62,303[42]",
         "Europe",
         "England",
         "London",
         "",
         "Tottenham Hotspur"
        ],
        [
         "VELTINS-Arena",
         "62,271",
         "Europe",
         "Germany",
         "Gelsenkirchen",
         "",
         "FC Schalke 04"
        ],
        [
         "Yizhong Sports Centre Stadium",
         "62,000",
         "East Asia",
         "China",
         "Qingdao,Shandong",
         "",
         "Qingdao Jonoon FC"
        ],
        [
         "Estádio Governador Magalhães Pinto",
         "61,846[43]",
         "South America",
         "Brazil",
         "Belo Horizonte, Minas Gerais",
         "",
         "Atlético Mineiro,Cruzeiro EC"
        ],
        [
         "King Fahd International Stadium",
         "61,781",
         "West Asia",
         "Saudi Arabia",
         "Riyadh",
         "",
         "Saudi Arabia national football team,Al-Hilal,Al-Nassr,Al-Shabab"
        ],
        [
         "Soldier Field",
         "61,500",
         "North America",
         "United States",
         "Chicago",
         "",
         "Chicago Bears"
        ],
        [
         "Nanjing Olympic Sports Centre Stadium",
         "61,443",
         "East Asia",
         "China",
         "Nanjing,Jiangsu",
         "",
         ""
        ],
        [
         "Anfield",
         "61,276[44]",
         "Europe",
         "England",
         "Liverpool, England",
         "",
         "Liverpool FC"
        ],
        [
         "Estadio Benito Villamarín",
         "60,720",
         "Europe",
         "Spain",
         "Seville",
         "",
         "Real Betis"
        ],
        [
         "Abuja Stadium♦",
         "60,491",
         "Africa",
         "Nigeria",
         "Abuja",
         "",
         "Nigeria national football team"
        ],
        [
         "MHPArena",
         "60,469",
         "Europe",
         "Germany",
         "Stuttgart",
         "",
         "VfB Stuttgart"
        ],
        [
         "Celtic Park♦",
         "60,411[45]",
         "Europe",
         "Scotland",
         "Glasgow",
         "",
         "Celtic FC"
        ],
        [
         "Estadio de la UNSA",
         "60,370",
         "South America",
         "Peru",
         "Arequipa",
         "",
         "FBC Melgar"
        ],
        [
         "Emirates Stadium",
         "60,338[46]",
         "Europe",
         "England",
         "London",
         "",
         "Arsenal"
        ],
        [
         "Shenzhen Universiade Sports Centre Stadium",
         "60,334",
         "East Asia",
         "China",
         "Shenzhen,Guangdong",
         "",
         ""
        ],
        [
         "Estadio Centenario♦",
         "60,235",
         "South America",
         "Uruguay",
         "Montevideo",
         "",
         "Uruguay national football team"
        ],
        [
         "Estádio José do Rego Maciel",
         "60,044",
         "South America",
         "Brazil",
         "Recife,Pernambuco",
         "",
         "Santa Cruz FC"
        ],
        [
         "Al-Bayt Stadium",
         "60,000",
         "West Asia",
         "Qatar",
         "Al-Khor",
         "",
         ""
        ],
        [
         "Benjamin Mkapa National Stadium♦",
         "60,000",
         "Africa",
         "Tanzania",
         "Dar es-Salaam",
         "",
         "Tanzania national football team,Young Africans"
        ],
        [
         "Hefei Olympic Sports Centre Stadium",
         "60,000",
         "East Asia",
         "China",
         "Hefei,Anhui",
         "",
         "Anhui Jiufang"
        ],
        [
         "Jaber al-Ahmad International Stadium♦",
         "60,000",
         "West Asia",
         "Kuwait",
         "Kuwait City",
         "",
         "Kuwait national football team"
        ],
        [
         "Hammadi Agrebi Stadium♦",
         "60,000",
         "Africa",
         "Tunisia",
         "Tunis",
         "",
         "Tunisia national football team"
        ],
        [
         "Jawaharlal Nehru Stadium",
         "60,000[47]",
         "South Asia",
         "India",
         "New Delhi",
         "",
         ""
        ],
        [
         "Mogadishu Stadium♦",
         "60,000",
         "Africa",
         "Somalia",
         "Mogadishu",
         "",
         "Somalia national football team"
        ],
        [
         "National Heroes Stadium♦",
         "60,000",
         "Africa",
         "Zambia",
         "Lusaka",
         "",
         "Zambian national football team"
        ],
        [
         "Autzen Stadium",
         "60,000",
         "North America",
         "United States",
         "Eugene, Oregon",
         "",
         ""
        ],
        [
         "Odi Stadium",
         "60,000",
         "Africa",
         "South Africa",
         "Mabopane, Gauteng",
         "",
         ""
        ],
        [
         "Morodok Techo National Stadium",
         "60,000",
         "Southeast Asia",
         "Cambodia",
         "Phnom Penh",
         "",
         "Cambodia national football team"
        ],
        [
         "Shenyang Olympic Sports Centre Stadium",
         "60,000",
         "East Asia",
         "China",
         "Shenyang,Liaoning",
         "",
         ""
        ],
        [
         "Optus Stadium",
         "60,000",
         "Oceania",
         "Australia",
         "Perth, Western Australia",
         "",
         "Perth Glory FC,Fremantle Dockers,West Coast Eagles"
        ],
        [
         "Estadio Monumental Isidro Romero Carbo♦",
         "59,283[48]",
         "South America",
         "Ecuador",
         "Guayaquil",
         "",
         "Barcelona Sporting Club"
        ],
        [
         "Groupama Stadium",
         "59,186",
         "Europe",
         "France",
         "Décines-Charpieu",
         "",
         "Olympique Lyonnais"
        ],
        [
         "Chongqing Olympic Sports Centre Stadium",
         "58,680",
         "East Asia",
         "China",
         "Chongqing",
         "",
         ""
        ],
        [
         "Kazimierz Górski National Stadium♦",
         "58,580",
         "Europe",
         "Poland",
         "Warsaw",
         "",
         "Poland national football team"
        ],
        [
         "Stadio San Nicola",
         "58,270",
         "Europe",
         "Italy",
         "Bari, Apulia",
         "",
         "SSC Bari"
        ],
        [
         "Commanders Field",
         "58,000",
         "North America",
         "United States",
         "Landover, Maryland",
         "",
         "Washington Commanders"
        ],
        [
         "Deutsche Bank Park",
         "58,000[49]",
         "Europe",
         "Germany",
         "Frankfurt",
         "",
         "Eintracht Frankfurt"
        ],
        [
         "Estadio La Cartuja de Sevilla",
         "57,619",
         "Europe",
         "Spain",
         "Seville",
         "",
         ""
        ],
        [
         "Carter–Finley Stadium",
         "57,583[50]",
         "North America",
         "United States",
         "Raleigh, North Carolina",
         "",
         "NC State Wolfpack football"
        ],
        [
         "La Bombonera",
         "57,200",
         "South America",
         "Argentina",
         "Buenos Aires",
         "",
         "CA Boca Juniors"
        ],
        [
         "Volksparkstadion",
         "57,030",
         "Europe",
         "Germany",
         "Hamburg",
         "",
         "Hamburger SV"
        ],
        [
         "Estadio Mario Alberto Kempes",
         "57,000",
         "South America",
         "Argentina",
         "Córdoba",
         "",
         "Talleres de Córdoba, someBelgrano de Córdobamatches."
        ],
        [
         "Jinan Olympic Sports Centre Stadium",
         "56,808",
         "East Asia",
         "China",
         "Jinan,Shandong",
         "",
         "Shandong Taishan"
        ],
        [
         "Estadio Jalisco",
         "56,713[51]",
         "North America",
         "Mexico",
         "Guadalajara, Jalisco",
         "",
         "Atlas"
        ],
        [
         "Commonwealth Stadium",
         "56,302",
         "North America",
         "Canada",
         "Edmonton, Alberta",
         "",
         "Edmonton Elks,Canadian men'sandwomen'snational teams"
        ],
        [
         "Dodger Stadium",
         "56,000",
         "North America",
         "United States",
         "Los Angeles",
         "",
         "Los Angeles Dodgers"
        ],
        [
         "Stade du 19-mai-1956",
         "56,000",
         "Africa",
         "Algeria",
         "Annaba",
         "",
         "USM Annaba"
        ],
        [
         "Estadi Olímpic Lluís Companys",
         "55,926",
         "Europe",
         "Spain",
         "Barcelona, Catalonia",
         "",
         ""
        ],
        [
         "Arena do Grêmio",
         "55,662",
         "South America",
         "Brazil",
         "Porto Alegre, Rio Grande do Sul",
         "",
         "Grêmio FBPA"
        ],
        [
         "Arena Națională♦",
         "55,634",
         "Europe",
         "Romania",
         "Bucharest",
         "",
         "Romania national football team"
        ],
        [
         "Stadion Rajko Mitić♦",
         "55,538",
         "Europe",
         "Serbia",
         "Belgrade",
         "",
         "Red Star Belgrade,Serbia national football team"
        ],
        [
         "Stadion Śląski",
         "55,211",
         "Europe",
         "Poland",
         "Chorzów",
         "",
         "Poland national football team,Ruch Chorzów"
        ],
        [
         "Etihad Stadium",
         "55,097",
         "Europe",
         "England",
         "Manchester, North West England",
         "",
         "Manchester City"
        ],
        [
         "Mestalla",
         "55,000",
         "Europe",
         "Spain",
         "Valencia",
         "",
         "Valencia CF"
        ],
        [
         "National Stadium♦",
         "55,000",
         "Southeast Asia",
         "Singapore",
         "Singapore",
         "",
         "Singapore national football team"
        ],
        [
         "National Stadium♦",
         "55,000",
         "East Asia",
         "Taiwan",
         "Kaohsiung",
         "",
         "Chinese Taipei national football team"
        ],
        [
         "He Long Stadium",
         "55,000",
         "East Asia",
         "China",
         "Changsha,Hunan",
         "",
         ""
        ],
        [
         "Cape Town Stadium",
         "55,000",
         "Africa",
         "South Africa",
         "Cape Town, Western Cape",
         "",
         "Cape Town City FC,DHL Western Cape Stormers"
        ],
        [
         "Plovdiv Stadium♦",
         "55,000",
         "Europe",
         "Bulgaria",
         "Plovdiv",
         "",
         ""
        ],
        [
         "Bobby Dodd Stadium",
         "55,000",
         "North America",
         "United States",
         "Atlanta",
         "",
         "Georgia Tech Yellow Jackets football"
        ],
        [
         "Johan Cruijff Arena♦",
         "54,990[52]",
         "Europe",
         "Netherlands",
         "Amsterdam",
         "",
         "AFC Ajax"
        ],
        [
         "Tianhe Stadium",
         "54,856",
         "East Asia",
         "China",
         "Guangzhou,Guangdong",
         "",
         ""
        ],
        [
         "Stadio Diego Armando Maradona",
         "54,726",
         "Europe",
         "Italy",
         "Naples",
         "",
         "SSC Napoli"
        ],
        [
         "Tianjin Olympic Sports Centre Stadium",
         "54,696",
         "East Asia",
         "China",
         "Tianjin",
         "",
         "Tianjin Teda"
        ],
        [
         "MERKUR SPIEL-ARENA",
         "54,600",
         "Europe",
         "Germany",
         "Düsseldorf",
         "",
         "Fortuna Düsseldorf"
        ],
        [
         "Boris Paitchadze Dinamo Arena♦",
         "54,549",
         "West Asia",
         "Georgia",
         "Tbilisi",
         "",
         "Georgia national football team,FC Dinamo Tbilisi"
        ],
        [
         "Wuhan Sports Centre Stadium",
         "54,357",
         "East Asia",
         "China",
         "Wuhan,Hubei",
         "",
         ""
        ],
        [
         "BC Place Stadium",
         "54,320",
         "North America",
         "Canada",
         "Vancouver, British Columbia",
         "",
         "Vancouver Whitecaps FC,BC Lions"
        ],
        [
         "Yankee Stadium",
         "54,251",
         "North America",
         "United States",
         "New York City",
         "",
         "New York Yankees,New York City FC"
        ],
        [
         "Hrazdan Stadium♦",
         "54,208",
         "West Asia",
         "Armenia",
         "Yerevan",
         "",
         "FC Ararat Yerevan,Ulisses FC"
        ],
        [
         "BORUSSIA-PARK",
         "54,057",
         "Europe",
         "Germany",
         "Mönchengladbach",
         "",
         "Borussia Mönchengladbach"
        ],
        [
         "Moses Mabhida Stadium",
         "54,000",
         "Africa",
         "South Africa",
         "Durban, KwaZulu-Natal",
         "",
         "AmaZulu FC,Cell C Durban Sharks"
        ],
        [
         "Busan Asiad Main Stadium",
         "53,864",
         "East Asia",
         "South Korea",
         "Busan",
         "",
         "Busan IPark"
        ],
        [
         "Estádio Estadual Jornalista Edgar Augusto Proença",
         "53,645",
         "South America",
         "Brazil",
         "Belém,Pará",
         "",
         "Paysandu SC,Clube do Remo,Tuna Luso Brasileira,SC Belem"
        ],
        [
         "Estadio Único Diego Armando Maradona",
         "53,600",
         "South America",
         "Argentina",
         "La Plata",
         "",
         ""
        ],
        [
         "Adelaide Oval",
         "53,500",
         "Oceania",
         "Australia",
         "Adelaide, South Australia",
         "",
         "Adelaide Crows,Port Adelaide Power"
        ],
        [
         "Docklands Stadium",
         "53,359",
         "Oceania",
         "Australia",
         "Melbourne, Victoria",
         "",
         "Western Bulldogs,Essendon,St. Kilda,Carlton,North Melbourne"
        ],
        [
         "Estádio Municipal João Havelange",
         "53,350",
         "South America",
         "Brazil",
         "Uberlândia, Minas Gerais",
         "",
         "Uberlânia EC"
        ],
        [
         "San Mamés",
         "53,332",
         "Europe",
         "Spain",
         "Bilbao",
         "",
         "Athletic Bilbao"
        ],
        [
         "Aleppo International Stadium♦",
         "53,200",
         "West Asia",
         "Syria",
         "Aleppo",
         "",
         "Al-Ittihad"
        ],
        [
         "Estadio Nacional",
         "53,086",
         "South America",
         "Peru",
         "Lima",
         "",
         "Peru national football team"
        ],
        [
         "Huanglong Stadium",
         "52,672",
         "East Asia",
         "China",
         "Hangzhou,Zhejiang",
         "",
         "Hangzhou FC"
        ],
        [
         "RAMS Park",
         "52,652",
         "Europe",
         "Turkey",
         "Istanbul",
         "",
         "Galatasaray"
        ],
        [
         "Suncorp Stadium",
         "52,500",
         "Oceania",
         "Australia",
         "Brisbane, Queensland",
         "",
         "Brisbane Broncos,Queensland Maroons,Brisbane Roar FC,Queensland Reds"
        ],
        [
         "St. James' Park",
         "52,405",
         "Europe",
         "England",
         "Newcastle upon Tyne, North East",
         "",
         "Newcastle United"
        ],
        [
         "Kings Park Stadium",
         "52,000",
         "Africa",
         "South Africa",
         "Durban, KwaZulu-Natal",
         "",
         "Lamontville Golden Arrows,Cell C Durban Sharks"
        ],
        [
         "Newlands Stadium",
         "51,900",
         "Africa",
         "South Africa",
         "Cape Town, Western Cape",
         "",
         ""
        ],
        [
         "Hampden Park",
         "51,866[53]",
         "Europe",
         "Scotland",
         "Glasgow",
         "",
         "Scotland national football team,Queen's Park"
        ],
        [
         "Estadio Monumental de Maturín♦",
         "51,796",
         "South America",
         "Venezuela",
         "Maturín",
         "",
         "Monagas Sport Club"
        ],
        [
         "Loftus Versfeld Stadium",
         "51,762",
         "Africa",
         "South Africa",
         "Pretoria, Gauteng",
         "",
         "SuperSport UnitedandVodacom Pretoria Bulls"
        ],
        [
         "Aviva Stadium♦",
         "51,700",
         "Europe",
         "Ireland",
         "Dublin",
         "",
         "Leinster Rugby,Republic of Ireland national football team,Ireland national rugby union team"
        ],
        [
         "Guiyang Olympic Sports Centre Stadium",
         "51,638",
         "East Asia",
         "China",
         "Guiyang,Guizhou",
         "",
         ""
        ],
        [
         "Hohhot City Stadium",
         "51,632",
         "East Asia",
         "China",
         "Hohhot,Inner Mongolia",
         "",
         ""
        ],
        [
         "Rajamangala National Stadium♦",
         "51,552",
         "Southeast Asia",
         "Thailand",
         "Bangkok",
         "",
         "Thailand national football team"
        ],
        [
         "Donbass Arena",
         "51,504",
         "Europe",
         "Ukraine",
         "Donetsk",
         "",
         ""
        ],
        [
         "El Cilindro",
         "51,389",
         "South America",
         "Argentina",
         "Avellaneda",
         "",
         "Racing Club de Avellaneda"
        ],
        [
         "İzmir Atatürk Stadyumu",
         "51,295",
         "West Asia",
         "Turkey",
         "İzmir",
         "",
         "Altay SK,Göztepe AŞ"
        ],
        [
         "Stadion Feijenoord",
         "51,117",
         "Europe",
         "Netherlands",
         "Rotterdam",
         "",
         "Feyenoord"
        ],
        [
         "Estadio BBVA",
         "51,000[54]",
         "North America",
         "Mexico",
         "Monterrey",
         "",
         "CF Monterrey"
        ],
        [
         "Ghadir Stadium",
         "51,000",
         "West Asia",
         "Iran",
         "Ahvaz",
         "",
         "Foolad FC"
        ],
        [
         "Estádio José Pinheiro Borda",
         "50,942",
         "South America",
         "Brazil",
         "Porto Alegre.Rio Grande do Sul",
         "",
         "SC Internacional"
        ],
        [
         "Ibrox Stadium",
         "50,817[55]",
         "Europe",
         "Scotland",
         "Glasgow",
         "",
         "Rangers FC"
        ],
        [
         "Shizuoka Stadium",
         "50,889[56]",
         "East Asia",
         "Japan",
         "Fukuroi, Shizuoka",
         "",
         "Júbilo Iwata,Shimizu S-Pulse,Shizuoka Blue Revs"
        ],
        [
         "Ernst-Happel-Stadion♦",
         "50,865",
         "Europe",
         "Austria",
         "Vienna",
         "",
         "Austria national football team"
        ],
        [
         "Huntington Bank Stadium",
         "50,805",
         "North America",
         "United States",
         "Minneapolis",
         "",
         "Minnesota Golden Gophers football"
        ],
        [
         "Estadio Cuauhtémoc",
         "50,754",
         "North America",
         "Mexico",
         "Puebla",
         "",
         "Puebla FC"
        ],
        [
         "Strawberry Arena♦",
         "50,653",
         "Europe",
         "Sweden",
         "Solna",
         "",
         "Sweden men's national football team,AIK Fotboll"
        ],
        [
         "Ülker Stadyumu",
         "50,509",
         "West Asia",
         "Turkey",
         "Istanbul",
         "",
         "Fenerbahçe"
        ],
        [
         "Stanford Stadium",
         "50,424",
         "North America",
         "United States",
         "Palo Alto, California",
         "",
         ""
        ],
        [
         "Stade Pierre-Mauroy",
         "50,186",
         "Europe",
         "France",
         "Villeneuve-d'Ascq",
         "",
         "Lille OSC"
        ],
        [
         "Stade Roi Baudouin♦",
         "50,122",
         "Europe",
         "Belgium",
         "Brussels",
         "",
         "Belgium national football team"
        ],
        [
         "Shaanxi Province Stadium",
         "50,100",
         "East Asia",
         "China",
         "Xi'an,Shaanxi",
         "",
         ""
        ],
        [
         "Ajinomoto Stadium",
         "50,100",
         "East Asia",
         "Japan",
         "Chofu, Tokyo",
         "",
         "FC Tokyo,Tokyo Verdy,Tokyo Sungoliath,Toshiba Brave Lupus Tokyo"
        ],
        [
         "Estádio José Alvalade",
         "50,095",
         "Europe",
         "Portugal",
         "Lisbon",
         "",
         "Sporting CP"
        ],
        [
         "Estádio do Dragão",
         "50,033",
         "Europe",
         "Portugal",
         "Porto",
         "",
         "FC Porto"
        ],
        [
         "Casa de Apostas Arena Fonte Nova",
         "50,025",
         "South America",
         "Brazil",
         "Salvador, Bahia",
         "",
         "EC Bahia"
        ],
        [
         "Stade Olympique de Sousse",
         "50,000",
         "Africa",
         "Tunisia",
         "Sousse",
         "",
         "Étoile du Sahel"
        ],
        [
         "RheinEnergieSTADION",
         "50,000",
         "Europe",
         "Germany",
         "Cologne",
         "",
         "1. FC Köln"
        ],
        [
         "Harbin Sports City Centre Stadium",
         "50,000",
         "East Asia",
         "China",
         "Harbin,Heilongjiang",
         "",
         ""
        ],
        [
         "Greenfield International Stadium",
         "50,000[57]",
         "South Asia",
         "India",
         "Trivandrum",
         "",
         ""
        ],
        [
         "EMS Stadium",
         "50,000",
         "South Asia",
         "India",
         "Kozhikode",
         "",
         "India national football team,Gokulam Kerala FC"
        ],
        [
         "KD Singh Babu Stadium",
         "50,000",
         "South Asia",
         "India",
         "Lucknow",
         "",
         ""
        ],
        [
         "Eden Park♦",
         "50,000",
         "Oceania",
         "New Zealand",
         "Auckland",
         "",
         "Auckland Blues,New Zealand Warriors"
        ],
        [
         "Estádio 11 de Novembro♦",
         "50,000",
         "Africa",
         "Angola",
         "Luanda",
         "",
         "Angola national football team,Primeiro de Agosto,Petro Luanda"
        ],
        [
         "Henan Provincial Stadium",
         "50,000",
         "East Asia",
         "China",
         "Zhengzhou,Henan",
         "",
         ""
        ],
        [
         "Jiangxi Olympic Sports Center",
         "50,000",
         "East Asia",
         "China",
         "Nanchang,Jiangxi",
         "",
         ""
        ],
        [
         "Max-Morlock-Stadion",
         "50,000",
         "Europe",
         "Germany",
         "Nuremberg",
         "",
         "1. FC Nürnberg"
        ],
        [
         "June 11 Stadium♦",
         "50,000",
         "Africa",
         "Libya",
         "Tripoli",
         "",
         "Libya,Al-Ahly SC,Al-Ittihad Tripoli,Al-Madina SC"
        ],
        [
         "Xinjiang Sports Centre Stadium",
         "50,000",
         "East Asia",
         "China",
         "Urumqi,Xinjiang",
         "",
         ""
        ],
        [
         "Kim Il-sung Stadium",
         "50,000",
         "East Asia",
         "North Korea",
         "Pyongyang",
         "",
         "Pyongyang City Sports Club"
        ],
        [
         "EDION Stadium Hiroshima",
         "50,000",
         "East Asia",
         "Japan",
         "Hiroshima",
         "",
         "Sanfrecce Hiroshima"
        ],
        [
         "Pars Shiraz Stadium",
         "50,000",
         "West Asia",
         "Iran",
         "Shiraz",
         "",
         "Fajr Sepasi Shiraz FC"
        ],
        [
         "Stade du 26 mars♦",
         "50,000",
         "Africa",
         "Mali",
         "Bamako",
         "",
         "Stade Malien"
        ],
        [
         "Stade Abdoulaye Wade",
         "50,000",
         "Africa",
         "Senegal",
         "Dakar",
         "",
         "Senegal national football team"
        ],
        [
         "Sultan Mizan Zainal Abidin Stadium",
         "50,000",
         "Southeast Asia",
         "Malaysia",
         "Kuala Terengganu",
         "",
         "Terengganu FA"
        ],
        [
         "Estadio Akron",
         "49,850",
         "North America",
         "Mexico",
         "Guadalajara",
         "",
         "C.D. Guadalajara"
        ],
        [
         "Levy Mwanawasa Stadium",
         "49,800",
         "Africa",
         "Zambia",
         "Lusaka",
         "",
         "Zesco United"
        ],
        [
         "Fritz-Walter-Stadion",
         "49,780",
         "Europe",
         "Germany",
         "Kaiserslautern",
         "",
         "1. FC Kaiserslautern"
        ],
        [
         "Estadio José Amalfitani",
         "49,540",
         "South America",
         "Argentina",
         "Buenos Aires",
         "",
         "CA Vélez Sársfield"
        ],
        [
         "Camille Chamoun Sports City Stadium♦",
         "49,500[58]",
         "West Asia",
         "Lebanon",
         "Beirut",
         "",
         "Lebanon national football team,Al Ahed FC,Al Ansar FC,Nejmeh SC"
        ],
        [
         "Miyagi Stadium",
         "49,133",
         "East Asia",
         "Japan",
         "Rifu, Miyagi",
         "",
         "Vegalta Sendai"
        ],
        [
         "Incheon Munhak Stadium",
         "49,084",
         "East Asia",
         "South Korea",
         "Incheon",
         "",
         ""
        ],
        [
         "Heinz-von-Heiden-Arena",
         "49,000",
         "Europe",
         "Germany",
         "Hanover",
         "",
         "Hannover 96"
        ],
        [
         "Parc des Princes",
         "48,712",
         "Europe",
         "France",
         "Paris",
         "",
         "Paris Saint-Germain"
        ],
        [
         "Stadium of Light",
         "48,707",
         "Europe",
         "England",
         "Sunderland, Tyne and Wear",
         "",
         "Sunderland AFC"
        ],
        [
         "Estadio Nacional♦",
         "48,665",
         "South America",
         "Chile",
         "Santiago",
         "",
         "Chile national football team,CF Universidad de Chile"
        ],
        [
         "Nelson Mandela Bay Stadium",
         "48,459",
         "Africa",
         "South Africa",
         "Port Elizabeth, Eastern Cape",
         "",
         "Chippa United FC"
        ],
        [
         "Estadio Tomás Adolfo Ducó",
         "48,314",
         "South America",
         "Argentina",
         "Buenos Aires",
         "",
         "CA Huracán"
        ],
        [
         "Jinnah Sports Stadium♦",
         "48,200",
         "South Asia",
         "Pakistan",
         "Islamabad",
         "",
         "Pakistan national football team"
        ],
        [
         "Estadio Libertadores de América",
         "48,069",
         "South America",
         "Argentina",
         "Avellaneda",
         "",
         "Club Atlético Independiente"
        ],
        [
         "Free State Stadium",
         "48,000",
         "Africa",
         "South Africa",
         "Bloemfontein, Free State",
         "",
         "Bloemfontein Celtic,Toyota Cheetahs"
        ],
        [
         "Nagai Stadium",
         "47,816",
         "East Asia",
         "Japan",
         "Osaka",
         "",
         "Cerezo Osaka,NTT DoCoMo Red Hurricanes Osaka"
        ],
        [
         "Neo Química Arena",
         "47,605",
         "South America",
         "Brazil",
         "São Paulo, São Paulo",
         "",
         "Corinthians"
        ],
        [
         "Rogers Centre",
         "47,568",
         "North America",
         "Canada",
         "Toronto, Ontario",
         "",
         "Toronto FC,Toronto Argonauts"
        ],
        [
         "Estadio Monumental",
         "47,347",
         "South America",
         "Chile",
         "Santiago",
         "",
         "Colo-Colo"
        ],
        [
         "Stadio Artemio Franchi",
         "47,282",
         "Europe",
         "Italy",
         "Florence",
         "",
         "ACF Fiorentina"
        ],
        [
         "Estadio Ciudad de Lanús – Néstor Díaz Pérez",
         "47,027",
         "South America",
         "Argentina",
         "Lanús",
         "",
         "CA Lanús"
        ],
        [
         "Estadio Metropolitano Roberto Meléndez",
         "46,788",
         "South America",
         "Colombia",
         "Barranquilla",
         "",
         "Colombia national football team,Atlético Junior"
        ],
        [
         "Estádio Olímpico Nilton Santos",
         "46,831",
         "South America",
         "Brazil",
         "Rio de Janeiro, Rio de Janeiro",
         "",
         "Botafogo FR"
        ],
        [
         "Itaipava Arena Pernambuco",
         "46,154",
         "South America",
         "Brazil",
         "São Lourenço da Mata,Pernambuco",
         "",
         "Náutico"
        ],
        [
         "Arena MRV",
         "46,000",
         "South America",
         "Brazil",
         "Belo Horizonte,Minas Gerais",
         "",
         "C Atlético Mineiro"
        ],
        [
         "Estádio Paulo Constantino",
         "45,954",
         "South America",
         "Brazil",
         "Presidente Prudente, São Paulo",
         "",
         "Grêmio Prudente"
        ],
        [
         "Estadio Atanasio Girardot",
         "45,739",
         "South America",
         "Colombia",
         "Medellín",
         "",
         "Atlético Nacional,Independiente Medellín"
        ],
        [
         "Estadio Ramón Sánchez Pizjuán",
         "45,500",
         "Europe",
         "Spain",
         "Seville",
         "",
         "Sevilla FC"
        ],
        [
         "Adrar Stadium",
         "45,480",
         "Africa",
         "Morocco",
         "Agadir",
         "",
         "Hassania Agadir"
        ],
        [
         "Lukoil Arena",
         "45,360",
         "Europe",
         "Russia",
         "Moscow",
         "",
         "Spartak Moscow"
        ],
        [
         "Grand stade de Marrakech",
         "45,240",
         "Africa",
         "Morocco",
         "Marrakesh",
         "",
         "Kawkab Marrakech"
        ],
        [
         "Mandela National Stadium♦",
         "45,202",
         "Africa",
         "Uganda",
         "Kampala",
         "",
         "Uganda national football team"
        ],
        [
         "Tarczyński Arena Wrocław",
         "45,105",
         "Europe",
         "Poland",
         "Wrocław",
         "",
         "Śląsk Wrocław"
        ],
        [
         "Kazan Arena",
         "45,105",
         "Europe",
         "Russia",
         "Kazan",
         "",
         "Rubin Kazan"
        ],
        [
         "Estadio Inca Garcilaso de la Vega",
         "45,056",
         "South America",
         "Peru",
         "Cusco",
         "",
         "CS Cienciano,Deportivo Garcilaso,Cusco FC"
        ],
        [
         "Estádio da Machava♦",
         "45,000",
         "Africa",
         "Mozambique",
         "Maputo",
         "",
         "Mozambique national football team"
        ],
        [
         "Stadion Gelora Bung Tomo",
         "45,000",
         "Southeast Asia",
         "Indonesia",
         "Surabaya, East Java",
         "",
         "Persebaya Surabaya"
        ],
        [
         "Stadion Harapan Banga",
         "45,000",
         "Southeast Asia",
         "Indonesia",
         "Banda Aceh, Aceh",
         "",
         "Persiraja,Aceh United"
        ],
        [
         "Estadio General Pablo Rojas♦",
         "45,000",
         "South America",
         "Paraguay",
         "Asunción",
         "",
         "Club Cerro Porteño"
        ],
        [
         "Stade Mohammed V♦",
         "45,000[59]",
         "Africa",
         "Morocco",
         "Casablanca",
         "",
         "Wydad,Raja"
        ],
        [
         "Latakia Sports City Stadium",
         "45,000",
         "West Asia",
         "Syria",
         "Latakia",
         "",
         ""
        ],
        [
         "Zibo Sports Centre Stadium",
         "45,000",
         "East Asia",
         "China",
         "Zibo,Shandong",
         "",
         ""
        ],
        [
         "Weifang Sports Centre Stadium",
         "45,000",
         "East Asia",
         "China",
         "Weifang,Shandong",
         "",
         ""
        ],
        [
         "Yantai Sports Park Stadium",
         "45,000",
         "East Asia",
         "China",
         "Yantai,Shandong",
         "",
         ""
        ],
        [
         "Stadium Tuanku Abdul Rahman",
         "45,000",
         "Southeast Asia",
         "Malaysia",
         "Seremban",
         "",
         "ATM FA,Negeri Sembilan"
        ],
        [
         "Stade du Complexe sportif de Fès",
         "45,000",
         "Africa",
         "Morocco",
         "Fes",
         "",
         "Wydad de Fès,Maghreb de Fès"
        ],
        [
         "Lagos National Stadium",
         "45,000",
         "Africa",
         "Nigeria",
         "Lagos",
         "",
         "Nigeria national football team"
        ],
        [
         "Egyptian Army Stadium",
         "45,000",
         "Africa",
         "Egypt",
         "Suez",
         "",
         ""
        ],
        [
         "Toyota Stadium",
         "45,000",
         "East Asia",
         "Japan",
         "Toyota City,Aichi",
         "",
         "Nagoya Grampus,Toyota Verblitz"
        ],
        [
         "Zayed Sports City Stadium",
         "45,000[60]",
         "West Asia",
         "United Arab Emirates",
         "Abu Dhabi",
         "",
         ""
        ],
        [
         "Red Bull Arena",
         "44,345",
         "Europe",
         "Germany",
         "Leipzig",
         "",
         "RB Leipzig"
        ],
        [
         "Estádio Governador Alberto Tavares Silva",
         "44,200",
         "South America",
         "Brazil",
         "Teresina",
         "",
         "River AC,EC Flamengo,Piauí EC,SE Tiradentes,Auto EC"
        ],
        [
         "Estádio Universitário Pedro Pedrossian",
         "44,200",
         "South America",
         "Brazil",
         "Campo Grande,Mato Grosso do Sul",
         "",
         "EC Comercial,Operário FC"
        ],
        [
         "Ulsan Munsu Football Stadium",
         "44,102",
         "East Asia",
         "South Korea",
         "Ulsan",
         "",
         "Ulsan HD FC"
        ],
        [
         "Arena Pantanal",
         "44,097",
         "South America",
         "Brazil",
         "Cuiabá, Mato Grosso",
         "",
         "Cuiabá,Mixto EC"
        ],
        [
         "Arena da Amazônia",
         "44,000",
         "South America",
         "Brazil",
         "Manaus, Amazonas",
         "",
         "Nacional FC"
        ],
        [
         "Suwon World Cup Stadium",
         "43,959",
         "East Asia",
         "South Korea",
         "Suwon",
         "",
         "Suwon Samsung Bluewings"
        ],
        [
         "Stadion Utama Riau",
         "43,923",
         "Southeast Asia",
         "Indonesia",
         "Pekanbaru,Riau",
         "",
         "PSPS Pekanbaru"
        ],
        [
         "Allianz Parque",
         "43,713",
         "South America",
         "Brazil",
         "São Paulo, São Paulo",
         "",
         "SE Palmeiras"
        ],
        [
         "Shandong Provincial Stadium",
         "43,700",
         "East Asia",
         "China",
         "Jinan,Shandong",
         "",
         ""
        ],
        [
         "Polsat Plus Arena Gdańsk",
         "43,615",
         "Europe",
         "Poland",
         "Gdańsk",
         "",
         "Lechia Gdańsk"
        ],
        [
         "Estadio Pedro Bidegain",
         "43,494",
         "South America",
         "Argentina",
         "Buenos Aires",
         "",
         "CA San Lorenzo de Almagro"
        ],
        [
         "Stadion Miejski w Poznaniu",
         "43,269",
         "Europe",
         "Poland",
         "Poznań",
         "",
         "Lech Poznań,Warta Poznań"
        ],
        [
         "Vasil Levski National Stadium",
         "43,230",
         "Europe",
         "Bulgaria",
         "Sofia",
         "",
         "Bulgaria national football team"
        ],
        [
         "Estadio Universidad San Marcos",
         "43,000",
         "South America",
         "Peru",
         "Lima",
         "",
         "Deportivo Universidad San Marcos"
        ],
        [
         "Ullevi",
         "43,000",
         "Europe",
         "Sweden",
         "Gothenburg",
         "",
         "Sweden women's national football team"
        ],
        [
         "Jinzhou Binhai Sports Centre Stadium",
         "43,000",
         "East Asia",
         "China",
         "Jinzhou",
         "",
         ""
        ],
        [
         "Estadio General Santander",
         "42,901",
         "South America",
         "Colombia",
         "Cúcuta",
         "",
         "Cúcuta Deportivo"
        ],
        [
         "Villa Park",
         "42,682",
         "Europe",
         "England",
         "Birmingham,West Midlands",
         "",
         "Aston Villa"
        ],
        [
         "Perak Stadium",
         "42,500",
         "Southeast Asia",
         "Malaysia",
         "Perak",
         "",
         "Perak FA"
        ],
        [
         "Jeonju World Cup Stadium",
         "42,477",
         "East Asia",
         "South Korea",
         "Jeonju",
         "",
         "Jeonbuk Hyundai Motors FC"
        ],
        [
         "Ligga Arena",
         "42,372",
         "South America",
         "Brazil",
         "Curitiba,Paraná",
         "",
         "Athletico Paranaense"
        ],
        [
         "Weserstadion",
         "42,358",
         "Europe",
         "Germany",
         "Bremen",
         "",
         "SV Werder Bremen"
        ],
        [
         "Denka Big Swan Stadium",
         "42,300",
         "East Asia",
         "Japan",
         "Niigata, Niigata",
         "",
         "Albirex Niigata"
        ],
        [
         "Estadio Olimpico Metropolitano de Mérida",
         "42,200",
         "South America",
         "Venezuela",
         "Mérida",
         "",
         "Estudiantes de Mérida"
        ],
        [
         "Daejeon World Cup Stadium",
         "42,176",
         "East Asia",
         "South Korea",
         "Daejeon",
         "",
         "Daejeon Citizen"
        ],
        [
         "Matmut ATLANTIQUE",
         "42,115",
         "Europe",
         "France",
         "Bordeaux",
         "",
         "FC Girondins de Bordeaux"
        ],
        [
         "Helsingin Olympiastadion♦",
         "42,062",
         "Europe",
         "Finland",
         "Helsinki",
         "",
         "Finland national football team"
        ],
        [
         "Estádio Serra Dourada",
         "42,000",
         "South America",
         "Brazil",
         "Goiânia,Goiás",
         "",
         "Goiás Esporte Clube,Vila Nova,Atlético Goianiense"
        ],
        [
         "Estadio Deportivo Cali♦",
         "42,000",
         "South America",
         "Colombia",
         "Cali",
         "",
         "Deportivo Cali"
        ],
        [
         "Estadio Modelo Alberto Spencer",
         "42,000",
         "South America",
         "Ecuador",
         "Guayaquil",
         "",
         "Club Sport Patria,Club Deportivo Everest,Panamá Sporting Club,Rocafuerte Fútbol Club"
        ],
        [
         "Estádio do Zimpeto",
         "42,000",
         "Africa",
         "Mozambique",
         "Maputo",
         "",
         "Mozambique national football team"
        ],
        [
         "Chengdu Sports Centre Stadium",
         "42,000",
         "East Asia",
         "China",
         "Chengdu,Sichuan",
         "",
         ""
        ],
        [
         "Royal Bafokeng Stadium",
         "42,000",
         "Africa",
         "South Africa",
         "Phokeng, North West",
         "",
         ""
        ],
        [
         "Estadio Universitario",
         "42,000",
         "North America",
         "Mexico",
         "San Nicolás de los Garza",
         "",
         "Tigres de la UANL"
        ],
        [
         "Estadio Brigadier General Estanislao López",
         "42,000",
         "South America",
         "Argentina",
         "Santa Fe",
         "",
         "Club Atlético Colón"
        ],
        [
         "Estadio Marcelo Bielsa",
         "42,000",
         "South America",
         "Argentina",
         "Rosario",
         "",
         "Newell's Old Boys"
        ],
        [
         "Stade Geoffroy-Guichard",
         "41,965",
         "Europe",
         "France",
         "Saint-Étienne",
         "",
         "AS Saint-Étienne"
        ],
        [
         "Vodafone Park",
         "41,903",
         "Europe",
         "Turkey",
         "Istanbul",
         "",
         "Beşiktaş J.K."
        ],
        [
         "Peter Mokaba Stadium",
         "41,733",
         "Africa",
         "South Africa",
         "Polokwane",
         "",
         "Polokwane City FC"
        ],
        [
         "Estadio Gigante de Arroyito",
         "41,654",
         "South America",
         "Argentina",
         "Rosario",
         "",
         "Rosario Central"
        ],
        [
         "Estadio Cachamay",
         "41,600",
         "South America",
         "Venezuela",
         "Ciudad Guayana",
         "",
         "Atlético Club Mineros de Guayana,AC Minervén FC"
        ],
        [
         "Estadio de Liga Deportiva Universitaria",
         "41,596",
         "South America",
         "Ecuador",
         "Quito",
         "",
         "LDU"
        ],
        [
         "Allianz Stadium",
         "41,507",
         "Europe",
         "Italy",
         "Turin, Piedmont",
         "",
         "Juventus FC"
        ],
        [
         "Sapporo Dome",
         "41,484",
         "East Asia",
         "Japan",
         "Sapporo,Hokkaido",
         "",
         "Hokkaido Consadole Sapporo"
        ],
        [
         "Stamford Bridge",
         "41,663",
         "Europe",
         "England",
         "London",
         "",
         "Chelsea"
        ],
        [
         "Goyang Stadium",
         "41,311",
         "East Asia",
         "South Korea",
         "Goyang",
         "",
         ""
        ],
        [
         "Estadio Hernando Siles♦",
         "41,143",
         "South America",
         "Bolivia",
         "La Paz",
         "",
         "La Paz FC,Club Bolívar,The Strongest"
        ],
        [
         "Bingu National Stadium",
         "41,100",
         "Africa",
         "Malawi",
         "Lilongwe",
         "",
         "Flames,Big Bullets FC"
        ],
        [
         "Mbombela Stadium",
         "40,929",
         "Africa",
         "South Africa",
         "Nelspruit, Mpumalanga",
         "",
         ""
        ],
        [
         "Estadio José Pachencho Romero",
         "40,800",
         "South America",
         "Venezuela",
         "Maracaibo",
         "",
         "Deportivo JBL del Zulia,Deportivo Rayo Zuliano"
        ],
        [
         "Stade Nelson Mandela",
         "40,784",
         "Africa",
         "Algeria",
         "Algiers",
         "",
         "Algeria national football team"
        ],
        [
         "Kashima Football Stadium",
         "40,728",
         "East Asia",
         "Japan",
         "Kashima, Ibaraki",
         "",
         "Kashima Antlers"
        ],
        [
         "Baba Yara Stadium♦",
         "40,528",
         "Africa",
         "Ghana",
         "Kumasi",
         "",
         "Asante Kotoko,King Faisal Babes"
        ],
        [
         "Estádio Major Antônio Couto Pereira",
         "40,502",
         "South America",
         "Brazil",
         "Curitiba, Paraná",
         "",
         "Coritiba Foot Ball Club"
        ],
        [
         "Stage Front Stadium",
         "40,500",
         "Europe",
         "Spain",
         "Barcelona",
         "",
         "RCD Espanyol"
        ],
        [
         "Estadio Metropolitano de fútbol de Lara",
         "40,312",
         "South America",
         "Venezuela",
         "Barquisimeto",
         "",
         "Unión Lara"
        ],
        [
         "Estadio Malvinas Argentinas",
         "40,268",
         "South America",
         "Argentina",
         "Mendoza",
         "",
         "Godoy Cruz Antonio Tomba"
        ],
        [
         "Stadion Lukas Enembe",
         "40,263",
         "Southeast Asia",
         "Indonesia",
         "Nolokla",
         "",
         "Persipura Jayapura"
        ],
        [
         "Gwangju World Cup Stadium",
         "40,245",
         "East Asia",
         "South Korea",
         "Gwangju",
         "",
         "Gwangju FC"
        ],
        [
         "Sân vận động Quốc gia Mỹ Đình♦",
         "40,192",
         "Southeast Asia",
         "Vietnam",
         "Hanoi",
         "",
         "Vietnam national football team"
        ],
        [
         "Goodison Park",
         "40,157",
         "Europe",
         "England",
         "Liverpool, North West",
         "",
         "Everton FC"
        ],
        [
         "Estádio Governador João Castelo",
         "40,149",
         "South America",
         "Brazil",
         "São Luís, Maranhão",
         "",
         "Sampaio Corrêa FC,Moto Club SL,Maranhão AC"
        ],
        [
         "Stade Miloud-Hadefi",
         "40,143",
         "Africa",
         "Algeria",
         "Oran",
         "",
         "Algeria national football team,MC Oran"
        ],
        [
         "Estadio Campeón del Siglo",
         "40,005",
         "South America",
         "Uruguay",
         "Montevideo",
         "",
         "Club Atlético Peñarol"
        ],
        [
         "Metalist Stadium",
         "40,003",
         "Europe",
         "Ukraine",
         "Kharkiv",
         "",
         "FC Metalist Kharkiv,FC Shakhtar Donetsk"
        ],
        [
         "Al-Janoub Stadium",
         "40,000",
         "West Asia",
         "Qatar",
         "Al-Wakrah",
         "",
         ""
        ],
        [
         "Al-Thumama Stadium",
         "40,000",
         "West Asia",
         "Qatar",
         "Al-Thumama",
         "",
         ""
        ],
        [
         "Stade Ahmed-Zabana",
         "40,000",
         "Africa",
         "Algeria",
         "Oran",
         "",
         "MC Oran"
        ],
        [
         "Stadion Batakan",
         "40,000",
         "Southeast Asia",
         "Indonesia",
         "Balikpapan, East Kalimantan",
         "",
         "Persiba Balikpapan"
        ],
        [
         "Stadion Gelora Joko Samudro",
         "40,000",
         "Southeast Asia",
         "Indonesia",
         "Gresik, East Java",
         "",
         "Gresik United"
        ],
        [
         "Fisht Olympic Stadium",
         "40,000",
         "Europe",
         "Russia",
         "Sochi",
         "",
         ""
        ],
        [
         "Rentschler Field",
         "40,000",
         "North America",
         "United States",
         "East Hartford, Connecticut",
         "",
         ""
        ],
        [
         "Jawaharlal Nehru Stadium",
         "40,000",
         "South Asia",
         "India",
         "Kochi",
         "",
         "Kerala Blasters,India national football team"
        ],
        [
         "Hang Jebat Stadium",
         "40,000",
         "Southeast Asia",
         "Malaysia",
         "Malacca",
         "",
         "Melaka United"
        ],
        [
         "Hong Kong Stadium♦",
         "40,000",
         "East Asia",
         "Hong Kong",
         "So Kon Po",
         "",
         "South China AA"
        ],
        [
         "Stadium Negeri Pulau Pinang",
         "40,000",
         "Southeast Asia",
         "Malaysia",
         "Batu Kawan",
         "",
         "Penang FA"
        ],
        [
         "Accra Sports Stadium",
         "40,000",
         "Africa",
         "Ghana",
         "Accra",
         "",
         "Accra Hearts of Oak SC,Great Olympics"
        ],
        [
         "Sarawak Stadium",
         "40,000",
         "Southeast Asia",
         "Malaysia",
         "Kuching",
         "",
         "Sarawak FA"
        ],
        [
         "Bogyoke Aung San Stadium♦",
         "40,000",
         "Southeast Asia",
         "Myanmar",
         "Yangon",
         "",
         "Yangon United FC"
        ],
        [
         "Resonac Dome Ōita",
         "40,000",
         "East Asia",
         "Japan",
         "Ōita",
         "",
         "Ōita Trinita"
        ],
        [
         "Stadium Darul Makmur",
         "40,000",
         "Southeast Asia",
         "Malaysia",
         "Kuantan",
         "",
         "Pahang FA"
        ],
        [
         "Khalifa International Stadium",
         "40,000",
         "West Asia",
         "Qatar",
         "Doha",
         "",
         "Qatar national football team"
        ],
        [
         "Stade de l’Amitié sino-gabonaise♦",
         "40,000",
         "Africa",
         "Gabon",
         "Libreville",
         "",
         "Gabon national football team"
        ],
        [
         "Peoples Football Stadium",
         "40,000",
         "South Asia",
         "Pakistan",
         "Karachi",
         "",
         "Pakistan national football team"
        ],
        [
         "JRD Tata Sports Complex Stadium",
         "40,000",
         "South Asia",
         "India",
         "Jamshedpur",
         "",
         "Jamshedpur FC,Tata Football Academy"
        ],
        [
         "Bao'an Stadium",
         "40,000",
         "East Asia",
         "China",
         "Shenzhen,Guangdong",
         "",
         ""
        ],
        [
         "Kunming Tuodong Sports Centre Stadium",
         "40,000",
         "East Asia",
         "China",
         "Kunming,Yunnan",
         "",
         "China national football team"
        ],
        [
         "Taizhou Sports Centre Stadium",
         "40,000",
         "East Asia",
         "China",
         "Taizhou,Zhejiang",
         "",
         ""
        ],
        [
         "Wuhu Olympic Stadium",
         "40,000",
         "East Asia",
         "China",
         "Wuhu,Anhui",
         "",
         ""
        ],
        [
         "Huizhou Olympic Stadium",
         "40,000",
         "East Asia",
         "China",
         "Huizhou,Guangdong",
         "",
         ""
        ]
       ],
       "datasetInfos": [],
       "dbfsResultPath": null,
       "isJsonSchema": true,
       "metadata": {},
       "overflow": false,
       "plotOptions": {
        "customPlotOptions": {},
        "displayType": "table",
        "pivotAggregation": null,
        "pivotColumns": null,
        "xColumns": null,
        "yColumns": null
       },
       "removedWidgets": [],
       "schema": [
        {
         "metadata": "{}",
         "name": "Stadium",
         "type": "\"string\""
        },
        {
         "metadata": "{}",
         "name": "Capacity",
         "type": "\"string\""
        },
        {
         "metadata": "{}",
         "name": "Region",
         "type": "\"string\""
        },
        {
         "metadata": "{}",
         "name": "Country",
         "type": "\"string\""
        },
        {
         "metadata": "{}",
         "name": "City",
         "type": "\"string\""
        },
        {
         "metadata": "{}",
         "name": "Image",
         "type": "\"string\""
        },
        {
         "metadata": "{}",
         "name": "Clubs",
         "type": "\"string\""
        }
       ],
       "type": "table"
      }
     },
     "output_type": "display_data"
    },
    {
     "output_type": "stream",
     "name": "stdout",
     "output_type": "stream",
     "text": [
      "<class 'pandas.core.frame.DataFrame'>\nRangeIndex: 379 entries, 0 to 378\nData columns (total 7 columns):\n #   Column    Non-Null Count  Dtype \n---  ------    --------------  ----- \n 0   Stadium   379 non-null    object\n 1   Capacity  379 non-null    object\n 2   Region    379 non-null    object\n 3   Country   379 non-null    object\n 4   City      379 non-null    object\n 5   Image     379 non-null    object\n 6   Clubs     379 non-null    object\ndtypes: object(7)\nmemory usage: 20.9+ KB\n"
     ]
    }
   ],
   "source": [
    "import requests\n",
    "from bs4 import BeautifulSoup\n",
    "import pandas as pd\n",
    "\n",
    "# URL de la página de Wikipedia\n",
    "url = \"https://en.wikipedia.org/wiki/List_of_association_football_stadiums_by_capacity\"\n",
    "\n",
    "# Realizamos una solicitud GET a la página\n",
    "response = requests.get(url)\n",
    "\n",
    "# Comprobamos si la solicitud fue exitosa\n",
    "if response.status_code == 200:\n",
    "    # Analizamos el contenido HTML de la página con BeautifulSoup\n",
    "    soup = BeautifulSoup(response.content, 'html.parser')\n",
    "\n",
    "    # Buscamos todas las tablas que contienen las listas de estadios\n",
    "    tables = soup.find_all('table', {'class': 'wikitable'})\n",
    "\n",
    "    # Lista para almacenar las filas con 7 celdas\n",
    "    valid_rows = []\n",
    "\n",
    "    # Iteramos sobre cada tabla\n",
    "    for table in tables:\n",
    "        # Encontramos todas las filas (tr) de la tabla\n",
    "        rows = table.find_all('tr')\n",
    "        \n",
    "        # Iteramos sobre cada fila (tr)\n",
    "        for row in rows:\n",
    "            # Obtenemos todas las celdas (td) de la fila\n",
    "            cells = row.find_all('td')\n",
    "            \n",
    "            # Si la fila contiene celdas y tiene exactamente 7 celdas\n",
    "            if len(cells) == 7:\n",
    "                # Extraemos el texto de cada celda y eliminamos los saltos de línea y espacios extra\n",
    "                row_data = [cell.get_text(strip=True) for cell in cells]\n",
    "                valid_rows.append(row_data)\n",
    "    \n",
    "    # Convertimos las filas válidas a un DataFrame\n",
    "    df_valid_rows = pd.DataFrame(valid_rows, columns=['Stadium', 'Capacity', 'Region', 'Country', 'City', 'Image','Clubs'])\n",
    "    df_valid_rows.display()\n",
    "    df_valid_rows.info()\n",
    "else:\n",
    "    print(\"Error al obtener la página:\", response.status_code)\n"
   ]
  },
  {
   "cell_type": "code",
   "execution_count": 0,
   "metadata": {
    "application/vnd.databricks.v1+cell": {
     "cellMetadata": {
      "byteLimit": 2048000,
      "rowLimit": 10000
     },
     "inputWidgets": {},
     "nuid": "ea694a38-ba92-4faf-ad0c-c1b822114016",
     "showTitle": false,
     "tableResultSettingsMap": {},
     "title": ""
    }
   },
   "outputs": [
    {
     "output_type": "display_data",
     "data": {
      "text/html": [
       "<style scoped>\n",
       "  .table-result-container {\n",
       "    max-height: 300px;\n",
       "    overflow: auto;\n",
       "  }\n",
       "  table, th, td {\n",
       "    border: 1px solid black;\n",
       "    border-collapse: collapse;\n",
       "  }\n",
       "  th, td {\n",
       "    padding: 5px;\n",
       "  }\n",
       "  th {\n",
       "    text-align: left;\n",
       "  }\n",
       "</style><div class='table-result-container'><table class='table-result'><thead style='background-color: white'><tr><th>Stadium</th><th>Capacity</th><th>Region</th><th>Country</th><th>City</th><th>Clubs</th></tr></thead><tbody><tr><td>Rungrado 1st of May Stadium</td><td>114,000</td><td>East Asia</td><td>North Korea</td><td>Pyongyang</td><td>Korea DPR national football team,Korea DPR women's national football team,April 25</td></tr><tr><td>Michigan Stadium</td><td>107,601</td><td>North America</td><td>United States</td><td>Ann Arbor, Michigan</td><td>Michigan Wolverines football</td></tr><tr><td>Ohio Stadium</td><td>102,780</td><td>North America</td><td>United States</td><td>Columbus, Ohio</td><td>Ohio State Buckeyes football</td></tr><tr><td>Melbourne Cricket Ground</td><td>100,024</td><td>Oceania</td><td>Australia</td><td>Melbourne,Victoria</td><td>Australia national cricket team,Victoria cricket team,Melbourne Cricket Club,Melbourne Stars,Melbourne FC,Richmond FC,Collingwood FC,Hawthorn FC</td></tr><tr><td>Camp Nou</td><td>99,354</td><td>Europe</td><td>Spain</td><td>Barcelona, Catalonia</td><td>FC Barcelona</td></tr><tr><td>Estadio Azteca</td><td>95,500</td><td>North America</td><td>Mexico</td><td>Mexico City</td><td>Club América,Cruz Azul,Mexico national football team</td></tr><tr><td>FNB Stadium</td><td>94,736</td><td>Africa</td><td>South Africa</td><td>Johannesburg,Gauteng</td><td>South Africa national football team,Kaizer Chiefs</td></tr><tr><td>New Administrative Capital Stadium</td><td>93,940</td><td>Africa</td><td>Egypt</td><td>New Administrative Capital</td><td>Egypt national football team</td></tr><tr><td>Rose Bowl Stadium</td><td>92,800</td><td>North America</td><td>United States</td><td>Pasadena, California</td><td>UCLA Bruins</td></tr><tr><td>Cotton Bowl Stadium</td><td>92,100</td><td>North America</td><td>United States</td><td>Dallas,Texas</td><td></td></tr><tr><td>Wembley Stadium</td><td>90,000</td><td>Europe</td><td>England</td><td>London, England</td><td>England national football team</td></tr><tr><td>Lusail Stadium</td><td>88,966</td><td>West Asia</td><td>Qatar</td><td>Lusail</td><td>Qatar national football team</td></tr><tr><td>Bukit Jalil National Stadium</td><td>87,411</td><td>Southeast Asia</td><td>Malaysia</td><td>Kuala Lumpur</td><td>Malaysia national football team[13]</td></tr><tr><td>Borg el-Arab Stadium</td><td>86,000</td><td>Africa</td><td>Egypt</td><td>Alexandria</td><td>Egypt national football team,Al Ittihad,Smouha</td></tr><tr><td>Estadio Santiago Bernabéu</td><td>85,000</td><td>Europe</td><td>Spain</td><td>Madrid</td><td>Real Madrid</td></tr><tr><td>Estadio Mâs Monumental</td><td>84,567</td><td>South America</td><td>Argentina</td><td>Buenos Aires</td><td>Argentina national football team,River Plate</td></tr><tr><td>Stadium Australia</td><td>83,500</td><td>Oceania</td><td>Australia</td><td>Sydney,New South Wales</td><td>South Sydney Rabbitohs,Canterbury-Bankstown Bulldogs,New South Wales Blues,New South Wales Waratahs,Australia men's national soccer team,Australia national rugby union team</td></tr><tr><td>MetLife Stadium</td><td>82,500</td><td>North America</td><td>United States</td><td>East Rutherford, New Jersey</td><td>New York Giants,New York Jets,United States men's national soccer team</td></tr><tr><td>Croke Park</td><td>82,300</td><td>Europe</td><td>Ireland</td><td>Dublin</td><td>Gaelic Athletic Association,Dublin GAA</td></tr><tr><td>Jakarta International Stadium</td><td>82,000</td><td>Southeast Asia</td><td>Indonesia</td><td>Jakarta</td><td>Persija Jakarta,Indonesia national football team</td></tr><tr><td>Lambeau Field</td><td>81,441</td><td>North America</td><td>United States</td><td>Green Bay, Wisconsin</td><td>Green Bay Packers</td></tr><tr><td>Signal Iduna Park</td><td>81,365</td><td>Europe</td><td>Germany</td><td>Dortmund</td><td>Borussia Dortmund</td></tr><tr><td>Stade de France</td><td>81,338</td><td>Europe</td><td>France</td><td>Saint-Denis</td><td>France national football team</td></tr><tr><td>Grand Sports Arena of the Luzhniki Olympic Complex</td><td>81,000</td><td>Europe</td><td>Russia</td><td>Moscow</td><td></td></tr><tr><td>Shah Alam Stadium</td><td>80,372</td><td>Southeast Asia</td><td>Malaysia</td><td>Shah Alam, Selangor</td><td>Selangor FA</td></tr><tr><td>Estadio Monumental</td><td>80,093</td><td>South America</td><td>Peru</td><td>Lima</td><td>Club Universitario de Deportes</td></tr><tr><td>Stadio Giuseppe Meazza</td><td>80,018</td><td>Europe</td><td>Italy</td><td>Milan, Lombardy</td><td>AC MilanandInternazionale</td></tr><tr><td>Guangdong Olympic Stadium</td><td>80,012</td><td>East Asia</td><td>China</td><td>Guangzhou,Guangdong</td><td></td></tr><tr><td>Hangzhou Olympic Sports Expo Centre Stadium</td><td>80,000</td><td>East Asia</td><td>China</td><td>Hangzhou,Zhejiang</td><td></td></tr><tr><td>AT&T Stadium</td><td>80,000</td><td>North America</td><td>United States</td><td>Arlington, Texas</td><td>Dallas Cowboys,FC Dallas</td></tr><tr><td>Stade des Martyrs</td><td>80,000</td><td>Africa</td><td>DR Congo</td><td>Kinshasa</td><td>Congo DR national football team</td></tr><tr><td>Stade Tata Raphaël</td><td>80,000</td><td>Africa</td><td>DR Congo</td><td>Kinshasa</td><td>AS Vita Club,DC Motema Pembe</td></tr><tr><td>National Sports Stadium</td><td>80,000</td><td>Africa</td><td>Zimbabwe</td><td>Harare</td><td>Zimbabwe national football team</td></tr><tr><td>Moi International Sports Centre</td><td>80,000</td><td>Africa</td><td>Kenya</td><td>Nairobi</td><td>Kenya national football team</td></tr><tr><td>Beijing National Stadium</td><td>80,000</td><td>East Asia</td><td>China</td><td>Beijing</td><td></td></tr><tr><td>Stade Léopold Sédar Senghor</td><td>80,000</td><td>Africa</td><td>Senegal</td><td>Dakar</td><td>Senegal national football team,ASC Jeanne d'Arc</td></tr><tr><td>Maracanã</td><td>78,838</td><td>South America</td><td>Brazil</td><td>Rio de Janeiro, Rio de Janeiro</td><td>CR Flamengo,Fluminense FC,Botafogo FR,CR Vasco da Gama</td></tr><tr><td>Los Angeles Memorial Coliseum</td><td>78,467</td><td>North America</td><td>United States</td><td>Los Angeles, California</td><td>USC Trojans</td></tr><tr><td>Azadi Stadium</td><td>78,116</td><td>West Asia</td><td>Iran</td><td>Tehran</td><td>Iran national football team,Esteghlal FC,Persepolis FC</td></tr><tr><td>Stadion Utama Gelora Bung Karno</td><td>77,193</td><td>Southeast Asia</td><td>Indonesia</td><td>Jakarta</td><td>Indonesia national football team,</td></tr><tr><td>Caesar's Superdome</td><td>76,468</td><td>North America</td><td>United States</td><td>New Orleans, Louisiana</td><td>New Orleans Saints,Sugar Bowl</td></tr><tr><td>Arrowhead Stadium</td><td>76,412</td><td>North America</td><td>United States</td><td>Kansas City, Missouri</td><td>Kansas City Chiefs</td></tr><tr><td>Empower Field</td><td>76,125</td><td>North America</td><td>United States</td><td>Denver</td><td>Denver Broncos</td></tr><tr><td>Atatürk Olimpiyat Stadyumu</td><td>76,092</td><td>Europe</td><td>Turkey</td><td>Istanbul</td><td></td></tr><tr><td>Old Trafford</td><td>76,000</td><td>Europe</td><td>England</td><td>Manchester,North West England</td><td>Manchester United</td></tr><tr><td>Allianz Arena</td><td>75,024</td><td>Europe</td><td>Germany</td><td>Munich</td><td>FC Bayern Munich</td></tr><tr><td>Naghsh-e-Jahan Stadium</td><td>75,000</td><td>West Asia</td><td>Iran</td><td>Isfahan</td><td>Sepahan FC</td></tr><tr><td>Bank of America Stadium</td><td>74,867</td><td>North America</td><td>United States</td><td>Charlotte, North Carolina</td><td>Charlotte FC,Carolina Panthers</td></tr><tr><td>Principality Stadium</td><td>74,500</td><td>Europe</td><td>Wales</td><td>Cardiff</td><td>Wales national rugby union team</td></tr><tr><td>Olympiastadion</td><td>74,475</td><td>Europe</td><td>Germany</td><td>Berlin</td><td>Hertha BSC</td></tr><tr><td>Cairo International Stadium</td><td>74,100</td><td>Africa</td><td>Egypt</td><td>Cairo</td><td>Egypt national football team,Al Ahly,Zamalek</td></tr><tr><td>FirstEnergy Stadium</td><td>73,200</td><td>North America</td><td>United States</td><td>Cleveland</td><td>Cleveland Browns</td></tr><tr><td>Estádio Nacional Mané Garrincha</td><td>72,788</td><td>South America</td><td>Brazil</td><td>Brasília, Distrito Federal</td><td>Brasília FC,Legião FC</td></tr><tr><td>Stadio Olimpico</td><td>72,698</td><td>Europe</td><td>Italy</td><td>Rome, Lazio</td><td>AS Roma,Lazio</td></tr><tr><td>Nissan Stadium</td><td>72,327</td><td>East Asia</td><td>Japan</td><td>Yokohama, Kanagawa</td><td>Yokohama F. Marinos,Yokohama Eagles</td></tr><tr><td>NRG Stadium</td><td>72,220</td><td>North America</td><td>United States</td><td>Houston, Texas</td><td>Houston Texans,Houston Dynamo FC</td></tr><tr><td>Shanghai Stadium</td><td>72,000</td><td>East Asia</td><td>China</td><td>Shanghai</td><td>Shanghai Shenhua</td></tr><tr><td>M&T Bank Stadium</td><td>71,008</td><td>North America</td><td>United States</td><td>Baltimore</td><td>Baltimore Ravens</td></tr><tr><td>Mercedes-Benz Stadium</td><td>71,000</td><td>North America</td><td>United States</td><td>Atlanta, Georgia</td><td>Atlanta United FC,Atlanta Falcons</td></tr><tr><td>Riyadh Air Metropolitano</td><td>70,692</td><td>Europe</td><td>Spain</td><td>Madrid</td><td>Atlético de Madrid</td></tr><tr><td>Olympic National Sports Complex Stadium</td><td>70,000</td><td>Europe</td><td>Ukraine</td><td>Kyiv</td><td>Ukraine national football team,FC Dynamo Kyiv</td></tr><tr><td>SoFi Stadium</td><td>70,000</td><td>North America</td><td>United States</td><td>Inglewood, California</td><td></td></tr><tr><td>Seoul Olympic Stadium</td><td>69,950</td><td>East Asia</td><td>South Korea</td><td>Seoul</td><td></td></tr><tr><td>Bakı Olimpiya stadionu</td><td>69,870</td><td>West Asia</td><td>Azerbaijan</td><td>Baku</td><td>Azerbaijan national football team</td></tr><tr><td>Olympic Stadium</td><td>69,618</td><td>Europe</td><td>Greece</td><td>Marousi,Attica</td><td>Greece national football team</td></tr><tr><td>Olympiastadion München</td><td>69,250</td><td>Europe</td><td>Germany</td><td>Munich</td><td></td></tr><tr><td>Lumen Field</td><td>69,000</td><td>North America</td><td>United States</td><td>Seattle, Washington</td><td>Seattle Sounders FC,Seattle Seahawks</td></tr><tr><td>Estadio Olímpico Universitario</td><td>68,954</td><td>North America</td><td>Mexico</td><td>Mexico City</td><td>UNAM Pumas</td></tr><tr><td>Gillette Stadium</td><td>68,756</td><td>North America</td><td>United States</td><td>Foxborough, Massachusetts</td><td>New England Patriots,New England Revolution</td></tr><tr><td>King Abdullah Sports City Stadium</td><td>68,560</td><td>West Asia</td><td>Saudi Arabia</td><td>Jeddah</td><td>Saudi Arabia national football team,Al-Ahli Saudi FC,Al-Ittihad Saudi Club</td></tr><tr><td>Lincoln Financial Field</td><td>68,532</td><td>North America</td><td>United States</td><td>Philadelphia</td><td>Philadelphia Eagles,Temple Owls football</td></tr><tr><td>Levi's Stadium</td><td>68,500</td><td>North America</td><td>United States</td><td>Santa Clara, California</td><td>San Francisco 49ers</td></tr><tr><td>Acrisure Stadium</td><td>68,400</td><td>North America</td><td>United States</td><td>Pittsburgh</td><td>Pittsburgh Steelers,Pittsburgh Panthers football</td></tr><tr><td>Gazprom Arena</td><td>68,134</td><td>Europe</td><td>Russia</td><td>Saint Petersburg</td><td>FC Zenit Saint Petersburg</td></tr><tr><td>Salt Lake Stadium</td><td>68,000</td><td>South Asia</td><td>India</td><td>Kolkata</td><td>India national football team,Mohun Bagan Super Giant,East Bengal FC,Mohammedan SC</td></tr><tr><td>National Stadium</td><td>68,000</td><td>East Asia</td><td>Japan</td><td>Tokyo</td><td></td></tr><tr><td>TIAA Bank Field</td><td>67,814</td><td>North America</td><td>United States</td><td>Jacksonville, Florida</td><td>Jacksonville Jaguars</td></tr><tr><td>Orange Vélodrome</td><td>67,394</td><td>Europe</td><td>France</td><td>Marseille</td><td>Olympique de Marseille</td></tr><tr><td>Puskás Aréna</td><td>67,215</td><td>Europe</td><td>Hungary</td><td>Budapest</td><td>Hungary national football team</td></tr><tr><td>Scottish Gas Murrayfield Stadium</td><td>67,144</td><td>Europe</td><td>Scotland</td><td>Edinburgh</td><td>Scotland national rugby union team</td></tr><tr><td>Lucas Oil Stadium</td><td>67,000</td><td>North America</td><td>United States</td><td>Indianapolis, Indiana</td><td>Indianapolis Colts</td></tr><tr><td>MorumBIS</td><td>66,975</td><td>South America</td><td>Brazil</td><td>São Paulo, São Paulo</td><td>São Paulo FC</td></tr><tr><td>The Dome</td><td>66,965</td><td>North America</td><td>United States</td><td>St. Louis</td><td>St. Louis BattleHawks</td></tr><tr><td>Yadegar-e-Emam Stadium</td><td>66,833</td><td>West Asia</td><td>Iran</td><td>Tabriz</td><td>Tractor Sazi FC</td></tr><tr><td>Seoul World Cup Stadium</td><td>66,704</td><td>East Asia</td><td>South Korea</td><td>Seoul</td><td>FC Seoul</td></tr><tr><td>US Bank Stadium</td><td>66,655</td><td>North America</td><td>United States</td><td>Minneapolis</td><td>Minnesota Vikings</td></tr><tr><td>Daegu Stadium</td><td>66,422</td><td>East Asia</td><td>South Korea</td><td>Daegu</td><td>Daegu FC</td></tr><tr><td>Workers' Stadium</td><td>66,161</td><td>East Asia</td><td>China</td><td>Beijing</td><td>Beijing Guoan,China national football team</td></tr><tr><td>London Stadium</td><td>66,000</td><td>Europe</td><td>England</td><td>London</td><td>West Ham United</td></tr><tr><td>Raymond James Stadium</td><td>65,847</td><td>North America</td><td>United States</td><td>Tampa, Florida</td><td>Tampa Bay Buccaneers,South Florida Bulls football,Tampa Bay Vipers</td></tr><tr><td>Hard Rock Stadium</td><td>65,326</td><td>North America</td><td>United States</td><td>Miami Gardens, Florida</td><td>Miami Dolphins,Miami Hurricanes football</td></tr><tr><td>Olympic Stadium</td><td>65,255</td><td>North America</td><td>Canada</td><td>Montreal, Quebec</td><td>CF Montréal</td></tr><tr><td>Basra International Stadium</td><td>65,227</td><td>West Asia</td><td>Iraq</td><td>Basra</td><td>Iraq national football team</td></tr><tr><td>Camping World Stadium</td><td>65,000</td><td>North America</td><td>United States</td><td>Orlando, Florida</td><td></td></tr><tr><td>Alamodome</td><td>65,000</td><td>North America</td><td>United States</td><td>San Antonio</td><td>UTSA Roadrunners football</td></tr><tr><td>Ford Field</td><td>65,000</td><td>North America</td><td>United States</td><td>Detroit</td><td>Detroit Lions</td></tr><tr><td>Stade Ibn Battuta</td><td>65,000</td><td>Africa</td><td>Morocco</td><td>Tangier</td><td>IR Tanger</td></tr><tr><td>Estádio do Sport Lisboa e Benfica</td><td>64,642</td><td>Europe</td><td>Portugal</td><td>Lisbon</td><td>Benfica</td></tr><tr><td>Stade du 5-juillet-1962</td><td>64,000</td><td>Africa</td><td>Algeria</td><td>Algiers</td><td>Algeria national football team</td></tr><tr><td>Castelão</td><td>63,903</td><td>South America</td><td>Brazil</td><td>Fortaleza, Ceará</td><td>Ceará SC,Fortaleza EC</td></tr><tr><td>Saitama Stadium 2002</td><td>63,700</td><td>East Asia</td><td>Japan</td><td>Saitama</td><td>Urawa Red Diamonds,Saitama Wild Knights</td></tr><tr><td>Ellis Park Stadium</td><td>62,567</td><td>Africa</td><td>South Africa</td><td>Johannesburg, Gauteng</td><td>Orlando Pirates FC,Emirates Johannesburg Lions</td></tr><tr><td>Tottenham Hotspur Stadium</td><td>62,303</td><td>Europe</td><td>England</td><td>London</td><td>Tottenham Hotspur</td></tr><tr><td>VELTINS-Arena</td><td>62,271</td><td>Europe</td><td>Germany</td><td>Gelsenkirchen</td><td>FC Schalke 04</td></tr><tr><td>Yizhong Sports Centre Stadium</td><td>62,000</td><td>East Asia</td><td>China</td><td>Qingdao,Shandong</td><td>Qingdao Jonoon FC</td></tr><tr><td>Estádio Governador Magalhães Pinto</td><td>61,846</td><td>South America</td><td>Brazil</td><td>Belo Horizonte, Minas Gerais</td><td>Atlético Mineiro,Cruzeiro EC</td></tr><tr><td>King Fahd International Stadium</td><td>61,781</td><td>West Asia</td><td>Saudi Arabia</td><td>Riyadh</td><td>Saudi Arabia national football team,Al-Hilal,Al-Nassr,Al-Shabab</td></tr><tr><td>Soldier Field</td><td>61,500</td><td>North America</td><td>United States</td><td>Chicago</td><td>Chicago Bears</td></tr><tr><td>Nanjing Olympic Sports Centre Stadium</td><td>61,443</td><td>East Asia</td><td>China</td><td>Nanjing,Jiangsu</td><td></td></tr><tr><td>Anfield</td><td>61,276</td><td>Europe</td><td>England</td><td>Liverpool, England</td><td>Liverpool FC</td></tr><tr><td>Estadio Benito Villamarín</td><td>60,720</td><td>Europe</td><td>Spain</td><td>Seville</td><td>Real Betis</td></tr><tr><td>Abuja Stadium</td><td>60,491</td><td>Africa</td><td>Nigeria</td><td>Abuja</td><td>Nigeria national football team</td></tr><tr><td>MHPArena</td><td>60,469</td><td>Europe</td><td>Germany</td><td>Stuttgart</td><td>VfB Stuttgart</td></tr><tr><td>Celtic Park</td><td>60,411</td><td>Europe</td><td>Scotland</td><td>Glasgow</td><td>Celtic FC</td></tr><tr><td>Estadio de la UNSA</td><td>60,370</td><td>South America</td><td>Peru</td><td>Arequipa</td><td>FBC Melgar</td></tr><tr><td>Emirates Stadium</td><td>60,338</td><td>Europe</td><td>England</td><td>London</td><td>Arsenal</td></tr><tr><td>Shenzhen Universiade Sports Centre Stadium</td><td>60,334</td><td>East Asia</td><td>China</td><td>Shenzhen,Guangdong</td><td></td></tr><tr><td>Estadio Centenario</td><td>60,235</td><td>South America</td><td>Uruguay</td><td>Montevideo</td><td>Uruguay national football team</td></tr><tr><td>Estádio José do Rego Maciel</td><td>60,044</td><td>South America</td><td>Brazil</td><td>Recife,Pernambuco</td><td>Santa Cruz FC</td></tr><tr><td>Al-Bayt Stadium</td><td>60,000</td><td>West Asia</td><td>Qatar</td><td>Al-Khor</td><td></td></tr><tr><td>Benjamin Mkapa National Stadium</td><td>60,000</td><td>Africa</td><td>Tanzania</td><td>Dar es-Salaam</td><td>Tanzania national football team,Young Africans</td></tr><tr><td>Hefei Olympic Sports Centre Stadium</td><td>60,000</td><td>East Asia</td><td>China</td><td>Hefei,Anhui</td><td>Anhui Jiufang</td></tr><tr><td>Jaber al-Ahmad International Stadium</td><td>60,000</td><td>West Asia</td><td>Kuwait</td><td>Kuwait City</td><td>Kuwait national football team</td></tr><tr><td>Hammadi Agrebi Stadium</td><td>60,000</td><td>Africa</td><td>Tunisia</td><td>Tunis</td><td>Tunisia national football team</td></tr><tr><td>Jawaharlal Nehru Stadium</td><td>60,000</td><td>South Asia</td><td>India</td><td>New Delhi</td><td></td></tr><tr><td>Mogadishu Stadium</td><td>60,000</td><td>Africa</td><td>Somalia</td><td>Mogadishu</td><td>Somalia national football team</td></tr><tr><td>National Heroes Stadium</td><td>60,000</td><td>Africa</td><td>Zambia</td><td>Lusaka</td><td>Zambian national football team</td></tr><tr><td>Autzen Stadium</td><td>60,000</td><td>North America</td><td>United States</td><td>Eugene, Oregon</td><td></td></tr><tr><td>Odi Stadium</td><td>60,000</td><td>Africa</td><td>South Africa</td><td>Mabopane, Gauteng</td><td></td></tr><tr><td>Morodok Techo National Stadium</td><td>60,000</td><td>Southeast Asia</td><td>Cambodia</td><td>Phnom Penh</td><td>Cambodia national football team</td></tr><tr><td>Shenyang Olympic Sports Centre Stadium</td><td>60,000</td><td>East Asia</td><td>China</td><td>Shenyang,Liaoning</td><td></td></tr><tr><td>Optus Stadium</td><td>60,000</td><td>Oceania</td><td>Australia</td><td>Perth, Western Australia</td><td>Perth Glory FC,Fremantle Dockers,West Coast Eagles</td></tr><tr><td>Estadio Monumental Isidro Romero Carbo</td><td>59,283</td><td>South America</td><td>Ecuador</td><td>Guayaquil</td><td>Barcelona Sporting Club</td></tr><tr><td>Groupama Stadium</td><td>59,186</td><td>Europe</td><td>France</td><td>Décines-Charpieu</td><td>Olympique Lyonnais</td></tr><tr><td>Chongqing Olympic Sports Centre Stadium</td><td>58,680</td><td>East Asia</td><td>China</td><td>Chongqing</td><td></td></tr><tr><td>Kazimierz Górski National Stadium</td><td>58,580</td><td>Europe</td><td>Poland</td><td>Warsaw</td><td>Poland national football team</td></tr><tr><td>Stadio San Nicola</td><td>58,270</td><td>Europe</td><td>Italy</td><td>Bari, Apulia</td><td>SSC Bari</td></tr><tr><td>Commanders Field</td><td>58,000</td><td>North America</td><td>United States</td><td>Landover, Maryland</td><td>Washington Commanders</td></tr><tr><td>Deutsche Bank Park</td><td>58,000</td><td>Europe</td><td>Germany</td><td>Frankfurt</td><td>Eintracht Frankfurt</td></tr><tr><td>Estadio La Cartuja de Sevilla</td><td>57,619</td><td>Europe</td><td>Spain</td><td>Seville</td><td></td></tr><tr><td>Carter–Finley Stadium</td><td>57,583</td><td>North America</td><td>United States</td><td>Raleigh, North Carolina</td><td>NC State Wolfpack football</td></tr><tr><td>La Bombonera</td><td>57,200</td><td>South America</td><td>Argentina</td><td>Buenos Aires</td><td>CA Boca Juniors</td></tr><tr><td>Volksparkstadion</td><td>57,030</td><td>Europe</td><td>Germany</td><td>Hamburg</td><td>Hamburger SV</td></tr><tr><td>Estadio Mario Alberto Kempes</td><td>57,000</td><td>South America</td><td>Argentina</td><td>Córdoba</td><td>Talleres de Córdoba, someBelgrano de Córdobamatches.</td></tr><tr><td>Jinan Olympic Sports Centre Stadium</td><td>56,808</td><td>East Asia</td><td>China</td><td>Jinan,Shandong</td><td>Shandong Taishan</td></tr><tr><td>Estadio Jalisco</td><td>56,713</td><td>North America</td><td>Mexico</td><td>Guadalajara, Jalisco</td><td>Atlas</td></tr><tr><td>Commonwealth Stadium</td><td>56,302</td><td>North America</td><td>Canada</td><td>Edmonton, Alberta</td><td>Edmonton Elks,Canadian men'sandwomen'snational teams</td></tr><tr><td>Dodger Stadium</td><td>56,000</td><td>North America</td><td>United States</td><td>Los Angeles</td><td>Los Angeles Dodgers</td></tr><tr><td>Stade du 19-mai-1956</td><td>56,000</td><td>Africa</td><td>Algeria</td><td>Annaba</td><td>USM Annaba</td></tr><tr><td>Estadi Olímpic Lluís Companys</td><td>55,926</td><td>Europe</td><td>Spain</td><td>Barcelona, Catalonia</td><td></td></tr><tr><td>Arena do Grêmio</td><td>55,662</td><td>South America</td><td>Brazil</td><td>Porto Alegre, Rio Grande do Sul</td><td>Grêmio FBPA</td></tr><tr><td>Arena Națională</td><td>55,634</td><td>Europe</td><td>Romania</td><td>Bucharest</td><td>Romania national football team</td></tr><tr><td>Stadion Rajko Mitić</td><td>55,538</td><td>Europe</td><td>Serbia</td><td>Belgrade</td><td>Red Star Belgrade,Serbia national football team</td></tr><tr><td>Stadion Śląski</td><td>55,211</td><td>Europe</td><td>Poland</td><td>Chorzów</td><td>Poland national football team,Ruch Chorzów</td></tr><tr><td>Etihad Stadium</td><td>55,097</td><td>Europe</td><td>England</td><td>Manchester, North West England</td><td>Manchester City</td></tr><tr><td>Mestalla</td><td>55,000</td><td>Europe</td><td>Spain</td><td>Valencia</td><td>Valencia CF</td></tr><tr><td>National Stadium</td><td>55,000</td><td>Southeast Asia</td><td>Singapore</td><td>Singapore</td><td>Singapore national football team</td></tr><tr><td>National Stadium</td><td>55,000</td><td>East Asia</td><td>Taiwan</td><td>Kaohsiung</td><td>Chinese Taipei national football team</td></tr><tr><td>He Long Stadium</td><td>55,000</td><td>East Asia</td><td>China</td><td>Changsha,Hunan</td><td></td></tr><tr><td>Cape Town Stadium</td><td>55,000</td><td>Africa</td><td>South Africa</td><td>Cape Town, Western Cape</td><td>Cape Town City FC,DHL Western Cape Stormers</td></tr><tr><td>Plovdiv Stadium</td><td>55,000</td><td>Europe</td><td>Bulgaria</td><td>Plovdiv</td><td></td></tr><tr><td>Bobby Dodd Stadium</td><td>55,000</td><td>North America</td><td>United States</td><td>Atlanta</td><td>Georgia Tech Yellow Jackets football</td></tr><tr><td>Johan Cruijff Arena</td><td>54,990</td><td>Europe</td><td>Netherlands</td><td>Amsterdam</td><td>AFC Ajax</td></tr><tr><td>Tianhe Stadium</td><td>54,856</td><td>East Asia</td><td>China</td><td>Guangzhou,Guangdong</td><td></td></tr><tr><td>Stadio Diego Armando Maradona</td><td>54,726</td><td>Europe</td><td>Italy</td><td>Naples</td><td>SSC Napoli</td></tr><tr><td>Tianjin Olympic Sports Centre Stadium</td><td>54,696</td><td>East Asia</td><td>China</td><td>Tianjin</td><td>Tianjin Teda</td></tr><tr><td>MERKUR SPIEL-ARENA</td><td>54,600</td><td>Europe</td><td>Germany</td><td>Düsseldorf</td><td>Fortuna Düsseldorf</td></tr><tr><td>Boris Paitchadze Dinamo Arena</td><td>54,549</td><td>West Asia</td><td>Georgia</td><td>Tbilisi</td><td>Georgia national football team,FC Dinamo Tbilisi</td></tr><tr><td>Wuhan Sports Centre Stadium</td><td>54,357</td><td>East Asia</td><td>China</td><td>Wuhan,Hubei</td><td></td></tr><tr><td>BC Place Stadium</td><td>54,320</td><td>North America</td><td>Canada</td><td>Vancouver, British Columbia</td><td>Vancouver Whitecaps FC,BC Lions</td></tr><tr><td>Yankee Stadium</td><td>54,251</td><td>North America</td><td>United States</td><td>New York City</td><td>New York Yankees,New York City FC</td></tr><tr><td>Hrazdan Stadium</td><td>54,208</td><td>West Asia</td><td>Armenia</td><td>Yerevan</td><td>FC Ararat Yerevan,Ulisses FC</td></tr><tr><td>BORUSSIA-PARK</td><td>54,057</td><td>Europe</td><td>Germany</td><td>Mönchengladbach</td><td>Borussia Mönchengladbach</td></tr><tr><td>Moses Mabhida Stadium</td><td>54,000</td><td>Africa</td><td>South Africa</td><td>Durban, KwaZulu-Natal</td><td>AmaZulu FC,Cell C Durban Sharks</td></tr><tr><td>Busan Asiad Main Stadium</td><td>53,864</td><td>East Asia</td><td>South Korea</td><td>Busan</td><td>Busan IPark</td></tr><tr><td>Estádio Estadual Jornalista Edgar Augusto Proença</td><td>53,645</td><td>South America</td><td>Brazil</td><td>Belém,Pará</td><td>Paysandu SC,Clube do Remo,Tuna Luso Brasileira,SC Belem</td></tr><tr><td>Estadio Único Diego Armando Maradona</td><td>53,600</td><td>South America</td><td>Argentina</td><td>La Plata</td><td></td></tr><tr><td>Adelaide Oval</td><td>53,500</td><td>Oceania</td><td>Australia</td><td>Adelaide, South Australia</td><td>Adelaide Crows,Port Adelaide Power</td></tr><tr><td>Docklands Stadium</td><td>53,359</td><td>Oceania</td><td>Australia</td><td>Melbourne, Victoria</td><td>Western Bulldogs,Essendon,St. Kilda,Carlton,North Melbourne</td></tr><tr><td>Estádio Municipal João Havelange</td><td>53,350</td><td>South America</td><td>Brazil</td><td>Uberlândia, Minas Gerais</td><td>Uberlânia EC</td></tr><tr><td>San Mamés</td><td>53,332</td><td>Europe</td><td>Spain</td><td>Bilbao</td><td>Athletic Bilbao</td></tr><tr><td>Aleppo International Stadium</td><td>53,200</td><td>West Asia</td><td>Syria</td><td>Aleppo</td><td>Al-Ittihad</td></tr><tr><td>Estadio Nacional</td><td>53,086</td><td>South America</td><td>Peru</td><td>Lima</td><td>Peru national football team</td></tr><tr><td>Huanglong Stadium</td><td>52,672</td><td>East Asia</td><td>China</td><td>Hangzhou,Zhejiang</td><td>Hangzhou FC</td></tr><tr><td>RAMS Park</td><td>52,652</td><td>Europe</td><td>Turkey</td><td>Istanbul</td><td>Galatasaray</td></tr><tr><td>Suncorp Stadium</td><td>52,500</td><td>Oceania</td><td>Australia</td><td>Brisbane, Queensland</td><td>Brisbane Broncos,Queensland Maroons,Brisbane Roar FC,Queensland Reds</td></tr><tr><td>St. James' Park</td><td>52,405</td><td>Europe</td><td>England</td><td>Newcastle upon Tyne, North East</td><td>Newcastle United</td></tr><tr><td>Kings Park Stadium</td><td>52,000</td><td>Africa</td><td>South Africa</td><td>Durban, KwaZulu-Natal</td><td>Lamontville Golden Arrows,Cell C Durban Sharks</td></tr><tr><td>Newlands Stadium</td><td>51,900</td><td>Africa</td><td>South Africa</td><td>Cape Town, Western Cape</td><td></td></tr><tr><td>Hampden Park</td><td>51,866</td><td>Europe</td><td>Scotland</td><td>Glasgow</td><td>Scotland national football team,Queen's Park</td></tr><tr><td>Estadio Monumental de Maturín</td><td>51,796</td><td>South America</td><td>Venezuela</td><td>Maturín</td><td>Monagas Sport Club</td></tr><tr><td>Loftus Versfeld Stadium</td><td>51,762</td><td>Africa</td><td>South Africa</td><td>Pretoria, Gauteng</td><td>SuperSport UnitedandVodacom Pretoria Bulls</td></tr><tr><td>Aviva Stadium</td><td>51,700</td><td>Europe</td><td>Ireland</td><td>Dublin</td><td>Leinster Rugby,Republic of Ireland national football team,Ireland national rugby union team</td></tr><tr><td>Guiyang Olympic Sports Centre Stadium</td><td>51,638</td><td>East Asia</td><td>China</td><td>Guiyang,Guizhou</td><td></td></tr><tr><td>Hohhot City Stadium</td><td>51,632</td><td>East Asia</td><td>China</td><td>Hohhot,Inner Mongolia</td><td></td></tr><tr><td>Rajamangala National Stadium</td><td>51,552</td><td>Southeast Asia</td><td>Thailand</td><td>Bangkok</td><td>Thailand national football team</td></tr><tr><td>Donbass Arena</td><td>51,504</td><td>Europe</td><td>Ukraine</td><td>Donetsk</td><td></td></tr><tr><td>El Cilindro</td><td>51,389</td><td>South America</td><td>Argentina</td><td>Avellaneda</td><td>Racing Club de Avellaneda</td></tr><tr><td>İzmir Atatürk Stadyumu</td><td>51,295</td><td>West Asia</td><td>Turkey</td><td>İzmir</td><td>Altay SK,Göztepe AŞ</td></tr><tr><td>Stadion Feijenoord</td><td>51,117</td><td>Europe</td><td>Netherlands</td><td>Rotterdam</td><td>Feyenoord</td></tr><tr><td>Estadio BBVA</td><td>51,000</td><td>North America</td><td>Mexico</td><td>Monterrey</td><td>CF Monterrey</td></tr><tr><td>Ghadir Stadium</td><td>51,000</td><td>West Asia</td><td>Iran</td><td>Ahvaz</td><td>Foolad FC</td></tr><tr><td>Estádio José Pinheiro Borda</td><td>50,942</td><td>South America</td><td>Brazil</td><td>Porto Alegre.Rio Grande do Sul</td><td>SC Internacional</td></tr><tr><td>Ibrox Stadium</td><td>50,817</td><td>Europe</td><td>Scotland</td><td>Glasgow</td><td>Rangers FC</td></tr><tr><td>Shizuoka Stadium</td><td>50,889</td><td>East Asia</td><td>Japan</td><td>Fukuroi, Shizuoka</td><td>Júbilo Iwata,Shimizu S-Pulse,Shizuoka Blue Revs</td></tr><tr><td>Ernst-Happel-Stadion</td><td>50,865</td><td>Europe</td><td>Austria</td><td>Vienna</td><td>Austria national football team</td></tr><tr><td>Huntington Bank Stadium</td><td>50,805</td><td>North America</td><td>United States</td><td>Minneapolis</td><td>Minnesota Golden Gophers football</td></tr><tr><td>Estadio Cuauhtémoc</td><td>50,754</td><td>North America</td><td>Mexico</td><td>Puebla</td><td>Puebla FC</td></tr><tr><td>Strawberry Arena</td><td>50,653</td><td>Europe</td><td>Sweden</td><td>Solna</td><td>Sweden men's national football team,AIK Fotboll</td></tr><tr><td>Ülker Stadyumu</td><td>50,509</td><td>West Asia</td><td>Turkey</td><td>Istanbul</td><td>Fenerbahçe</td></tr><tr><td>Stanford Stadium</td><td>50,424</td><td>North America</td><td>United States</td><td>Palo Alto, California</td><td></td></tr><tr><td>Stade Pierre-Mauroy</td><td>50,186</td><td>Europe</td><td>France</td><td>Villeneuve-d'Ascq</td><td>Lille OSC</td></tr><tr><td>Stade Roi Baudouin</td><td>50,122</td><td>Europe</td><td>Belgium</td><td>Brussels</td><td>Belgium national football team</td></tr><tr><td>Shaanxi Province Stadium</td><td>50,100</td><td>East Asia</td><td>China</td><td>Xi'an,Shaanxi</td><td></td></tr><tr><td>Ajinomoto Stadium</td><td>50,100</td><td>East Asia</td><td>Japan</td><td>Chofu, Tokyo</td><td>FC Tokyo,Tokyo Verdy,Tokyo Sungoliath,Toshiba Brave Lupus Tokyo</td></tr><tr><td>Estádio José Alvalade</td><td>50,095</td><td>Europe</td><td>Portugal</td><td>Lisbon</td><td>Sporting CP</td></tr><tr><td>Estádio do Dragão</td><td>50,033</td><td>Europe</td><td>Portugal</td><td>Porto</td><td>FC Porto</td></tr><tr><td>Casa de Apostas Arena Fonte Nova</td><td>50,025</td><td>South America</td><td>Brazil</td><td>Salvador, Bahia</td><td>EC Bahia</td></tr><tr><td>Stade Olympique de Sousse</td><td>50,000</td><td>Africa</td><td>Tunisia</td><td>Sousse</td><td>Étoile du Sahel</td></tr><tr><td>RheinEnergieSTADION</td><td>50,000</td><td>Europe</td><td>Germany</td><td>Cologne</td><td>1. FC Köln</td></tr><tr><td>Harbin Sports City Centre Stadium</td><td>50,000</td><td>East Asia</td><td>China</td><td>Harbin,Heilongjiang</td><td></td></tr><tr><td>Greenfield International Stadium</td><td>50,000</td><td>South Asia</td><td>India</td><td>Trivandrum</td><td></td></tr><tr><td>EMS Stadium</td><td>50,000</td><td>South Asia</td><td>India</td><td>Kozhikode</td><td>India national football team,Gokulam Kerala FC</td></tr><tr><td>KD Singh Babu Stadium</td><td>50,000</td><td>South Asia</td><td>India</td><td>Lucknow</td><td></td></tr><tr><td>Eden Park</td><td>50,000</td><td>Oceania</td><td>New Zealand</td><td>Auckland</td><td>Auckland Blues,New Zealand Warriors</td></tr><tr><td>Estádio 11 de Novembro</td><td>50,000</td><td>Africa</td><td>Angola</td><td>Luanda</td><td>Angola national football team,Primeiro de Agosto,Petro Luanda</td></tr><tr><td>Henan Provincial Stadium</td><td>50,000</td><td>East Asia</td><td>China</td><td>Zhengzhou,Henan</td><td></td></tr><tr><td>Jiangxi Olympic Sports Center</td><td>50,000</td><td>East Asia</td><td>China</td><td>Nanchang,Jiangxi</td><td></td></tr><tr><td>Max-Morlock-Stadion</td><td>50,000</td><td>Europe</td><td>Germany</td><td>Nuremberg</td><td>1. FC Nürnberg</td></tr><tr><td>June 11 Stadium</td><td>50,000</td><td>Africa</td><td>Libya</td><td>Tripoli</td><td>Libya,Al-Ahly SC,Al-Ittihad Tripoli,Al-Madina SC</td></tr><tr><td>Xinjiang Sports Centre Stadium</td><td>50,000</td><td>East Asia</td><td>China</td><td>Urumqi,Xinjiang</td><td></td></tr><tr><td>Kim Il-sung Stadium</td><td>50,000</td><td>East Asia</td><td>North Korea</td><td>Pyongyang</td><td>Pyongyang City Sports Club</td></tr><tr><td>EDION Stadium Hiroshima</td><td>50,000</td><td>East Asia</td><td>Japan</td><td>Hiroshima</td><td>Sanfrecce Hiroshima</td></tr><tr><td>Pars Shiraz Stadium</td><td>50,000</td><td>West Asia</td><td>Iran</td><td>Shiraz</td><td>Fajr Sepasi Shiraz FC</td></tr><tr><td>Stade du 26 mars</td><td>50,000</td><td>Africa</td><td>Mali</td><td>Bamako</td><td>Stade Malien</td></tr><tr><td>Stade Abdoulaye Wade</td><td>50,000</td><td>Africa</td><td>Senegal</td><td>Dakar</td><td>Senegal national football team</td></tr><tr><td>Sultan Mizan Zainal Abidin Stadium</td><td>50,000</td><td>Southeast Asia</td><td>Malaysia</td><td>Kuala Terengganu</td><td>Terengganu FA</td></tr><tr><td>Estadio Akron</td><td>49,850</td><td>North America</td><td>Mexico</td><td>Guadalajara</td><td>C.D. Guadalajara</td></tr><tr><td>Levy Mwanawasa Stadium</td><td>49,800</td><td>Africa</td><td>Zambia</td><td>Lusaka</td><td>Zesco United</td></tr><tr><td>Fritz-Walter-Stadion</td><td>49,780</td><td>Europe</td><td>Germany</td><td>Kaiserslautern</td><td>1. FC Kaiserslautern</td></tr><tr><td>Estadio José Amalfitani</td><td>49,540</td><td>South America</td><td>Argentina</td><td>Buenos Aires</td><td>CA Vélez Sársfield</td></tr><tr><td>Camille Chamoun Sports City Stadium</td><td>49,500</td><td>West Asia</td><td>Lebanon</td><td>Beirut</td><td>Lebanon national football team,Al Ahed FC,Al Ansar FC,Nejmeh SC</td></tr><tr><td>Miyagi Stadium</td><td>49,133</td><td>East Asia</td><td>Japan</td><td>Rifu, Miyagi</td><td>Vegalta Sendai</td></tr><tr><td>Incheon Munhak Stadium</td><td>49,084</td><td>East Asia</td><td>South Korea</td><td>Incheon</td><td></td></tr><tr><td>Heinz-von-Heiden-Arena</td><td>49,000</td><td>Europe</td><td>Germany</td><td>Hanover</td><td>Hannover 96</td></tr><tr><td>Parc des Princes</td><td>48,712</td><td>Europe</td><td>France</td><td>Paris</td><td>Paris Saint-Germain</td></tr><tr><td>Stadium of Light</td><td>48,707</td><td>Europe</td><td>England</td><td>Sunderland, Tyne and Wear</td><td>Sunderland AFC</td></tr><tr><td>Estadio Nacional</td><td>48,665</td><td>South America</td><td>Chile</td><td>Santiago</td><td>Chile national football team,CF Universidad de Chile</td></tr><tr><td>Nelson Mandela Bay Stadium</td><td>48,459</td><td>Africa</td><td>South Africa</td><td>Port Elizabeth, Eastern Cape</td><td>Chippa United FC</td></tr><tr><td>Estadio Tomás Adolfo Ducó</td><td>48,314</td><td>South America</td><td>Argentina</td><td>Buenos Aires</td><td>CA Huracán</td></tr><tr><td>Jinnah Sports Stadium</td><td>48,200</td><td>South Asia</td><td>Pakistan</td><td>Islamabad</td><td>Pakistan national football team</td></tr><tr><td>Estadio Libertadores de América</td><td>48,069</td><td>South America</td><td>Argentina</td><td>Avellaneda</td><td>Club Atlético Independiente</td></tr><tr><td>Free State Stadium</td><td>48,000</td><td>Africa</td><td>South Africa</td><td>Bloemfontein, Free State</td><td>Bloemfontein Celtic,Toyota Cheetahs</td></tr><tr><td>Nagai Stadium</td><td>47,816</td><td>East Asia</td><td>Japan</td><td>Osaka</td><td>Cerezo Osaka,NTT DoCoMo Red Hurricanes Osaka</td></tr><tr><td>Neo Química Arena</td><td>47,605</td><td>South America</td><td>Brazil</td><td>São Paulo, São Paulo</td><td>Corinthians</td></tr><tr><td>Rogers Centre</td><td>47,568</td><td>North America</td><td>Canada</td><td>Toronto, Ontario</td><td>Toronto FC,Toronto Argonauts</td></tr><tr><td>Estadio Monumental</td><td>47,347</td><td>South America</td><td>Chile</td><td>Santiago</td><td>Colo-Colo</td></tr><tr><td>Stadio Artemio Franchi</td><td>47,282</td><td>Europe</td><td>Italy</td><td>Florence</td><td>ACF Fiorentina</td></tr><tr><td>Estadio Ciudad de Lanús – Néstor Díaz Pérez</td><td>47,027</td><td>South America</td><td>Argentina</td><td>Lanús</td><td>CA Lanús</td></tr><tr><td>Estadio Metropolitano Roberto Meléndez</td><td>46,788</td><td>South America</td><td>Colombia</td><td>Barranquilla</td><td>Colombia national football team,Atlético Junior</td></tr><tr><td>Estádio Olímpico Nilton Santos</td><td>46,831</td><td>South America</td><td>Brazil</td><td>Rio de Janeiro, Rio de Janeiro</td><td>Botafogo FR</td></tr><tr><td>Itaipava Arena Pernambuco</td><td>46,154</td><td>South America</td><td>Brazil</td><td>São Lourenço da Mata,Pernambuco</td><td>Náutico</td></tr><tr><td>Arena MRV</td><td>46,000</td><td>South America</td><td>Brazil</td><td>Belo Horizonte,Minas Gerais</td><td>C Atlético Mineiro</td></tr><tr><td>Estádio Paulo Constantino</td><td>45,954</td><td>South America</td><td>Brazil</td><td>Presidente Prudente, São Paulo</td><td>Grêmio Prudente</td></tr><tr><td>Estadio Atanasio Girardot</td><td>45,739</td><td>South America</td><td>Colombia</td><td>Medellín</td><td>Atlético Nacional,Independiente Medellín</td></tr><tr><td>Estadio Ramón Sánchez Pizjuán</td><td>45,500</td><td>Europe</td><td>Spain</td><td>Seville</td><td>Sevilla FC</td></tr><tr><td>Adrar Stadium</td><td>45,480</td><td>Africa</td><td>Morocco</td><td>Agadir</td><td>Hassania Agadir</td></tr><tr><td>Lukoil Arena</td><td>45,360</td><td>Europe</td><td>Russia</td><td>Moscow</td><td>Spartak Moscow</td></tr><tr><td>Grand stade de Marrakech</td><td>45,240</td><td>Africa</td><td>Morocco</td><td>Marrakesh</td><td>Kawkab Marrakech</td></tr><tr><td>Mandela National Stadium</td><td>45,202</td><td>Africa</td><td>Uganda</td><td>Kampala</td><td>Uganda national football team</td></tr><tr><td>Tarczyński Arena Wrocław</td><td>45,105</td><td>Europe</td><td>Poland</td><td>Wrocław</td><td>Śląsk Wrocław</td></tr><tr><td>Kazan Arena</td><td>45,105</td><td>Europe</td><td>Russia</td><td>Kazan</td><td>Rubin Kazan</td></tr><tr><td>Estadio Inca Garcilaso de la Vega</td><td>45,056</td><td>South America</td><td>Peru</td><td>Cusco</td><td>CS Cienciano,Deportivo Garcilaso,Cusco FC</td></tr><tr><td>Estádio da Machava</td><td>45,000</td><td>Africa</td><td>Mozambique</td><td>Maputo</td><td>Mozambique national football team</td></tr><tr><td>Stadion Gelora Bung Tomo</td><td>45,000</td><td>Southeast Asia</td><td>Indonesia</td><td>Surabaya, East Java</td><td>Persebaya Surabaya</td></tr><tr><td>Stadion Harapan Banga</td><td>45,000</td><td>Southeast Asia</td><td>Indonesia</td><td>Banda Aceh, Aceh</td><td>Persiraja,Aceh United</td></tr><tr><td>Estadio General Pablo Rojas</td><td>45,000</td><td>South America</td><td>Paraguay</td><td>Asunción</td><td>Club Cerro Porteño</td></tr><tr><td>Stade Mohammed V</td><td>45,000</td><td>Africa</td><td>Morocco</td><td>Casablanca</td><td>Wydad,Raja</td></tr><tr><td>Latakia Sports City Stadium</td><td>45,000</td><td>West Asia</td><td>Syria</td><td>Latakia</td><td></td></tr><tr><td>Zibo Sports Centre Stadium</td><td>45,000</td><td>East Asia</td><td>China</td><td>Zibo,Shandong</td><td></td></tr><tr><td>Weifang Sports Centre Stadium</td><td>45,000</td><td>East Asia</td><td>China</td><td>Weifang,Shandong</td><td></td></tr><tr><td>Yantai Sports Park Stadium</td><td>45,000</td><td>East Asia</td><td>China</td><td>Yantai,Shandong</td><td></td></tr><tr><td>Stadium Tuanku Abdul Rahman</td><td>45,000</td><td>Southeast Asia</td><td>Malaysia</td><td>Seremban</td><td>ATM FA,Negeri Sembilan</td></tr><tr><td>Stade du Complexe sportif de Fès</td><td>45,000</td><td>Africa</td><td>Morocco</td><td>Fes</td><td>Wydad de Fès,Maghreb de Fès</td></tr><tr><td>Lagos National Stadium</td><td>45,000</td><td>Africa</td><td>Nigeria</td><td>Lagos</td><td>Nigeria national football team</td></tr><tr><td>Egyptian Army Stadium</td><td>45,000</td><td>Africa</td><td>Egypt</td><td>Suez</td><td></td></tr><tr><td>Toyota Stadium</td><td>45,000</td><td>East Asia</td><td>Japan</td><td>Toyota City,Aichi</td><td>Nagoya Grampus,Toyota Verblitz</td></tr><tr><td>Zayed Sports City Stadium</td><td>45,000</td><td>West Asia</td><td>United Arab Emirates</td><td>Abu Dhabi</td><td></td></tr><tr><td>Red Bull Arena</td><td>44,345</td><td>Europe</td><td>Germany</td><td>Leipzig</td><td>RB Leipzig</td></tr><tr><td>Estádio Governador Alberto Tavares Silva</td><td>44,200</td><td>South America</td><td>Brazil</td><td>Teresina</td><td>River AC,EC Flamengo,Piauí EC,SE Tiradentes,Auto EC</td></tr><tr><td>Estádio Universitário Pedro Pedrossian</td><td>44,200</td><td>South America</td><td>Brazil</td><td>Campo Grande,Mato Grosso do Sul</td><td>EC Comercial,Operário FC</td></tr><tr><td>Ulsan Munsu Football Stadium</td><td>44,102</td><td>East Asia</td><td>South Korea</td><td>Ulsan</td><td>Ulsan HD FC</td></tr><tr><td>Arena Pantanal</td><td>44,097</td><td>South America</td><td>Brazil</td><td>Cuiabá, Mato Grosso</td><td>Cuiabá,Mixto EC</td></tr><tr><td>Arena da Amazônia</td><td>44,000</td><td>South America</td><td>Brazil</td><td>Manaus, Amazonas</td><td>Nacional FC</td></tr><tr><td>Suwon World Cup Stadium</td><td>43,959</td><td>East Asia</td><td>South Korea</td><td>Suwon</td><td>Suwon Samsung Bluewings</td></tr><tr><td>Stadion Utama Riau</td><td>43,923</td><td>Southeast Asia</td><td>Indonesia</td><td>Pekanbaru,Riau</td><td>PSPS Pekanbaru</td></tr><tr><td>Allianz Parque</td><td>43,713</td><td>South America</td><td>Brazil</td><td>São Paulo, São Paulo</td><td>SE Palmeiras</td></tr><tr><td>Shandong Provincial Stadium</td><td>43,700</td><td>East Asia</td><td>China</td><td>Jinan,Shandong</td><td></td></tr><tr><td>Polsat Plus Arena Gdańsk</td><td>43,615</td><td>Europe</td><td>Poland</td><td>Gdańsk</td><td>Lechia Gdańsk</td></tr><tr><td>Estadio Pedro Bidegain</td><td>43,494</td><td>South America</td><td>Argentina</td><td>Buenos Aires</td><td>CA San Lorenzo de Almagro</td></tr><tr><td>Stadion Miejski w Poznaniu</td><td>43,269</td><td>Europe</td><td>Poland</td><td>Poznań</td><td>Lech Poznań,Warta Poznań</td></tr><tr><td>Vasil Levski National Stadium</td><td>43,230</td><td>Europe</td><td>Bulgaria</td><td>Sofia</td><td>Bulgaria national football team</td></tr><tr><td>Estadio Universidad San Marcos</td><td>43,000</td><td>South America</td><td>Peru</td><td>Lima</td><td>Deportivo Universidad San Marcos</td></tr><tr><td>Ullevi</td><td>43,000</td><td>Europe</td><td>Sweden</td><td>Gothenburg</td><td>Sweden women's national football team</td></tr><tr><td>Jinzhou Binhai Sports Centre Stadium</td><td>43,000</td><td>East Asia</td><td>China</td><td>Jinzhou</td><td></td></tr><tr><td>Estadio General Santander</td><td>42,901</td><td>South America</td><td>Colombia</td><td>Cúcuta</td><td>Cúcuta Deportivo</td></tr><tr><td>Villa Park</td><td>42,682</td><td>Europe</td><td>England</td><td>Birmingham,West Midlands</td><td>Aston Villa</td></tr><tr><td>Perak Stadium</td><td>42,500</td><td>Southeast Asia</td><td>Malaysia</td><td>Perak</td><td>Perak FA</td></tr><tr><td>Jeonju World Cup Stadium</td><td>42,477</td><td>East Asia</td><td>South Korea</td><td>Jeonju</td><td>Jeonbuk Hyundai Motors FC</td></tr><tr><td>Ligga Arena</td><td>42,372</td><td>South America</td><td>Brazil</td><td>Curitiba,Paraná</td><td>Athletico Paranaense</td></tr><tr><td>Weserstadion</td><td>42,358</td><td>Europe</td><td>Germany</td><td>Bremen</td><td>SV Werder Bremen</td></tr><tr><td>Denka Big Swan Stadium</td><td>42,300</td><td>East Asia</td><td>Japan</td><td>Niigata, Niigata</td><td>Albirex Niigata</td></tr><tr><td>Estadio Olimpico Metropolitano de Mérida</td><td>42,200</td><td>South America</td><td>Venezuela</td><td>Mérida</td><td>Estudiantes de Mérida</td></tr><tr><td>Daejeon World Cup Stadium</td><td>42,176</td><td>East Asia</td><td>South Korea</td><td>Daejeon</td><td>Daejeon Citizen</td></tr><tr><td>Matmut ATLANTIQUE</td><td>42,115</td><td>Europe</td><td>France</td><td>Bordeaux</td><td>FC Girondins de Bordeaux</td></tr><tr><td>Helsingin Olympiastadion</td><td>42,062</td><td>Europe</td><td>Finland</td><td>Helsinki</td><td>Finland national football team</td></tr><tr><td>Estádio Serra Dourada</td><td>42,000</td><td>South America</td><td>Brazil</td><td>Goiânia,Goiás</td><td>Goiás Esporte Clube,Vila Nova,Atlético Goianiense</td></tr><tr><td>Estadio Deportivo Cali</td><td>42,000</td><td>South America</td><td>Colombia</td><td>Cali</td><td>Deportivo Cali</td></tr><tr><td>Estadio Modelo Alberto Spencer</td><td>42,000</td><td>South America</td><td>Ecuador</td><td>Guayaquil</td><td>Club Sport Patria,Club Deportivo Everest,Panamá Sporting Club,Rocafuerte Fútbol Club</td></tr><tr><td>Estádio do Zimpeto</td><td>42,000</td><td>Africa</td><td>Mozambique</td><td>Maputo</td><td>Mozambique national football team</td></tr><tr><td>Chengdu Sports Centre Stadium</td><td>42,000</td><td>East Asia</td><td>China</td><td>Chengdu,Sichuan</td><td></td></tr><tr><td>Royal Bafokeng Stadium</td><td>42,000</td><td>Africa</td><td>South Africa</td><td>Phokeng, North West</td><td></td></tr><tr><td>Estadio Universitario</td><td>42,000</td><td>North America</td><td>Mexico</td><td>San Nicolás de los Garza</td><td>Tigres de la UANL</td></tr><tr><td>Estadio Brigadier General Estanislao López</td><td>42,000</td><td>South America</td><td>Argentina</td><td>Santa Fe</td><td>Club Atlético Colón</td></tr><tr><td>Estadio Marcelo Bielsa</td><td>42,000</td><td>South America</td><td>Argentina</td><td>Rosario</td><td>Newell's Old Boys</td></tr><tr><td>Stade Geoffroy-Guichard</td><td>41,965</td><td>Europe</td><td>France</td><td>Saint-Étienne</td><td>AS Saint-Étienne</td></tr><tr><td>Vodafone Park</td><td>41,903</td><td>Europe</td><td>Turkey</td><td>Istanbul</td><td>Beşiktaş J.K.</td></tr><tr><td>Peter Mokaba Stadium</td><td>41,733</td><td>Africa</td><td>South Africa</td><td>Polokwane</td><td>Polokwane City FC</td></tr><tr><td>Estadio Gigante de Arroyito</td><td>41,654</td><td>South America</td><td>Argentina</td><td>Rosario</td><td>Rosario Central</td></tr><tr><td>Estadio Cachamay</td><td>41,600</td><td>South America</td><td>Venezuela</td><td>Ciudad Guayana</td><td>Atlético Club Mineros de Guayana,AC Minervén FC</td></tr><tr><td>Estadio de Liga Deportiva Universitaria</td><td>41,596</td><td>South America</td><td>Ecuador</td><td>Quito</td><td>LDU</td></tr><tr><td>Allianz Stadium</td><td>41,507</td><td>Europe</td><td>Italy</td><td>Turin, Piedmont</td><td>Juventus FC</td></tr><tr><td>Sapporo Dome</td><td>41,484</td><td>East Asia</td><td>Japan</td><td>Sapporo,Hokkaido</td><td>Hokkaido Consadole Sapporo</td></tr><tr><td>Stamford Bridge</td><td>41,663</td><td>Europe</td><td>England</td><td>London</td><td>Chelsea</td></tr><tr><td>Goyang Stadium</td><td>41,311</td><td>East Asia</td><td>South Korea</td><td>Goyang</td><td></td></tr><tr><td>Estadio Hernando Siles</td><td>41,143</td><td>South America</td><td>Bolivia</td><td>La Paz</td><td>La Paz FC,Club Bolívar,The Strongest</td></tr><tr><td>Bingu National Stadium</td><td>41,100</td><td>Africa</td><td>Malawi</td><td>Lilongwe</td><td>Flames,Big Bullets FC</td></tr><tr><td>Mbombela Stadium</td><td>40,929</td><td>Africa</td><td>South Africa</td><td>Nelspruit, Mpumalanga</td><td></td></tr><tr><td>Estadio José Pachencho Romero</td><td>40,800</td><td>South America</td><td>Venezuela</td><td>Maracaibo</td><td>Deportivo JBL del Zulia,Deportivo Rayo Zuliano</td></tr><tr><td>Stade Nelson Mandela</td><td>40,784</td><td>Africa</td><td>Algeria</td><td>Algiers</td><td>Algeria national football team</td></tr><tr><td>Kashima Football Stadium</td><td>40,728</td><td>East Asia</td><td>Japan</td><td>Kashima, Ibaraki</td><td>Kashima Antlers</td></tr><tr><td>Baba Yara Stadium</td><td>40,528</td><td>Africa</td><td>Ghana</td><td>Kumasi</td><td>Asante Kotoko,King Faisal Babes</td></tr><tr><td>Estádio Major Antônio Couto Pereira</td><td>40,502</td><td>South America</td><td>Brazil</td><td>Curitiba, Paraná</td><td>Coritiba Foot Ball Club</td></tr><tr><td>Stage Front Stadium</td><td>40,500</td><td>Europe</td><td>Spain</td><td>Barcelona</td><td>RCD Espanyol</td></tr><tr><td>Estadio Metropolitano de fútbol de Lara</td><td>40,312</td><td>South America</td><td>Venezuela</td><td>Barquisimeto</td><td>Unión Lara</td></tr><tr><td>Estadio Malvinas Argentinas</td><td>40,268</td><td>South America</td><td>Argentina</td><td>Mendoza</td><td>Godoy Cruz Antonio Tomba</td></tr><tr><td>Stadion Lukas Enembe</td><td>40,263</td><td>Southeast Asia</td><td>Indonesia</td><td>Nolokla</td><td>Persipura Jayapura</td></tr><tr><td>Gwangju World Cup Stadium</td><td>40,245</td><td>East Asia</td><td>South Korea</td><td>Gwangju</td><td>Gwangju FC</td></tr><tr><td>Sân vận động Quốc gia Mỹ Đình</td><td>40,192</td><td>Southeast Asia</td><td>Vietnam</td><td>Hanoi</td><td>Vietnam national football team</td></tr><tr><td>Goodison Park</td><td>40,157</td><td>Europe</td><td>England</td><td>Liverpool, North West</td><td>Everton FC</td></tr><tr><td>Estádio Governador João Castelo</td><td>40,149</td><td>South America</td><td>Brazil</td><td>São Luís, Maranhão</td><td>Sampaio Corrêa FC,Moto Club SL,Maranhão AC</td></tr><tr><td>Stade Miloud-Hadefi</td><td>40,143</td><td>Africa</td><td>Algeria</td><td>Oran</td><td>Algeria national football team,MC Oran</td></tr><tr><td>Estadio Campeón del Siglo</td><td>40,005</td><td>South America</td><td>Uruguay</td><td>Montevideo</td><td>Club Atlético Peñarol</td></tr><tr><td>Metalist Stadium</td><td>40,003</td><td>Europe</td><td>Ukraine</td><td>Kharkiv</td><td>FC Metalist Kharkiv,FC Shakhtar Donetsk</td></tr><tr><td>Al-Janoub Stadium</td><td>40,000</td><td>West Asia</td><td>Qatar</td><td>Al-Wakrah</td><td></td></tr><tr><td>Al-Thumama Stadium</td><td>40,000</td><td>West Asia</td><td>Qatar</td><td>Al-Thumama</td><td></td></tr><tr><td>Stade Ahmed-Zabana</td><td>40,000</td><td>Africa</td><td>Algeria</td><td>Oran</td><td>MC Oran</td></tr><tr><td>Stadion Batakan</td><td>40,000</td><td>Southeast Asia</td><td>Indonesia</td><td>Balikpapan, East Kalimantan</td><td>Persiba Balikpapan</td></tr><tr><td>Stadion Gelora Joko Samudro</td><td>40,000</td><td>Southeast Asia</td><td>Indonesia</td><td>Gresik, East Java</td><td>Gresik United</td></tr><tr><td>Fisht Olympic Stadium</td><td>40,000</td><td>Europe</td><td>Russia</td><td>Sochi</td><td></td></tr><tr><td>Rentschler Field</td><td>40,000</td><td>North America</td><td>United States</td><td>East Hartford, Connecticut</td><td></td></tr><tr><td>Jawaharlal Nehru Stadium</td><td>40,000</td><td>South Asia</td><td>India</td><td>Kochi</td><td>Kerala Blasters,India national football team</td></tr><tr><td>Hang Jebat Stadium</td><td>40,000</td><td>Southeast Asia</td><td>Malaysia</td><td>Malacca</td><td>Melaka United</td></tr><tr><td>Hong Kong Stadium</td><td>40,000</td><td>East Asia</td><td>Hong Kong</td><td>So Kon Po</td><td>South China AA</td></tr><tr><td>Stadium Negeri Pulau Pinang</td><td>40,000</td><td>Southeast Asia</td><td>Malaysia</td><td>Batu Kawan</td><td>Penang FA</td></tr><tr><td>Accra Sports Stadium</td><td>40,000</td><td>Africa</td><td>Ghana</td><td>Accra</td><td>Accra Hearts of Oak SC,Great Olympics</td></tr><tr><td>Sarawak Stadium</td><td>40,000</td><td>Southeast Asia</td><td>Malaysia</td><td>Kuching</td><td>Sarawak FA</td></tr><tr><td>Bogyoke Aung San Stadium</td><td>40,000</td><td>Southeast Asia</td><td>Myanmar</td><td>Yangon</td><td>Yangon United FC</td></tr><tr><td>Resonac Dome Ōita</td><td>40,000</td><td>East Asia</td><td>Japan</td><td>Ōita</td><td>Ōita Trinita</td></tr><tr><td>Stadium Darul Makmur</td><td>40,000</td><td>Southeast Asia</td><td>Malaysia</td><td>Kuantan</td><td>Pahang FA</td></tr><tr><td>Khalifa International Stadium</td><td>40,000</td><td>West Asia</td><td>Qatar</td><td>Doha</td><td>Qatar national football team</td></tr><tr><td>Stade de l’Amitié sino-gabonaise</td><td>40,000</td><td>Africa</td><td>Gabon</td><td>Libreville</td><td>Gabon national football team</td></tr><tr><td>Peoples Football Stadium</td><td>40,000</td><td>South Asia</td><td>Pakistan</td><td>Karachi</td><td>Pakistan national football team</td></tr><tr><td>JRD Tata Sports Complex Stadium</td><td>40,000</td><td>South Asia</td><td>India</td><td>Jamshedpur</td><td>Jamshedpur FC,Tata Football Academy</td></tr><tr><td>Bao'an Stadium</td><td>40,000</td><td>East Asia</td><td>China</td><td>Shenzhen,Guangdong</td><td></td></tr><tr><td>Kunming Tuodong Sports Centre Stadium</td><td>40,000</td><td>East Asia</td><td>China</td><td>Kunming,Yunnan</td><td>China national football team</td></tr><tr><td>Taizhou Sports Centre Stadium</td><td>40,000</td><td>East Asia</td><td>China</td><td>Taizhou,Zhejiang</td><td></td></tr><tr><td>Wuhu Olympic Stadium</td><td>40,000</td><td>East Asia</td><td>China</td><td>Wuhu,Anhui</td><td></td></tr><tr><td>Huizhou Olympic Stadium</td><td>40,000</td><td>East Asia</td><td>China</td><td>Huizhou,Guangdong</td><td></td></tr></tbody></table></div>"
      ]
     },
     "metadata": {
      "application/vnd.databricks.v1+output": {
       "addedWidgets": {},
       "aggData": [],
       "aggError": "",
       "aggOverflow": false,
       "aggSchema": [],
       "aggSeriesLimitReached": false,
       "aggType": "",
       "arguments": {},
       "columnCustomDisplayInfos": {},
       "data": [
        [
         "Rungrado 1st of May Stadium",
         "114,000",
         "East Asia",
         "North Korea",
         "Pyongyang",
         "Korea DPR national football team,Korea DPR women's national football team,April 25"
        ],
        [
         "Michigan Stadium",
         "107,601",
         "North America",
         "United States",
         "Ann Arbor, Michigan",
         "Michigan Wolverines football"
        ],
        [
         "Ohio Stadium",
         "102,780",
         "North America",
         "United States",
         "Columbus, Ohio",
         "Ohio State Buckeyes football"
        ],
        [
         "Melbourne Cricket Ground",
         "100,024",
         "Oceania",
         "Australia",
         "Melbourne,Victoria",
         "Australia national cricket team,Victoria cricket team,Melbourne Cricket Club,Melbourne Stars,Melbourne FC,Richmond FC,Collingwood FC,Hawthorn FC"
        ],
        [
         "Camp Nou",
         "99,354",
         "Europe",
         "Spain",
         "Barcelona, Catalonia",
         "FC Barcelona"
        ],
        [
         "Estadio Azteca",
         "95,500",
         "North America",
         "Mexico",
         "Mexico City",
         "Club América,Cruz Azul,Mexico national football team"
        ],
        [
         "FNB Stadium",
         "94,736",
         "Africa",
         "South Africa",
         "Johannesburg,Gauteng",
         "South Africa national football team,Kaizer Chiefs"
        ],
        [
         "New Administrative Capital Stadium",
         "93,940",
         "Africa",
         "Egypt",
         "New Administrative Capital",
         "Egypt national football team"
        ],
        [
         "Rose Bowl Stadium",
         "92,800",
         "North America",
         "United States",
         "Pasadena, California",
         "UCLA Bruins"
        ],
        [
         "Cotton Bowl Stadium",
         "92,100",
         "North America",
         "United States",
         "Dallas,Texas",
         ""
        ],
        [
         "Wembley Stadium",
         "90,000",
         "Europe",
         "England",
         "London, England",
         "England national football team"
        ],
        [
         "Lusail Stadium",
         "88,966",
         "West Asia",
         "Qatar",
         "Lusail",
         "Qatar national football team"
        ],
        [
         "Bukit Jalil National Stadium",
         "87,411",
         "Southeast Asia",
         "Malaysia",
         "Kuala Lumpur",
         "Malaysia national football team[13]"
        ],
        [
         "Borg el-Arab Stadium",
         "86,000",
         "Africa",
         "Egypt",
         "Alexandria",
         "Egypt national football team,Al Ittihad,Smouha"
        ],
        [
         "Estadio Santiago Bernabéu",
         "85,000",
         "Europe",
         "Spain",
         "Madrid",
         "Real Madrid"
        ],
        [
         "Estadio Mâs Monumental",
         "84,567",
         "South America",
         "Argentina",
         "Buenos Aires",
         "Argentina national football team,River Plate"
        ],
        [
         "Stadium Australia",
         "83,500",
         "Oceania",
         "Australia",
         "Sydney,New South Wales",
         "South Sydney Rabbitohs,Canterbury-Bankstown Bulldogs,New South Wales Blues,New South Wales Waratahs,Australia men's national soccer team,Australia national rugby union team"
        ],
        [
         "MetLife Stadium",
         "82,500",
         "North America",
         "United States",
         "East Rutherford, New Jersey",
         "New York Giants,New York Jets,United States men's national soccer team"
        ],
        [
         "Croke Park",
         "82,300",
         "Europe",
         "Ireland",
         "Dublin",
         "Gaelic Athletic Association,Dublin GAA"
        ],
        [
         "Jakarta International Stadium",
         "82,000",
         "Southeast Asia",
         "Indonesia",
         "Jakarta",
         "Persija Jakarta,Indonesia national football team"
        ],
        [
         "Lambeau Field",
         "81,441",
         "North America",
         "United States",
         "Green Bay, Wisconsin",
         "Green Bay Packers"
        ],
        [
         "Signal Iduna Park",
         "81,365",
         "Europe",
         "Germany",
         "Dortmund",
         "Borussia Dortmund"
        ],
        [
         "Stade de France",
         "81,338",
         "Europe",
         "France",
         "Saint-Denis",
         "France national football team"
        ],
        [
         "Grand Sports Arena of the Luzhniki Olympic Complex",
         "81,000",
         "Europe",
         "Russia",
         "Moscow",
         ""
        ],
        [
         "Shah Alam Stadium",
         "80,372",
         "Southeast Asia",
         "Malaysia",
         "Shah Alam, Selangor",
         "Selangor FA"
        ],
        [
         "Estadio Monumental",
         "80,093",
         "South America",
         "Peru",
         "Lima",
         "Club Universitario de Deportes"
        ],
        [
         "Stadio Giuseppe Meazza",
         "80,018",
         "Europe",
         "Italy",
         "Milan, Lombardy",
         "AC MilanandInternazionale"
        ],
        [
         "Guangdong Olympic Stadium",
         "80,012",
         "East Asia",
         "China",
         "Guangzhou,Guangdong",
         ""
        ],
        [
         "Hangzhou Olympic Sports Expo Centre Stadium",
         "80,000",
         "East Asia",
         "China",
         "Hangzhou,Zhejiang",
         ""
        ],
        [
         "AT&T Stadium",
         "80,000",
         "North America",
         "United States",
         "Arlington, Texas",
         "Dallas Cowboys,FC Dallas"
        ],
        [
         "Stade des Martyrs",
         "80,000",
         "Africa",
         "DR Congo",
         "Kinshasa",
         "Congo DR national football team"
        ],
        [
         "Stade Tata Raphaël",
         "80,000",
         "Africa",
         "DR Congo",
         "Kinshasa",
         "AS Vita Club,DC Motema Pembe"
        ],
        [
         "National Sports Stadium",
         "80,000",
         "Africa",
         "Zimbabwe",
         "Harare",
         "Zimbabwe national football team"
        ],
        [
         "Moi International Sports Centre",
         "80,000",
         "Africa",
         "Kenya",
         "Nairobi",
         "Kenya national football team"
        ],
        [
         "Beijing National Stadium",
         "80,000",
         "East Asia",
         "China",
         "Beijing",
         ""
        ],
        [
         "Stade Léopold Sédar Senghor",
         "80,000",
         "Africa",
         "Senegal",
         "Dakar",
         "Senegal national football team,ASC Jeanne d'Arc"
        ],
        [
         "Maracanã",
         "78,838",
         "South America",
         "Brazil",
         "Rio de Janeiro, Rio de Janeiro",
         "CR Flamengo,Fluminense FC,Botafogo FR,CR Vasco da Gama"
        ],
        [
         "Los Angeles Memorial Coliseum",
         "78,467",
         "North America",
         "United States",
         "Los Angeles, California",
         "USC Trojans"
        ],
        [
         "Azadi Stadium",
         "78,116",
         "West Asia",
         "Iran",
         "Tehran",
         "Iran national football team,Esteghlal FC,Persepolis FC"
        ],
        [
         "Stadion Utama Gelora Bung Karno",
         "77,193",
         "Southeast Asia",
         "Indonesia",
         "Jakarta",
         "Indonesia national football team,"
        ],
        [
         "Caesar's Superdome",
         "76,468",
         "North America",
         "United States",
         "New Orleans, Louisiana",
         "New Orleans Saints,Sugar Bowl"
        ],
        [
         "Arrowhead Stadium",
         "76,412",
         "North America",
         "United States",
         "Kansas City, Missouri",
         "Kansas City Chiefs"
        ],
        [
         "Empower Field",
         "76,125",
         "North America",
         "United States",
         "Denver",
         "Denver Broncos"
        ],
        [
         "Atatürk Olimpiyat Stadyumu",
         "76,092",
         "Europe",
         "Turkey",
         "Istanbul",
         ""
        ],
        [
         "Old Trafford",
         "76,000",
         "Europe",
         "England",
         "Manchester,North West England",
         "Manchester United"
        ],
        [
         "Allianz Arena",
         "75,024",
         "Europe",
         "Germany",
         "Munich",
         "FC Bayern Munich"
        ],
        [
         "Naghsh-e-Jahan Stadium",
         "75,000",
         "West Asia",
         "Iran",
         "Isfahan",
         "Sepahan FC"
        ],
        [
         "Bank of America Stadium",
         "74,867",
         "North America",
         "United States",
         "Charlotte, North Carolina",
         "Charlotte FC,Carolina Panthers"
        ],
        [
         "Principality Stadium",
         "74,500",
         "Europe",
         "Wales",
         "Cardiff",
         "Wales national rugby union team"
        ],
        [
         "Olympiastadion",
         "74,475",
         "Europe",
         "Germany",
         "Berlin",
         "Hertha BSC"
        ],
        [
         "Cairo International Stadium",
         "74,100",
         "Africa",
         "Egypt",
         "Cairo",
         "Egypt national football team,Al Ahly,Zamalek"
        ],
        [
         "FirstEnergy Stadium",
         "73,200",
         "North America",
         "United States",
         "Cleveland",
         "Cleveland Browns"
        ],
        [
         "Estádio Nacional Mané Garrincha",
         "72,788",
         "South America",
         "Brazil",
         "Brasília, Distrito Federal",
         "Brasília FC,Legião FC"
        ],
        [
         "Stadio Olimpico",
         "72,698",
         "Europe",
         "Italy",
         "Rome, Lazio",
         "AS Roma,Lazio"
        ],
        [
         "Nissan Stadium",
         "72,327",
         "East Asia",
         "Japan",
         "Yokohama, Kanagawa",
         "Yokohama F. Marinos,Yokohama Eagles"
        ],
        [
         "NRG Stadium",
         "72,220",
         "North America",
         "United States",
         "Houston, Texas",
         "Houston Texans,Houston Dynamo FC"
        ],
        [
         "Shanghai Stadium",
         "72,000",
         "East Asia",
         "China",
         "Shanghai",
         "Shanghai Shenhua"
        ],
        [
         "M&T Bank Stadium",
         "71,008",
         "North America",
         "United States",
         "Baltimore",
         "Baltimore Ravens"
        ],
        [
         "Mercedes-Benz Stadium",
         "71,000",
         "North America",
         "United States",
         "Atlanta, Georgia",
         "Atlanta United FC,Atlanta Falcons"
        ],
        [
         "Riyadh Air Metropolitano",
         "70,692",
         "Europe",
         "Spain",
         "Madrid",
         "Atlético de Madrid"
        ],
        [
         "Olympic National Sports Complex Stadium",
         "70,000",
         "Europe",
         "Ukraine",
         "Kyiv",
         "Ukraine national football team,FC Dynamo Kyiv"
        ],
        [
         "SoFi Stadium",
         "70,000",
         "North America",
         "United States",
         "Inglewood, California",
         ""
        ],
        [
         "Seoul Olympic Stadium",
         "69,950",
         "East Asia",
         "South Korea",
         "Seoul",
         ""
        ],
        [
         "Bakı Olimpiya stadionu",
         "69,870",
         "West Asia",
         "Azerbaijan",
         "Baku",
         "Azerbaijan national football team"
        ],
        [
         "Olympic Stadium",
         "69,618",
         "Europe",
         "Greece",
         "Marousi,Attica",
         "Greece national football team"
        ],
        [
         "Olympiastadion München",
         "69,250",
         "Europe",
         "Germany",
         "Munich",
         ""
        ],
        [
         "Lumen Field",
         "69,000",
         "North America",
         "United States",
         "Seattle, Washington",
         "Seattle Sounders FC,Seattle Seahawks"
        ],
        [
         "Estadio Olímpico Universitario",
         "68,954",
         "North America",
         "Mexico",
         "Mexico City",
         "UNAM Pumas"
        ],
        [
         "Gillette Stadium",
         "68,756",
         "North America",
         "United States",
         "Foxborough, Massachusetts",
         "New England Patriots,New England Revolution"
        ],
        [
         "King Abdullah Sports City Stadium",
         "68,560",
         "West Asia",
         "Saudi Arabia",
         "Jeddah",
         "Saudi Arabia national football team,Al-Ahli Saudi FC,Al-Ittihad Saudi Club"
        ],
        [
         "Lincoln Financial Field",
         "68,532",
         "North America",
         "United States",
         "Philadelphia",
         "Philadelphia Eagles,Temple Owls football"
        ],
        [
         "Levi's Stadium",
         "68,500",
         "North America",
         "United States",
         "Santa Clara, California",
         "San Francisco 49ers"
        ],
        [
         "Acrisure Stadium",
         "68,400",
         "North America",
         "United States",
         "Pittsburgh",
         "Pittsburgh Steelers,Pittsburgh Panthers football"
        ],
        [
         "Gazprom Arena",
         "68,134",
         "Europe",
         "Russia",
         "Saint Petersburg",
         "FC Zenit Saint Petersburg"
        ],
        [
         "Salt Lake Stadium",
         "68,000",
         "South Asia",
         "India",
         "Kolkata",
         "India national football team,Mohun Bagan Super Giant,East Bengal FC,Mohammedan SC"
        ],
        [
         "National Stadium",
         "68,000",
         "East Asia",
         "Japan",
         "Tokyo",
         ""
        ],
        [
         "TIAA Bank Field",
         "67,814",
         "North America",
         "United States",
         "Jacksonville, Florida",
         "Jacksonville Jaguars"
        ],
        [
         "Orange Vélodrome",
         "67,394",
         "Europe",
         "France",
         "Marseille",
         "Olympique de Marseille"
        ],
        [
         "Puskás Aréna",
         "67,215",
         "Europe",
         "Hungary",
         "Budapest",
         "Hungary national football team"
        ],
        [
         "Scottish Gas Murrayfield Stadium",
         "67,144",
         "Europe",
         "Scotland",
         "Edinburgh",
         "Scotland national rugby union team"
        ],
        [
         "Lucas Oil Stadium",
         "67,000",
         "North America",
         "United States",
         "Indianapolis, Indiana",
         "Indianapolis Colts"
        ],
        [
         "MorumBIS",
         "66,975",
         "South America",
         "Brazil",
         "São Paulo, São Paulo",
         "São Paulo FC"
        ],
        [
         "The Dome",
         "66,965",
         "North America",
         "United States",
         "St. Louis",
         "St. Louis BattleHawks"
        ],
        [
         "Yadegar-e-Emam Stadium",
         "66,833",
         "West Asia",
         "Iran",
         "Tabriz",
         "Tractor Sazi FC"
        ],
        [
         "Seoul World Cup Stadium",
         "66,704",
         "East Asia",
         "South Korea",
         "Seoul",
         "FC Seoul"
        ],
        [
         "US Bank Stadium",
         "66,655",
         "North America",
         "United States",
         "Minneapolis",
         "Minnesota Vikings"
        ],
        [
         "Daegu Stadium",
         "66,422",
         "East Asia",
         "South Korea",
         "Daegu",
         "Daegu FC"
        ],
        [
         "Workers' Stadium",
         "66,161",
         "East Asia",
         "China",
         "Beijing",
         "Beijing Guoan,China national football team"
        ],
        [
         "London Stadium",
         "66,000",
         "Europe",
         "England",
         "London",
         "West Ham United"
        ],
        [
         "Raymond James Stadium",
         "65,847",
         "North America",
         "United States",
         "Tampa, Florida",
         "Tampa Bay Buccaneers,South Florida Bulls football,Tampa Bay Vipers"
        ],
        [
         "Hard Rock Stadium",
         "65,326",
         "North America",
         "United States",
         "Miami Gardens, Florida",
         "Miami Dolphins,Miami Hurricanes football"
        ],
        [
         "Olympic Stadium",
         "65,255",
         "North America",
         "Canada",
         "Montreal, Quebec",
         "CF Montréal"
        ],
        [
         "Basra International Stadium",
         "65,227",
         "West Asia",
         "Iraq",
         "Basra",
         "Iraq national football team"
        ],
        [
         "Camping World Stadium",
         "65,000",
         "North America",
         "United States",
         "Orlando, Florida",
         ""
        ],
        [
         "Alamodome",
         "65,000",
         "North America",
         "United States",
         "San Antonio",
         "UTSA Roadrunners football"
        ],
        [
         "Ford Field",
         "65,000",
         "North America",
         "United States",
         "Detroit",
         "Detroit Lions"
        ],
        [
         "Stade Ibn Battuta",
         "65,000",
         "Africa",
         "Morocco",
         "Tangier",
         "IR Tanger"
        ],
        [
         "Estádio do Sport Lisboa e Benfica",
         "64,642",
         "Europe",
         "Portugal",
         "Lisbon",
         "Benfica"
        ],
        [
         "Stade du 5-juillet-1962",
         "64,000",
         "Africa",
         "Algeria",
         "Algiers",
         "Algeria national football team"
        ],
        [
         "Castelão",
         "63,903",
         "South America",
         "Brazil",
         "Fortaleza, Ceará",
         "Ceará SC,Fortaleza EC"
        ],
        [
         "Saitama Stadium 2002",
         "63,700",
         "East Asia",
         "Japan",
         "Saitama",
         "Urawa Red Diamonds,Saitama Wild Knights"
        ],
        [
         "Ellis Park Stadium",
         "62,567",
         "Africa",
         "South Africa",
         "Johannesburg, Gauteng",
         "Orlando Pirates FC,Emirates Johannesburg Lions"
        ],
        [
         "Tottenham Hotspur Stadium",
         "62,303",
         "Europe",
         "England",
         "London",
         "Tottenham Hotspur"
        ],
        [
         "VELTINS-Arena",
         "62,271",
         "Europe",
         "Germany",
         "Gelsenkirchen",
         "FC Schalke 04"
        ],
        [
         "Yizhong Sports Centre Stadium",
         "62,000",
         "East Asia",
         "China",
         "Qingdao,Shandong",
         "Qingdao Jonoon FC"
        ],
        [
         "Estádio Governador Magalhães Pinto",
         "61,846",
         "South America",
         "Brazil",
         "Belo Horizonte, Minas Gerais",
         "Atlético Mineiro,Cruzeiro EC"
        ],
        [
         "King Fahd International Stadium",
         "61,781",
         "West Asia",
         "Saudi Arabia",
         "Riyadh",
         "Saudi Arabia national football team,Al-Hilal,Al-Nassr,Al-Shabab"
        ],
        [
         "Soldier Field",
         "61,500",
         "North America",
         "United States",
         "Chicago",
         "Chicago Bears"
        ],
        [
         "Nanjing Olympic Sports Centre Stadium",
         "61,443",
         "East Asia",
         "China",
         "Nanjing,Jiangsu",
         ""
        ],
        [
         "Anfield",
         "61,276",
         "Europe",
         "England",
         "Liverpool, England",
         "Liverpool FC"
        ],
        [
         "Estadio Benito Villamarín",
         "60,720",
         "Europe",
         "Spain",
         "Seville",
         "Real Betis"
        ],
        [
         "Abuja Stadium",
         "60,491",
         "Africa",
         "Nigeria",
         "Abuja",
         "Nigeria national football team"
        ],
        [
         "MHPArena",
         "60,469",
         "Europe",
         "Germany",
         "Stuttgart",
         "VfB Stuttgart"
        ],
        [
         "Celtic Park",
         "60,411",
         "Europe",
         "Scotland",
         "Glasgow",
         "Celtic FC"
        ],
        [
         "Estadio de la UNSA",
         "60,370",
         "South America",
         "Peru",
         "Arequipa",
         "FBC Melgar"
        ],
        [
         "Emirates Stadium",
         "60,338",
         "Europe",
         "England",
         "London",
         "Arsenal"
        ],
        [
         "Shenzhen Universiade Sports Centre Stadium",
         "60,334",
         "East Asia",
         "China",
         "Shenzhen,Guangdong",
         ""
        ],
        [
         "Estadio Centenario",
         "60,235",
         "South America",
         "Uruguay",
         "Montevideo",
         "Uruguay national football team"
        ],
        [
         "Estádio José do Rego Maciel",
         "60,044",
         "South America",
         "Brazil",
         "Recife,Pernambuco",
         "Santa Cruz FC"
        ],
        [
         "Al-Bayt Stadium",
         "60,000",
         "West Asia",
         "Qatar",
         "Al-Khor",
         ""
        ],
        [
         "Benjamin Mkapa National Stadium",
         "60,000",
         "Africa",
         "Tanzania",
         "Dar es-Salaam",
         "Tanzania national football team,Young Africans"
        ],
        [
         "Hefei Olympic Sports Centre Stadium",
         "60,000",
         "East Asia",
         "China",
         "Hefei,Anhui",
         "Anhui Jiufang"
        ],
        [
         "Jaber al-Ahmad International Stadium",
         "60,000",
         "West Asia",
         "Kuwait",
         "Kuwait City",
         "Kuwait national football team"
        ],
        [
         "Hammadi Agrebi Stadium",
         "60,000",
         "Africa",
         "Tunisia",
         "Tunis",
         "Tunisia national football team"
        ],
        [
         "Jawaharlal Nehru Stadium",
         "60,000",
         "South Asia",
         "India",
         "New Delhi",
         ""
        ],
        [
         "Mogadishu Stadium",
         "60,000",
         "Africa",
         "Somalia",
         "Mogadishu",
         "Somalia national football team"
        ],
        [
         "National Heroes Stadium",
         "60,000",
         "Africa",
         "Zambia",
         "Lusaka",
         "Zambian national football team"
        ],
        [
         "Autzen Stadium",
         "60,000",
         "North America",
         "United States",
         "Eugene, Oregon",
         ""
        ],
        [
         "Odi Stadium",
         "60,000",
         "Africa",
         "South Africa",
         "Mabopane, Gauteng",
         ""
        ],
        [
         "Morodok Techo National Stadium",
         "60,000",
         "Southeast Asia",
         "Cambodia",
         "Phnom Penh",
         "Cambodia national football team"
        ],
        [
         "Shenyang Olympic Sports Centre Stadium",
         "60,000",
         "East Asia",
         "China",
         "Shenyang,Liaoning",
         ""
        ],
        [
         "Optus Stadium",
         "60,000",
         "Oceania",
         "Australia",
         "Perth, Western Australia",
         "Perth Glory FC,Fremantle Dockers,West Coast Eagles"
        ],
        [
         "Estadio Monumental Isidro Romero Carbo",
         "59,283",
         "South America",
         "Ecuador",
         "Guayaquil",
         "Barcelona Sporting Club"
        ],
        [
         "Groupama Stadium",
         "59,186",
         "Europe",
         "France",
         "Décines-Charpieu",
         "Olympique Lyonnais"
        ],
        [
         "Chongqing Olympic Sports Centre Stadium",
         "58,680",
         "East Asia",
         "China",
         "Chongqing",
         ""
        ],
        [
         "Kazimierz Górski National Stadium",
         "58,580",
         "Europe",
         "Poland",
         "Warsaw",
         "Poland national football team"
        ],
        [
         "Stadio San Nicola",
         "58,270",
         "Europe",
         "Italy",
         "Bari, Apulia",
         "SSC Bari"
        ],
        [
         "Commanders Field",
         "58,000",
         "North America",
         "United States",
         "Landover, Maryland",
         "Washington Commanders"
        ],
        [
         "Deutsche Bank Park",
         "58,000",
         "Europe",
         "Germany",
         "Frankfurt",
         "Eintracht Frankfurt"
        ],
        [
         "Estadio La Cartuja de Sevilla",
         "57,619",
         "Europe",
         "Spain",
         "Seville",
         ""
        ],
        [
         "Carter–Finley Stadium",
         "57,583",
         "North America",
         "United States",
         "Raleigh, North Carolina",
         "NC State Wolfpack football"
        ],
        [
         "La Bombonera",
         "57,200",
         "South America",
         "Argentina",
         "Buenos Aires",
         "CA Boca Juniors"
        ],
        [
         "Volksparkstadion",
         "57,030",
         "Europe",
         "Germany",
         "Hamburg",
         "Hamburger SV"
        ],
        [
         "Estadio Mario Alberto Kempes",
         "57,000",
         "South America",
         "Argentina",
         "Córdoba",
         "Talleres de Córdoba, someBelgrano de Córdobamatches."
        ],
        [
         "Jinan Olympic Sports Centre Stadium",
         "56,808",
         "East Asia",
         "China",
         "Jinan,Shandong",
         "Shandong Taishan"
        ],
        [
         "Estadio Jalisco",
         "56,713",
         "North America",
         "Mexico",
         "Guadalajara, Jalisco",
         "Atlas"
        ],
        [
         "Commonwealth Stadium",
         "56,302",
         "North America",
         "Canada",
         "Edmonton, Alberta",
         "Edmonton Elks,Canadian men'sandwomen'snational teams"
        ],
        [
         "Dodger Stadium",
         "56,000",
         "North America",
         "United States",
         "Los Angeles",
         "Los Angeles Dodgers"
        ],
        [
         "Stade du 19-mai-1956",
         "56,000",
         "Africa",
         "Algeria",
         "Annaba",
         "USM Annaba"
        ],
        [
         "Estadi Olímpic Lluís Companys",
         "55,926",
         "Europe",
         "Spain",
         "Barcelona, Catalonia",
         ""
        ],
        [
         "Arena do Grêmio",
         "55,662",
         "South America",
         "Brazil",
         "Porto Alegre, Rio Grande do Sul",
         "Grêmio FBPA"
        ],
        [
         "Arena Națională",
         "55,634",
         "Europe",
         "Romania",
         "Bucharest",
         "Romania national football team"
        ],
        [
         "Stadion Rajko Mitić",
         "55,538",
         "Europe",
         "Serbia",
         "Belgrade",
         "Red Star Belgrade,Serbia national football team"
        ],
        [
         "Stadion Śląski",
         "55,211",
         "Europe",
         "Poland",
         "Chorzów",
         "Poland national football team,Ruch Chorzów"
        ],
        [
         "Etihad Stadium",
         "55,097",
         "Europe",
         "England",
         "Manchester, North West England",
         "Manchester City"
        ],
        [
         "Mestalla",
         "55,000",
         "Europe",
         "Spain",
         "Valencia",
         "Valencia CF"
        ],
        [
         "National Stadium",
         "55,000",
         "Southeast Asia",
         "Singapore",
         "Singapore",
         "Singapore national football team"
        ],
        [
         "National Stadium",
         "55,000",
         "East Asia",
         "Taiwan",
         "Kaohsiung",
         "Chinese Taipei national football team"
        ],
        [
         "He Long Stadium",
         "55,000",
         "East Asia",
         "China",
         "Changsha,Hunan",
         ""
        ],
        [
         "Cape Town Stadium",
         "55,000",
         "Africa",
         "South Africa",
         "Cape Town, Western Cape",
         "Cape Town City FC,DHL Western Cape Stormers"
        ],
        [
         "Plovdiv Stadium",
         "55,000",
         "Europe",
         "Bulgaria",
         "Plovdiv",
         ""
        ],
        [
         "Bobby Dodd Stadium",
         "55,000",
         "North America",
         "United States",
         "Atlanta",
         "Georgia Tech Yellow Jackets football"
        ],
        [
         "Johan Cruijff Arena",
         "54,990",
         "Europe",
         "Netherlands",
         "Amsterdam",
         "AFC Ajax"
        ],
        [
         "Tianhe Stadium",
         "54,856",
         "East Asia",
         "China",
         "Guangzhou,Guangdong",
         ""
        ],
        [
         "Stadio Diego Armando Maradona",
         "54,726",
         "Europe",
         "Italy",
         "Naples",
         "SSC Napoli"
        ],
        [
         "Tianjin Olympic Sports Centre Stadium",
         "54,696",
         "East Asia",
         "China",
         "Tianjin",
         "Tianjin Teda"
        ],
        [
         "MERKUR SPIEL-ARENA",
         "54,600",
         "Europe",
         "Germany",
         "Düsseldorf",
         "Fortuna Düsseldorf"
        ],
        [
         "Boris Paitchadze Dinamo Arena",
         "54,549",
         "West Asia",
         "Georgia",
         "Tbilisi",
         "Georgia national football team,FC Dinamo Tbilisi"
        ],
        [
         "Wuhan Sports Centre Stadium",
         "54,357",
         "East Asia",
         "China",
         "Wuhan,Hubei",
         ""
        ],
        [
         "BC Place Stadium",
         "54,320",
         "North America",
         "Canada",
         "Vancouver, British Columbia",
         "Vancouver Whitecaps FC,BC Lions"
        ],
        [
         "Yankee Stadium",
         "54,251",
         "North America",
         "United States",
         "New York City",
         "New York Yankees,New York City FC"
        ],
        [
         "Hrazdan Stadium",
         "54,208",
         "West Asia",
         "Armenia",
         "Yerevan",
         "FC Ararat Yerevan,Ulisses FC"
        ],
        [
         "BORUSSIA-PARK",
         "54,057",
         "Europe",
         "Germany",
         "Mönchengladbach",
         "Borussia Mönchengladbach"
        ],
        [
         "Moses Mabhida Stadium",
         "54,000",
         "Africa",
         "South Africa",
         "Durban, KwaZulu-Natal",
         "AmaZulu FC,Cell C Durban Sharks"
        ],
        [
         "Busan Asiad Main Stadium",
         "53,864",
         "East Asia",
         "South Korea",
         "Busan",
         "Busan IPark"
        ],
        [
         "Estádio Estadual Jornalista Edgar Augusto Proença",
         "53,645",
         "South America",
         "Brazil",
         "Belém,Pará",
         "Paysandu SC,Clube do Remo,Tuna Luso Brasileira,SC Belem"
        ],
        [
         "Estadio Único Diego Armando Maradona",
         "53,600",
         "South America",
         "Argentina",
         "La Plata",
         ""
        ],
        [
         "Adelaide Oval",
         "53,500",
         "Oceania",
         "Australia",
         "Adelaide, South Australia",
         "Adelaide Crows,Port Adelaide Power"
        ],
        [
         "Docklands Stadium",
         "53,359",
         "Oceania",
         "Australia",
         "Melbourne, Victoria",
         "Western Bulldogs,Essendon,St. Kilda,Carlton,North Melbourne"
        ],
        [
         "Estádio Municipal João Havelange",
         "53,350",
         "South America",
         "Brazil",
         "Uberlândia, Minas Gerais",
         "Uberlânia EC"
        ],
        [
         "San Mamés",
         "53,332",
         "Europe",
         "Spain",
         "Bilbao",
         "Athletic Bilbao"
        ],
        [
         "Aleppo International Stadium",
         "53,200",
         "West Asia",
         "Syria",
         "Aleppo",
         "Al-Ittihad"
        ],
        [
         "Estadio Nacional",
         "53,086",
         "South America",
         "Peru",
         "Lima",
         "Peru national football team"
        ],
        [
         "Huanglong Stadium",
         "52,672",
         "East Asia",
         "China",
         "Hangzhou,Zhejiang",
         "Hangzhou FC"
        ],
        [
         "RAMS Park",
         "52,652",
         "Europe",
         "Turkey",
         "Istanbul",
         "Galatasaray"
        ],
        [
         "Suncorp Stadium",
         "52,500",
         "Oceania",
         "Australia",
         "Brisbane, Queensland",
         "Brisbane Broncos,Queensland Maroons,Brisbane Roar FC,Queensland Reds"
        ],
        [
         "St. James' Park",
         "52,405",
         "Europe",
         "England",
         "Newcastle upon Tyne, North East",
         "Newcastle United"
        ],
        [
         "Kings Park Stadium",
         "52,000",
         "Africa",
         "South Africa",
         "Durban, KwaZulu-Natal",
         "Lamontville Golden Arrows,Cell C Durban Sharks"
        ],
        [
         "Newlands Stadium",
         "51,900",
         "Africa",
         "South Africa",
         "Cape Town, Western Cape",
         ""
        ],
        [
         "Hampden Park",
         "51,866",
         "Europe",
         "Scotland",
         "Glasgow",
         "Scotland national football team,Queen's Park"
        ],
        [
         "Estadio Monumental de Maturín",
         "51,796",
         "South America",
         "Venezuela",
         "Maturín",
         "Monagas Sport Club"
        ],
        [
         "Loftus Versfeld Stadium",
         "51,762",
         "Africa",
         "South Africa",
         "Pretoria, Gauteng",
         "SuperSport UnitedandVodacom Pretoria Bulls"
        ],
        [
         "Aviva Stadium",
         "51,700",
         "Europe",
         "Ireland",
         "Dublin",
         "Leinster Rugby,Republic of Ireland national football team,Ireland national rugby union team"
        ],
        [
         "Guiyang Olympic Sports Centre Stadium",
         "51,638",
         "East Asia",
         "China",
         "Guiyang,Guizhou",
         ""
        ],
        [
         "Hohhot City Stadium",
         "51,632",
         "East Asia",
         "China",
         "Hohhot,Inner Mongolia",
         ""
        ],
        [
         "Rajamangala National Stadium",
         "51,552",
         "Southeast Asia",
         "Thailand",
         "Bangkok",
         "Thailand national football team"
        ],
        [
         "Donbass Arena",
         "51,504",
         "Europe",
         "Ukraine",
         "Donetsk",
         ""
        ],
        [
         "El Cilindro",
         "51,389",
         "South America",
         "Argentina",
         "Avellaneda",
         "Racing Club de Avellaneda"
        ],
        [
         "İzmir Atatürk Stadyumu",
         "51,295",
         "West Asia",
         "Turkey",
         "İzmir",
         "Altay SK,Göztepe AŞ"
        ],
        [
         "Stadion Feijenoord",
         "51,117",
         "Europe",
         "Netherlands",
         "Rotterdam",
         "Feyenoord"
        ],
        [
         "Estadio BBVA",
         "51,000",
         "North America",
         "Mexico",
         "Monterrey",
         "CF Monterrey"
        ],
        [
         "Ghadir Stadium",
         "51,000",
         "West Asia",
         "Iran",
         "Ahvaz",
         "Foolad FC"
        ],
        [
         "Estádio José Pinheiro Borda",
         "50,942",
         "South America",
         "Brazil",
         "Porto Alegre.Rio Grande do Sul",
         "SC Internacional"
        ],
        [
         "Ibrox Stadium",
         "50,817",
         "Europe",
         "Scotland",
         "Glasgow",
         "Rangers FC"
        ],
        [
         "Shizuoka Stadium",
         "50,889",
         "East Asia",
         "Japan",
         "Fukuroi, Shizuoka",
         "Júbilo Iwata,Shimizu S-Pulse,Shizuoka Blue Revs"
        ],
        [
         "Ernst-Happel-Stadion",
         "50,865",
         "Europe",
         "Austria",
         "Vienna",
         "Austria national football team"
        ],
        [
         "Huntington Bank Stadium",
         "50,805",
         "North America",
         "United States",
         "Minneapolis",
         "Minnesota Golden Gophers football"
        ],
        [
         "Estadio Cuauhtémoc",
         "50,754",
         "North America",
         "Mexico",
         "Puebla",
         "Puebla FC"
        ],
        [
         "Strawberry Arena",
         "50,653",
         "Europe",
         "Sweden",
         "Solna",
         "Sweden men's national football team,AIK Fotboll"
        ],
        [
         "Ülker Stadyumu",
         "50,509",
         "West Asia",
         "Turkey",
         "Istanbul",
         "Fenerbahçe"
        ],
        [
         "Stanford Stadium",
         "50,424",
         "North America",
         "United States",
         "Palo Alto, California",
         ""
        ],
        [
         "Stade Pierre-Mauroy",
         "50,186",
         "Europe",
         "France",
         "Villeneuve-d'Ascq",
         "Lille OSC"
        ],
        [
         "Stade Roi Baudouin",
         "50,122",
         "Europe",
         "Belgium",
         "Brussels",
         "Belgium national football team"
        ],
        [
         "Shaanxi Province Stadium",
         "50,100",
         "East Asia",
         "China",
         "Xi'an,Shaanxi",
         ""
        ],
        [
         "Ajinomoto Stadium",
         "50,100",
         "East Asia",
         "Japan",
         "Chofu, Tokyo",
         "FC Tokyo,Tokyo Verdy,Tokyo Sungoliath,Toshiba Brave Lupus Tokyo"
        ],
        [
         "Estádio José Alvalade",
         "50,095",
         "Europe",
         "Portugal",
         "Lisbon",
         "Sporting CP"
        ],
        [
         "Estádio do Dragão",
         "50,033",
         "Europe",
         "Portugal",
         "Porto",
         "FC Porto"
        ],
        [
         "Casa de Apostas Arena Fonte Nova",
         "50,025",
         "South America",
         "Brazil",
         "Salvador, Bahia",
         "EC Bahia"
        ],
        [
         "Stade Olympique de Sousse",
         "50,000",
         "Africa",
         "Tunisia",
         "Sousse",
         "Étoile du Sahel"
        ],
        [
         "RheinEnergieSTADION",
         "50,000",
         "Europe",
         "Germany",
         "Cologne",
         "1. FC Köln"
        ],
        [
         "Harbin Sports City Centre Stadium",
         "50,000",
         "East Asia",
         "China",
         "Harbin,Heilongjiang",
         ""
        ],
        [
         "Greenfield International Stadium",
         "50,000",
         "South Asia",
         "India",
         "Trivandrum",
         ""
        ],
        [
         "EMS Stadium",
         "50,000",
         "South Asia",
         "India",
         "Kozhikode",
         "India national football team,Gokulam Kerala FC"
        ],
        [
         "KD Singh Babu Stadium",
         "50,000",
         "South Asia",
         "India",
         "Lucknow",
         ""
        ],
        [
         "Eden Park",
         "50,000",
         "Oceania",
         "New Zealand",
         "Auckland",
         "Auckland Blues,New Zealand Warriors"
        ],
        [
         "Estádio 11 de Novembro",
         "50,000",
         "Africa",
         "Angola",
         "Luanda",
         "Angola national football team,Primeiro de Agosto,Petro Luanda"
        ],
        [
         "Henan Provincial Stadium",
         "50,000",
         "East Asia",
         "China",
         "Zhengzhou,Henan",
         ""
        ],
        [
         "Jiangxi Olympic Sports Center",
         "50,000",
         "East Asia",
         "China",
         "Nanchang,Jiangxi",
         ""
        ],
        [
         "Max-Morlock-Stadion",
         "50,000",
         "Europe",
         "Germany",
         "Nuremberg",
         "1. FC Nürnberg"
        ],
        [
         "June 11 Stadium",
         "50,000",
         "Africa",
         "Libya",
         "Tripoli",
         "Libya,Al-Ahly SC,Al-Ittihad Tripoli,Al-Madina SC"
        ],
        [
         "Xinjiang Sports Centre Stadium",
         "50,000",
         "East Asia",
         "China",
         "Urumqi,Xinjiang",
         ""
        ],
        [
         "Kim Il-sung Stadium",
         "50,000",
         "East Asia",
         "North Korea",
         "Pyongyang",
         "Pyongyang City Sports Club"
        ],
        [
         "EDION Stadium Hiroshima",
         "50,000",
         "East Asia",
         "Japan",
         "Hiroshima",
         "Sanfrecce Hiroshima"
        ],
        [
         "Pars Shiraz Stadium",
         "50,000",
         "West Asia",
         "Iran",
         "Shiraz",
         "Fajr Sepasi Shiraz FC"
        ],
        [
         "Stade du 26 mars",
         "50,000",
         "Africa",
         "Mali",
         "Bamako",
         "Stade Malien"
        ],
        [
         "Stade Abdoulaye Wade",
         "50,000",
         "Africa",
         "Senegal",
         "Dakar",
         "Senegal national football team"
        ],
        [
         "Sultan Mizan Zainal Abidin Stadium",
         "50,000",
         "Southeast Asia",
         "Malaysia",
         "Kuala Terengganu",
         "Terengganu FA"
        ],
        [
         "Estadio Akron",
         "49,850",
         "North America",
         "Mexico",
         "Guadalajara",
         "C.D. Guadalajara"
        ],
        [
         "Levy Mwanawasa Stadium",
         "49,800",
         "Africa",
         "Zambia",
         "Lusaka",
         "Zesco United"
        ],
        [
         "Fritz-Walter-Stadion",
         "49,780",
         "Europe",
         "Germany",
         "Kaiserslautern",
         "1. FC Kaiserslautern"
        ],
        [
         "Estadio José Amalfitani",
         "49,540",
         "South America",
         "Argentina",
         "Buenos Aires",
         "CA Vélez Sársfield"
        ],
        [
         "Camille Chamoun Sports City Stadium",
         "49,500",
         "West Asia",
         "Lebanon",
         "Beirut",
         "Lebanon national football team,Al Ahed FC,Al Ansar FC,Nejmeh SC"
        ],
        [
         "Miyagi Stadium",
         "49,133",
         "East Asia",
         "Japan",
         "Rifu, Miyagi",
         "Vegalta Sendai"
        ],
        [
         "Incheon Munhak Stadium",
         "49,084",
         "East Asia",
         "South Korea",
         "Incheon",
         ""
        ],
        [
         "Heinz-von-Heiden-Arena",
         "49,000",
         "Europe",
         "Germany",
         "Hanover",
         "Hannover 96"
        ],
        [
         "Parc des Princes",
         "48,712",
         "Europe",
         "France",
         "Paris",
         "Paris Saint-Germain"
        ],
        [
         "Stadium of Light",
         "48,707",
         "Europe",
         "England",
         "Sunderland, Tyne and Wear",
         "Sunderland AFC"
        ],
        [
         "Estadio Nacional",
         "48,665",
         "South America",
         "Chile",
         "Santiago",
         "Chile national football team,CF Universidad de Chile"
        ],
        [
         "Nelson Mandela Bay Stadium",
         "48,459",
         "Africa",
         "South Africa",
         "Port Elizabeth, Eastern Cape",
         "Chippa United FC"
        ],
        [
         "Estadio Tomás Adolfo Ducó",
         "48,314",
         "South America",
         "Argentina",
         "Buenos Aires",
         "CA Huracán"
        ],
        [
         "Jinnah Sports Stadium",
         "48,200",
         "South Asia",
         "Pakistan",
         "Islamabad",
         "Pakistan national football team"
        ],
        [
         "Estadio Libertadores de América",
         "48,069",
         "South America",
         "Argentina",
         "Avellaneda",
         "Club Atlético Independiente"
        ],
        [
         "Free State Stadium",
         "48,000",
         "Africa",
         "South Africa",
         "Bloemfontein, Free State",
         "Bloemfontein Celtic,Toyota Cheetahs"
        ],
        [
         "Nagai Stadium",
         "47,816",
         "East Asia",
         "Japan",
         "Osaka",
         "Cerezo Osaka,NTT DoCoMo Red Hurricanes Osaka"
        ],
        [
         "Neo Química Arena",
         "47,605",
         "South America",
         "Brazil",
         "São Paulo, São Paulo",
         "Corinthians"
        ],
        [
         "Rogers Centre",
         "47,568",
         "North America",
         "Canada",
         "Toronto, Ontario",
         "Toronto FC,Toronto Argonauts"
        ],
        [
         "Estadio Monumental",
         "47,347",
         "South America",
         "Chile",
         "Santiago",
         "Colo-Colo"
        ],
        [
         "Stadio Artemio Franchi",
         "47,282",
         "Europe",
         "Italy",
         "Florence",
         "ACF Fiorentina"
        ],
        [
         "Estadio Ciudad de Lanús – Néstor Díaz Pérez",
         "47,027",
         "South America",
         "Argentina",
         "Lanús",
         "CA Lanús"
        ],
        [
         "Estadio Metropolitano Roberto Meléndez",
         "46,788",
         "South America",
         "Colombia",
         "Barranquilla",
         "Colombia national football team,Atlético Junior"
        ],
        [
         "Estádio Olímpico Nilton Santos",
         "46,831",
         "South America",
         "Brazil",
         "Rio de Janeiro, Rio de Janeiro",
         "Botafogo FR"
        ],
        [
         "Itaipava Arena Pernambuco",
         "46,154",
         "South America",
         "Brazil",
         "São Lourenço da Mata,Pernambuco",
         "Náutico"
        ],
        [
         "Arena MRV",
         "46,000",
         "South America",
         "Brazil",
         "Belo Horizonte,Minas Gerais",
         "C Atlético Mineiro"
        ],
        [
         "Estádio Paulo Constantino",
         "45,954",
         "South America",
         "Brazil",
         "Presidente Prudente, São Paulo",
         "Grêmio Prudente"
        ],
        [
         "Estadio Atanasio Girardot",
         "45,739",
         "South America",
         "Colombia",
         "Medellín",
         "Atlético Nacional,Independiente Medellín"
        ],
        [
         "Estadio Ramón Sánchez Pizjuán",
         "45,500",
         "Europe",
         "Spain",
         "Seville",
         "Sevilla FC"
        ],
        [
         "Adrar Stadium",
         "45,480",
         "Africa",
         "Morocco",
         "Agadir",
         "Hassania Agadir"
        ],
        [
         "Lukoil Arena",
         "45,360",
         "Europe",
         "Russia",
         "Moscow",
         "Spartak Moscow"
        ],
        [
         "Grand stade de Marrakech",
         "45,240",
         "Africa",
         "Morocco",
         "Marrakesh",
         "Kawkab Marrakech"
        ],
        [
         "Mandela National Stadium",
         "45,202",
         "Africa",
         "Uganda",
         "Kampala",
         "Uganda national football team"
        ],
        [
         "Tarczyński Arena Wrocław",
         "45,105",
         "Europe",
         "Poland",
         "Wrocław",
         "Śląsk Wrocław"
        ],
        [
         "Kazan Arena",
         "45,105",
         "Europe",
         "Russia",
         "Kazan",
         "Rubin Kazan"
        ],
        [
         "Estadio Inca Garcilaso de la Vega",
         "45,056",
         "South America",
         "Peru",
         "Cusco",
         "CS Cienciano,Deportivo Garcilaso,Cusco FC"
        ],
        [
         "Estádio da Machava",
         "45,000",
         "Africa",
         "Mozambique",
         "Maputo",
         "Mozambique national football team"
        ],
        [
         "Stadion Gelora Bung Tomo",
         "45,000",
         "Southeast Asia",
         "Indonesia",
         "Surabaya, East Java",
         "Persebaya Surabaya"
        ],
        [
         "Stadion Harapan Banga",
         "45,000",
         "Southeast Asia",
         "Indonesia",
         "Banda Aceh, Aceh",
         "Persiraja,Aceh United"
        ],
        [
         "Estadio General Pablo Rojas",
         "45,000",
         "South America",
         "Paraguay",
         "Asunción",
         "Club Cerro Porteño"
        ],
        [
         "Stade Mohammed V",
         "45,000",
         "Africa",
         "Morocco",
         "Casablanca",
         "Wydad,Raja"
        ],
        [
         "Latakia Sports City Stadium",
         "45,000",
         "West Asia",
         "Syria",
         "Latakia",
         ""
        ],
        [
         "Zibo Sports Centre Stadium",
         "45,000",
         "East Asia",
         "China",
         "Zibo,Shandong",
         ""
        ],
        [
         "Weifang Sports Centre Stadium",
         "45,000",
         "East Asia",
         "China",
         "Weifang,Shandong",
         ""
        ],
        [
         "Yantai Sports Park Stadium",
         "45,000",
         "East Asia",
         "China",
         "Yantai,Shandong",
         ""
        ],
        [
         "Stadium Tuanku Abdul Rahman",
         "45,000",
         "Southeast Asia",
         "Malaysia",
         "Seremban",
         "ATM FA,Negeri Sembilan"
        ],
        [
         "Stade du Complexe sportif de Fès",
         "45,000",
         "Africa",
         "Morocco",
         "Fes",
         "Wydad de Fès,Maghreb de Fès"
        ],
        [
         "Lagos National Stadium",
         "45,000",
         "Africa",
         "Nigeria",
         "Lagos",
         "Nigeria national football team"
        ],
        [
         "Egyptian Army Stadium",
         "45,000",
         "Africa",
         "Egypt",
         "Suez",
         ""
        ],
        [
         "Toyota Stadium",
         "45,000",
         "East Asia",
         "Japan",
         "Toyota City,Aichi",
         "Nagoya Grampus,Toyota Verblitz"
        ],
        [
         "Zayed Sports City Stadium",
         "45,000",
         "West Asia",
         "United Arab Emirates",
         "Abu Dhabi",
         ""
        ],
        [
         "Red Bull Arena",
         "44,345",
         "Europe",
         "Germany",
         "Leipzig",
         "RB Leipzig"
        ],
        [
         "Estádio Governador Alberto Tavares Silva",
         "44,200",
         "South America",
         "Brazil",
         "Teresina",
         "River AC,EC Flamengo,Piauí EC,SE Tiradentes,Auto EC"
        ],
        [
         "Estádio Universitário Pedro Pedrossian",
         "44,200",
         "South America",
         "Brazil",
         "Campo Grande,Mato Grosso do Sul",
         "EC Comercial,Operário FC"
        ],
        [
         "Ulsan Munsu Football Stadium",
         "44,102",
         "East Asia",
         "South Korea",
         "Ulsan",
         "Ulsan HD FC"
        ],
        [
         "Arena Pantanal",
         "44,097",
         "South America",
         "Brazil",
         "Cuiabá, Mato Grosso",
         "Cuiabá,Mixto EC"
        ],
        [
         "Arena da Amazônia",
         "44,000",
         "South America",
         "Brazil",
         "Manaus, Amazonas",
         "Nacional FC"
        ],
        [
         "Suwon World Cup Stadium",
         "43,959",
         "East Asia",
         "South Korea",
         "Suwon",
         "Suwon Samsung Bluewings"
        ],
        [
         "Stadion Utama Riau",
         "43,923",
         "Southeast Asia",
         "Indonesia",
         "Pekanbaru,Riau",
         "PSPS Pekanbaru"
        ],
        [
         "Allianz Parque",
         "43,713",
         "South America",
         "Brazil",
         "São Paulo, São Paulo",
         "SE Palmeiras"
        ],
        [
         "Shandong Provincial Stadium",
         "43,700",
         "East Asia",
         "China",
         "Jinan,Shandong",
         ""
        ],
        [
         "Polsat Plus Arena Gdańsk",
         "43,615",
         "Europe",
         "Poland",
         "Gdańsk",
         "Lechia Gdańsk"
        ],
        [
         "Estadio Pedro Bidegain",
         "43,494",
         "South America",
         "Argentina",
         "Buenos Aires",
         "CA San Lorenzo de Almagro"
        ],
        [
         "Stadion Miejski w Poznaniu",
         "43,269",
         "Europe",
         "Poland",
         "Poznań",
         "Lech Poznań,Warta Poznań"
        ],
        [
         "Vasil Levski National Stadium",
         "43,230",
         "Europe",
         "Bulgaria",
         "Sofia",
         "Bulgaria national football team"
        ],
        [
         "Estadio Universidad San Marcos",
         "43,000",
         "South America",
         "Peru",
         "Lima",
         "Deportivo Universidad San Marcos"
        ],
        [
         "Ullevi",
         "43,000",
         "Europe",
         "Sweden",
         "Gothenburg",
         "Sweden women's national football team"
        ],
        [
         "Jinzhou Binhai Sports Centre Stadium",
         "43,000",
         "East Asia",
         "China",
         "Jinzhou",
         ""
        ],
        [
         "Estadio General Santander",
         "42,901",
         "South America",
         "Colombia",
         "Cúcuta",
         "Cúcuta Deportivo"
        ],
        [
         "Villa Park",
         "42,682",
         "Europe",
         "England",
         "Birmingham,West Midlands",
         "Aston Villa"
        ],
        [
         "Perak Stadium",
         "42,500",
         "Southeast Asia",
         "Malaysia",
         "Perak",
         "Perak FA"
        ],
        [
         "Jeonju World Cup Stadium",
         "42,477",
         "East Asia",
         "South Korea",
         "Jeonju",
         "Jeonbuk Hyundai Motors FC"
        ],
        [
         "Ligga Arena",
         "42,372",
         "South America",
         "Brazil",
         "Curitiba,Paraná",
         "Athletico Paranaense"
        ],
        [
         "Weserstadion",
         "42,358",
         "Europe",
         "Germany",
         "Bremen",
         "SV Werder Bremen"
        ],
        [
         "Denka Big Swan Stadium",
         "42,300",
         "East Asia",
         "Japan",
         "Niigata, Niigata",
         "Albirex Niigata"
        ],
        [
         "Estadio Olimpico Metropolitano de Mérida",
         "42,200",
         "South America",
         "Venezuela",
         "Mérida",
         "Estudiantes de Mérida"
        ],
        [
         "Daejeon World Cup Stadium",
         "42,176",
         "East Asia",
         "South Korea",
         "Daejeon",
         "Daejeon Citizen"
        ],
        [
         "Matmut ATLANTIQUE",
         "42,115",
         "Europe",
         "France",
         "Bordeaux",
         "FC Girondins de Bordeaux"
        ],
        [
         "Helsingin Olympiastadion",
         "42,062",
         "Europe",
         "Finland",
         "Helsinki",
         "Finland national football team"
        ],
        [
         "Estádio Serra Dourada",
         "42,000",
         "South America",
         "Brazil",
         "Goiânia,Goiás",
         "Goiás Esporte Clube,Vila Nova,Atlético Goianiense"
        ],
        [
         "Estadio Deportivo Cali",
         "42,000",
         "South America",
         "Colombia",
         "Cali",
         "Deportivo Cali"
        ],
        [
         "Estadio Modelo Alberto Spencer",
         "42,000",
         "South America",
         "Ecuador",
         "Guayaquil",
         "Club Sport Patria,Club Deportivo Everest,Panamá Sporting Club,Rocafuerte Fútbol Club"
        ],
        [
         "Estádio do Zimpeto",
         "42,000",
         "Africa",
         "Mozambique",
         "Maputo",
         "Mozambique national football team"
        ],
        [
         "Chengdu Sports Centre Stadium",
         "42,000",
         "East Asia",
         "China",
         "Chengdu,Sichuan",
         ""
        ],
        [
         "Royal Bafokeng Stadium",
         "42,000",
         "Africa",
         "South Africa",
         "Phokeng, North West",
         ""
        ],
        [
         "Estadio Universitario",
         "42,000",
         "North America",
         "Mexico",
         "San Nicolás de los Garza",
         "Tigres de la UANL"
        ],
        [
         "Estadio Brigadier General Estanislao López",
         "42,000",
         "South America",
         "Argentina",
         "Santa Fe",
         "Club Atlético Colón"
        ],
        [
         "Estadio Marcelo Bielsa",
         "42,000",
         "South America",
         "Argentina",
         "Rosario",
         "Newell's Old Boys"
        ],
        [
         "Stade Geoffroy-Guichard",
         "41,965",
         "Europe",
         "France",
         "Saint-Étienne",
         "AS Saint-Étienne"
        ],
        [
         "Vodafone Park",
         "41,903",
         "Europe",
         "Turkey",
         "Istanbul",
         "Beşiktaş J.K."
        ],
        [
         "Peter Mokaba Stadium",
         "41,733",
         "Africa",
         "South Africa",
         "Polokwane",
         "Polokwane City FC"
        ],
        [
         "Estadio Gigante de Arroyito",
         "41,654",
         "South America",
         "Argentina",
         "Rosario",
         "Rosario Central"
        ],
        [
         "Estadio Cachamay",
         "41,600",
         "South America",
         "Venezuela",
         "Ciudad Guayana",
         "Atlético Club Mineros de Guayana,AC Minervén FC"
        ],
        [
         "Estadio de Liga Deportiva Universitaria",
         "41,596",
         "South America",
         "Ecuador",
         "Quito",
         "LDU"
        ],
        [
         "Allianz Stadium",
         "41,507",
         "Europe",
         "Italy",
         "Turin, Piedmont",
         "Juventus FC"
        ],
        [
         "Sapporo Dome",
         "41,484",
         "East Asia",
         "Japan",
         "Sapporo,Hokkaido",
         "Hokkaido Consadole Sapporo"
        ],
        [
         "Stamford Bridge",
         "41,663",
         "Europe",
         "England",
         "London",
         "Chelsea"
        ],
        [
         "Goyang Stadium",
         "41,311",
         "East Asia",
         "South Korea",
         "Goyang",
         ""
        ],
        [
         "Estadio Hernando Siles",
         "41,143",
         "South America",
         "Bolivia",
         "La Paz",
         "La Paz FC,Club Bolívar,The Strongest"
        ],
        [
         "Bingu National Stadium",
         "41,100",
         "Africa",
         "Malawi",
         "Lilongwe",
         "Flames,Big Bullets FC"
        ],
        [
         "Mbombela Stadium",
         "40,929",
         "Africa",
         "South Africa",
         "Nelspruit, Mpumalanga",
         ""
        ],
        [
         "Estadio José Pachencho Romero",
         "40,800",
         "South America",
         "Venezuela",
         "Maracaibo",
         "Deportivo JBL del Zulia,Deportivo Rayo Zuliano"
        ],
        [
         "Stade Nelson Mandela",
         "40,784",
         "Africa",
         "Algeria",
         "Algiers",
         "Algeria national football team"
        ],
        [
         "Kashima Football Stadium",
         "40,728",
         "East Asia",
         "Japan",
         "Kashima, Ibaraki",
         "Kashima Antlers"
        ],
        [
         "Baba Yara Stadium",
         "40,528",
         "Africa",
         "Ghana",
         "Kumasi",
         "Asante Kotoko,King Faisal Babes"
        ],
        [
         "Estádio Major Antônio Couto Pereira",
         "40,502",
         "South America",
         "Brazil",
         "Curitiba, Paraná",
         "Coritiba Foot Ball Club"
        ],
        [
         "Stage Front Stadium",
         "40,500",
         "Europe",
         "Spain",
         "Barcelona",
         "RCD Espanyol"
        ],
        [
         "Estadio Metropolitano de fútbol de Lara",
         "40,312",
         "South America",
         "Venezuela",
         "Barquisimeto",
         "Unión Lara"
        ],
        [
         "Estadio Malvinas Argentinas",
         "40,268",
         "South America",
         "Argentina",
         "Mendoza",
         "Godoy Cruz Antonio Tomba"
        ],
        [
         "Stadion Lukas Enembe",
         "40,263",
         "Southeast Asia",
         "Indonesia",
         "Nolokla",
         "Persipura Jayapura"
        ],
        [
         "Gwangju World Cup Stadium",
         "40,245",
         "East Asia",
         "South Korea",
         "Gwangju",
         "Gwangju FC"
        ],
        [
         "Sân vận động Quốc gia Mỹ Đình",
         "40,192",
         "Southeast Asia",
         "Vietnam",
         "Hanoi",
         "Vietnam national football team"
        ],
        [
         "Goodison Park",
         "40,157",
         "Europe",
         "England",
         "Liverpool, North West",
         "Everton FC"
        ],
        [
         "Estádio Governador João Castelo",
         "40,149",
         "South America",
         "Brazil",
         "São Luís, Maranhão",
         "Sampaio Corrêa FC,Moto Club SL,Maranhão AC"
        ],
        [
         "Stade Miloud-Hadefi",
         "40,143",
         "Africa",
         "Algeria",
         "Oran",
         "Algeria national football team,MC Oran"
        ],
        [
         "Estadio Campeón del Siglo",
         "40,005",
         "South America",
         "Uruguay",
         "Montevideo",
         "Club Atlético Peñarol"
        ],
        [
         "Metalist Stadium",
         "40,003",
         "Europe",
         "Ukraine",
         "Kharkiv",
         "FC Metalist Kharkiv,FC Shakhtar Donetsk"
        ],
        [
         "Al-Janoub Stadium",
         "40,000",
         "West Asia",
         "Qatar",
         "Al-Wakrah",
         ""
        ],
        [
         "Al-Thumama Stadium",
         "40,000",
         "West Asia",
         "Qatar",
         "Al-Thumama",
         ""
        ],
        [
         "Stade Ahmed-Zabana",
         "40,000",
         "Africa",
         "Algeria",
         "Oran",
         "MC Oran"
        ],
        [
         "Stadion Batakan",
         "40,000",
         "Southeast Asia",
         "Indonesia",
         "Balikpapan, East Kalimantan",
         "Persiba Balikpapan"
        ],
        [
         "Stadion Gelora Joko Samudro",
         "40,000",
         "Southeast Asia",
         "Indonesia",
         "Gresik, East Java",
         "Gresik United"
        ],
        [
         "Fisht Olympic Stadium",
         "40,000",
         "Europe",
         "Russia",
         "Sochi",
         ""
        ],
        [
         "Rentschler Field",
         "40,000",
         "North America",
         "United States",
         "East Hartford, Connecticut",
         ""
        ],
        [
         "Jawaharlal Nehru Stadium",
         "40,000",
         "South Asia",
         "India",
         "Kochi",
         "Kerala Blasters,India national football team"
        ],
        [
         "Hang Jebat Stadium",
         "40,000",
         "Southeast Asia",
         "Malaysia",
         "Malacca",
         "Melaka United"
        ],
        [
         "Hong Kong Stadium",
         "40,000",
         "East Asia",
         "Hong Kong",
         "So Kon Po",
         "South China AA"
        ],
        [
         "Stadium Negeri Pulau Pinang",
         "40,000",
         "Southeast Asia",
         "Malaysia",
         "Batu Kawan",
         "Penang FA"
        ],
        [
         "Accra Sports Stadium",
         "40,000",
         "Africa",
         "Ghana",
         "Accra",
         "Accra Hearts of Oak SC,Great Olympics"
        ],
        [
         "Sarawak Stadium",
         "40,000",
         "Southeast Asia",
         "Malaysia",
         "Kuching",
         "Sarawak FA"
        ],
        [
         "Bogyoke Aung San Stadium",
         "40,000",
         "Southeast Asia",
         "Myanmar",
         "Yangon",
         "Yangon United FC"
        ],
        [
         "Resonac Dome Ōita",
         "40,000",
         "East Asia",
         "Japan",
         "Ōita",
         "Ōita Trinita"
        ],
        [
         "Stadium Darul Makmur",
         "40,000",
         "Southeast Asia",
         "Malaysia",
         "Kuantan",
         "Pahang FA"
        ],
        [
         "Khalifa International Stadium",
         "40,000",
         "West Asia",
         "Qatar",
         "Doha",
         "Qatar national football team"
        ],
        [
         "Stade de l’Amitié sino-gabonaise",
         "40,000",
         "Africa",
         "Gabon",
         "Libreville",
         "Gabon national football team"
        ],
        [
         "Peoples Football Stadium",
         "40,000",
         "South Asia",
         "Pakistan",
         "Karachi",
         "Pakistan national football team"
        ],
        [
         "JRD Tata Sports Complex Stadium",
         "40,000",
         "South Asia",
         "India",
         "Jamshedpur",
         "Jamshedpur FC,Tata Football Academy"
        ],
        [
         "Bao'an Stadium",
         "40,000",
         "East Asia",
         "China",
         "Shenzhen,Guangdong",
         ""
        ],
        [
         "Kunming Tuodong Sports Centre Stadium",
         "40,000",
         "East Asia",
         "China",
         "Kunming,Yunnan",
         "China national football team"
        ],
        [
         "Taizhou Sports Centre Stadium",
         "40,000",
         "East Asia",
         "China",
         "Taizhou,Zhejiang",
         ""
        ],
        [
         "Wuhu Olympic Stadium",
         "40,000",
         "East Asia",
         "China",
         "Wuhu,Anhui",
         ""
        ],
        [
         "Huizhou Olympic Stadium",
         "40,000",
         "East Asia",
         "China",
         "Huizhou,Guangdong",
         ""
        ]
       ],
       "datasetInfos": [],
       "dbfsResultPath": null,
       "isJsonSchema": true,
       "metadata": {},
       "overflow": false,
       "plotOptions": {
        "customPlotOptions": {},
        "displayType": "table",
        "pivotAggregation": null,
        "pivotColumns": null,
        "xColumns": null,
        "yColumns": null
       },
       "removedWidgets": [],
       "schema": [
        {
         "metadata": "{}",
         "name": "Stadium",
         "type": "\"string\""
        },
        {
         "metadata": "{}",
         "name": "Capacity",
         "type": "\"string\""
        },
        {
         "metadata": "{}",
         "name": "Region",
         "type": "\"string\""
        },
        {
         "metadata": "{}",
         "name": "Country",
         "type": "\"string\""
        },
        {
         "metadata": "{}",
         "name": "City",
         "type": "\"string\""
        },
        {
         "metadata": "{}",
         "name": "Clubs",
         "type": "\"string\""
        }
       ],
       "type": "table"
      }
     },
     "output_type": "display_data"
    }
   ],
   "source": [
    "import re\n",
    "\n",
    "# Eliminar '♦' en la columna 'Stadium'\n",
    "df_valid_rows['Stadium'] = df_valid_rows['Stadium'].str.replace('♦', '', regex=False)\n",
    "\n",
    "# Eliminar números entre corchetes en la columna 'Capacity'\n",
    "df_valid_rows['Capacity'] = df_valid_rows['Capacity'].str.replace(r'\\[\\d+\\]', '', regex=True)\n",
    "\n",
    "#Eliminar columna imagen\n",
    "df_valid_rows = df_valid_rows.drop(columns=['Image'])\n",
    "\n",
    "# Mostrar df\n",
    "df_valid_rows.display()\n"
   ]
  },
  {
   "cell_type": "code",
   "execution_count": 0,
   "metadata": {
    "application/vnd.databricks.v1+cell": {
     "cellMetadata": {
      "byteLimit": 2048000,
      "rowLimit": 10000
     },
     "inputWidgets": {},
     "nuid": "8d5e77b5-440b-42ec-a1f8-aec7b31c0fd2",
     "showTitle": false,
     "tableResultSettingsMap": {},
     "title": ""
    }
   },
   "outputs": [
    {
     "output_type": "stream",
     "name": "stdout",
     "output_type": "stream",
     "text": [
      "El archivo ha sido cargado correctamente a data/2024-12-04/stadiums.csv.\n"
     ]
    }
   ],
   "source": [
    "from azure.storage.filedatalake import DataLakeServiceClient\n",
    "import pandas as pd\n",
    "import io\n",
    "import datetime\n",
    "\n",
    "# Función para conectarse al servicio de Azure Data Lake usando la connection string\n",
    "def connect_to_datalake(connection_string):\n",
    "    try:\n",
    "        # Crear una instancia del cliente de DataLake usando la connection string\n",
    "        datalake_service_client = DataLakeServiceClient.from_connection_string(connection_string)\n",
    "        return datalake_service_client\n",
    "    except Exception as e:\n",
    "        print(f\"Error al conectarse a Azure Data Lake: {e}\")\n",
    "        return None\n",
    "\n",
    "# Cargar el DataFrame a Azure Data Lake\n",
    "def upload_dataframe_to_datalake(df, datalake_service_client, filesystem_name, file_path):\n",
    "    try:\n",
    "        # Acceder al filesystem de Azure Data Lake\n",
    "        filesystem_client = datalake_service_client.get_file_system_client(filesystem_name)\n",
    "        \n",
    "        # Crear o obtener el archivo\n",
    "        file_client = filesystem_client.get_file_client(file_path)\n",
    "        \n",
    "        # Convertir el DataFrame a CSV\n",
    "        csv_data = df.to_csv(index=False)\n",
    "\n",
    "        # Subir el CSV a Azure Data Lake\n",
    "        file_client.upload_data(csv_data, overwrite=True)\n",
    "        print(f\"El archivo ha sido cargado correctamente a {file_path}.\")\n",
    "    except Exception as e:\n",
    "        print(f\"Error al cargar el DataFrame a Data Lake: {e}\")\n",
    "\n",
    "# Parámetros de conexión\n",
    "current_date = datetime.datetime.now().strftime('%Y-%m-%d')\n",
    "\n",
    "connection_string = \"DefaultEndpointsProtocol=https;AccountName=pruebaa2004;AccountKey=LT/Tw4tgaj1oUCJ7GJOVs/WsAggss3MvlQH4UZccTaC/+BURWupADTeOpPZB29002/YKGeVeINq5+AStSmORbw==;EndpointSuffix=core.windows.net\"\n",
    "filesystem_name = \"container\"  # El contenedor de tu Data Lake\n",
    "file_path = f\"data/{current_date}/stadiums.csv\"  # La ruta dentro del contenedor donde guardarás el archivo\n",
    "\n",
    "# Conectar al DataLake\n",
    "datalake_service_client = connect_to_datalake(connection_string)\n",
    "\n",
    "if datalake_service_client:\n",
    "    # Cargar el DataFrame a Azure Data Lake\n",
    "    upload_dataframe_to_datalake(df_valid_rows, datalake_service_client, filesystem_name, file_path)\n"
   ]
  }
 ],
 "metadata": {
  "application/vnd.databricks.v1+notebook": {
   "dashboards": [],
   "environmentMetadata": null,
   "language": "python",
   "notebookMetadata": {
    "pythonIndentUnit": 4
   },
   "notebookName": "ETL_Wikipedia",
   "widgets": {}
  }
 },
 "nbformat": 4,
 "nbformat_minor": 0
}
